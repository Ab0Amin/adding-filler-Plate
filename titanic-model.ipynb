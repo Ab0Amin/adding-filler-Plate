{
 "cells": [
  {
   "cell_type": "code",
   "execution_count": 1,
   "id": "22a4d872",
   "metadata": {
    "_cell_guid": "b1076dfc-b9ad-4769-8c92-a6c4dae69d19",
    "_uuid": "8f2839f25d086af736a60e9eeb907d3b93b6e0e5",
    "execution": {
     "iopub.execute_input": "2022-10-27T16:57:22.814053Z",
     "iopub.status.busy": "2022-10-27T16:57:22.813308Z",
     "iopub.status.idle": "2022-10-27T16:57:22.822582Z",
     "shell.execute_reply": "2022-10-27T16:57:22.821694Z"
    },
    "papermill": {
     "duration": 0.052812,
     "end_time": "2022-10-27T16:57:22.825427",
     "exception": false,
     "start_time": "2022-10-27T16:57:22.772615",
     "status": "completed"
    },
    "tags": []
   },
   "outputs": [],
   "source": [
    "# This Python 3 environment comes with many helpful analytics libraries installed\n",
    "# It is defined by the kaggle/python Docker image: https://github.com/kaggle/docker-python\n",
    "# For example, here's several helpful packages to load\n",
    "\n",
    "import numpy as np # linear algebra\n",
    "import pandas as pd # data processing, CSV file I/O (e.g. pd.read_csv)\n",
    "\n",
    "# Input data files are available in the read-only \"../input/\" directory\n",
    "# For example, running this (by clicking run or pressing Shift+Enter) will list all files under the input directory\n",
    "\n",
    "\n",
    "# You can write up to 20GB to the current directory (/kaggle/working/) that gets preserved as output when you create a version using \"Save & Run All\" \n",
    "# You can also write temporary files to /kaggle/temp/, but they won't be saved outside of the current session"
   ]
  },
  {
   "cell_type": "code",
   "execution_count": 2,
   "id": "7970e56e",
   "metadata": {
    "execution": {
     "iopub.execute_input": "2022-10-27T16:57:22.904181Z",
     "iopub.status.busy": "2022-10-27T16:57:22.903814Z",
     "iopub.status.idle": "2022-10-27T16:57:23.952869Z",
     "shell.execute_reply": "2022-10-27T16:57:23.950995Z"
    },
    "papermill": {
     "duration": 1.091078,
     "end_time": "2022-10-27T16:57:23.955405",
     "exception": false,
     "start_time": "2022-10-27T16:57:22.864327",
     "status": "completed"
    },
    "tags": []
   },
   "outputs": [],
   "source": [
    "import seaborn as sns\n",
    "import matplotlib.pyplot as plt "
   ]
  },
  {
   "cell_type": "code",
   "execution_count": 3,
   "id": "3e628c53",
   "metadata": {
    "execution": {
     "iopub.execute_input": "2022-10-27T16:57:24.034541Z",
     "iopub.status.busy": "2022-10-27T16:57:24.034170Z",
     "iopub.status.idle": "2022-10-27T16:57:24.057452Z",
     "shell.execute_reply": "2022-10-27T16:57:24.056388Z"
    },
    "papermill": {
     "duration": 0.065608,
     "end_time": "2022-10-27T16:57:24.060006",
     "exception": false,
     "start_time": "2022-10-27T16:57:23.994398",
     "status": "completed"
    },
    "tags": []
   },
   "outputs": [],
   "source": [
    "train_data =pd.read_csv(\"/kaggle/input/titanic/train.csv\")"
   ]
  },
  {
   "cell_type": "code",
   "execution_count": 4,
   "id": "8dd99fb3",
   "metadata": {
    "execution": {
     "iopub.execute_input": "2022-10-27T16:57:24.141418Z",
     "iopub.status.busy": "2022-10-27T16:57:24.140998Z",
     "iopub.status.idle": "2022-10-27T16:57:24.175711Z",
     "shell.execute_reply": "2022-10-27T16:57:24.174629Z"
    },
    "papermill": {
     "duration": 0.078494,
     "end_time": "2022-10-27T16:57:24.178424",
     "exception": false,
     "start_time": "2022-10-27T16:57:24.099930",
     "status": "completed"
    },
    "tags": []
   },
   "outputs": [
    {
     "data": {
      "text/html": [
       "<div>\n",
       "<style scoped>\n",
       "    .dataframe tbody tr th:only-of-type {\n",
       "        vertical-align: middle;\n",
       "    }\n",
       "\n",
       "    .dataframe tbody tr th {\n",
       "        vertical-align: top;\n",
       "    }\n",
       "\n",
       "    .dataframe thead th {\n",
       "        text-align: right;\n",
       "    }\n",
       "</style>\n",
       "<table border=\"1\" class=\"dataframe\">\n",
       "  <thead>\n",
       "    <tr style=\"text-align: right;\">\n",
       "      <th></th>\n",
       "      <th>PassengerId</th>\n",
       "      <th>Survived</th>\n",
       "      <th>Pclass</th>\n",
       "      <th>Name</th>\n",
       "      <th>Sex</th>\n",
       "      <th>Age</th>\n",
       "      <th>SibSp</th>\n",
       "      <th>Parch</th>\n",
       "      <th>Ticket</th>\n",
       "      <th>Fare</th>\n",
       "      <th>Cabin</th>\n",
       "      <th>Embarked</th>\n",
       "    </tr>\n",
       "  </thead>\n",
       "  <tbody>\n",
       "    <tr>\n",
       "      <th>0</th>\n",
       "      <td>1</td>\n",
       "      <td>0</td>\n",
       "      <td>3</td>\n",
       "      <td>Braund, Mr. Owen Harris</td>\n",
       "      <td>male</td>\n",
       "      <td>22.0</td>\n",
       "      <td>1</td>\n",
       "      <td>0</td>\n",
       "      <td>A/5 21171</td>\n",
       "      <td>7.2500</td>\n",
       "      <td>NaN</td>\n",
       "      <td>S</td>\n",
       "    </tr>\n",
       "    <tr>\n",
       "      <th>1</th>\n",
       "      <td>2</td>\n",
       "      <td>1</td>\n",
       "      <td>1</td>\n",
       "      <td>Cumings, Mrs. John Bradley (Florence Briggs Th...</td>\n",
       "      <td>female</td>\n",
       "      <td>38.0</td>\n",
       "      <td>1</td>\n",
       "      <td>0</td>\n",
       "      <td>PC 17599</td>\n",
       "      <td>71.2833</td>\n",
       "      <td>C85</td>\n",
       "      <td>C</td>\n",
       "    </tr>\n",
       "    <tr>\n",
       "      <th>2</th>\n",
       "      <td>3</td>\n",
       "      <td>1</td>\n",
       "      <td>3</td>\n",
       "      <td>Heikkinen, Miss. Laina</td>\n",
       "      <td>female</td>\n",
       "      <td>26.0</td>\n",
       "      <td>0</td>\n",
       "      <td>0</td>\n",
       "      <td>STON/O2. 3101282</td>\n",
       "      <td>7.9250</td>\n",
       "      <td>NaN</td>\n",
       "      <td>S</td>\n",
       "    </tr>\n",
       "    <tr>\n",
       "      <th>3</th>\n",
       "      <td>4</td>\n",
       "      <td>1</td>\n",
       "      <td>1</td>\n",
       "      <td>Futrelle, Mrs. Jacques Heath (Lily May Peel)</td>\n",
       "      <td>female</td>\n",
       "      <td>35.0</td>\n",
       "      <td>1</td>\n",
       "      <td>0</td>\n",
       "      <td>113803</td>\n",
       "      <td>53.1000</td>\n",
       "      <td>C123</td>\n",
       "      <td>S</td>\n",
       "    </tr>\n",
       "    <tr>\n",
       "      <th>4</th>\n",
       "      <td>5</td>\n",
       "      <td>0</td>\n",
       "      <td>3</td>\n",
       "      <td>Allen, Mr. William Henry</td>\n",
       "      <td>male</td>\n",
       "      <td>35.0</td>\n",
       "      <td>0</td>\n",
       "      <td>0</td>\n",
       "      <td>373450</td>\n",
       "      <td>8.0500</td>\n",
       "      <td>NaN</td>\n",
       "      <td>S</td>\n",
       "    </tr>\n",
       "    <tr>\n",
       "      <th>...</th>\n",
       "      <td>...</td>\n",
       "      <td>...</td>\n",
       "      <td>...</td>\n",
       "      <td>...</td>\n",
       "      <td>...</td>\n",
       "      <td>...</td>\n",
       "      <td>...</td>\n",
       "      <td>...</td>\n",
       "      <td>...</td>\n",
       "      <td>...</td>\n",
       "      <td>...</td>\n",
       "      <td>...</td>\n",
       "    </tr>\n",
       "    <tr>\n",
       "      <th>886</th>\n",
       "      <td>887</td>\n",
       "      <td>0</td>\n",
       "      <td>2</td>\n",
       "      <td>Montvila, Rev. Juozas</td>\n",
       "      <td>male</td>\n",
       "      <td>27.0</td>\n",
       "      <td>0</td>\n",
       "      <td>0</td>\n",
       "      <td>211536</td>\n",
       "      <td>13.0000</td>\n",
       "      <td>NaN</td>\n",
       "      <td>S</td>\n",
       "    </tr>\n",
       "    <tr>\n",
       "      <th>887</th>\n",
       "      <td>888</td>\n",
       "      <td>1</td>\n",
       "      <td>1</td>\n",
       "      <td>Graham, Miss. Margaret Edith</td>\n",
       "      <td>female</td>\n",
       "      <td>19.0</td>\n",
       "      <td>0</td>\n",
       "      <td>0</td>\n",
       "      <td>112053</td>\n",
       "      <td>30.0000</td>\n",
       "      <td>B42</td>\n",
       "      <td>S</td>\n",
       "    </tr>\n",
       "    <tr>\n",
       "      <th>888</th>\n",
       "      <td>889</td>\n",
       "      <td>0</td>\n",
       "      <td>3</td>\n",
       "      <td>Johnston, Miss. Catherine Helen \"Carrie\"</td>\n",
       "      <td>female</td>\n",
       "      <td>NaN</td>\n",
       "      <td>1</td>\n",
       "      <td>2</td>\n",
       "      <td>W./C. 6607</td>\n",
       "      <td>23.4500</td>\n",
       "      <td>NaN</td>\n",
       "      <td>S</td>\n",
       "    </tr>\n",
       "    <tr>\n",
       "      <th>889</th>\n",
       "      <td>890</td>\n",
       "      <td>1</td>\n",
       "      <td>1</td>\n",
       "      <td>Behr, Mr. Karl Howell</td>\n",
       "      <td>male</td>\n",
       "      <td>26.0</td>\n",
       "      <td>0</td>\n",
       "      <td>0</td>\n",
       "      <td>111369</td>\n",
       "      <td>30.0000</td>\n",
       "      <td>C148</td>\n",
       "      <td>C</td>\n",
       "    </tr>\n",
       "    <tr>\n",
       "      <th>890</th>\n",
       "      <td>891</td>\n",
       "      <td>0</td>\n",
       "      <td>3</td>\n",
       "      <td>Dooley, Mr. Patrick</td>\n",
       "      <td>male</td>\n",
       "      <td>32.0</td>\n",
       "      <td>0</td>\n",
       "      <td>0</td>\n",
       "      <td>370376</td>\n",
       "      <td>7.7500</td>\n",
       "      <td>NaN</td>\n",
       "      <td>Q</td>\n",
       "    </tr>\n",
       "  </tbody>\n",
       "</table>\n",
       "<p>891 rows × 12 columns</p>\n",
       "</div>"
      ],
      "text/plain": [
       "     PassengerId  Survived  Pclass  \\\n",
       "0              1         0       3   \n",
       "1              2         1       1   \n",
       "2              3         1       3   \n",
       "3              4         1       1   \n",
       "4              5         0       3   \n",
       "..           ...       ...     ...   \n",
       "886          887         0       2   \n",
       "887          888         1       1   \n",
       "888          889         0       3   \n",
       "889          890         1       1   \n",
       "890          891         0       3   \n",
       "\n",
       "                                                  Name     Sex   Age  SibSp  \\\n",
       "0                              Braund, Mr. Owen Harris    male  22.0      1   \n",
       "1    Cumings, Mrs. John Bradley (Florence Briggs Th...  female  38.0      1   \n",
       "2                               Heikkinen, Miss. Laina  female  26.0      0   \n",
       "3         Futrelle, Mrs. Jacques Heath (Lily May Peel)  female  35.0      1   \n",
       "4                             Allen, Mr. William Henry    male  35.0      0   \n",
       "..                                                 ...     ...   ...    ...   \n",
       "886                              Montvila, Rev. Juozas    male  27.0      0   \n",
       "887                       Graham, Miss. Margaret Edith  female  19.0      0   \n",
       "888           Johnston, Miss. Catherine Helen \"Carrie\"  female   NaN      1   \n",
       "889                              Behr, Mr. Karl Howell    male  26.0      0   \n",
       "890                                Dooley, Mr. Patrick    male  32.0      0   \n",
       "\n",
       "     Parch            Ticket     Fare Cabin Embarked  \n",
       "0        0         A/5 21171   7.2500   NaN        S  \n",
       "1        0          PC 17599  71.2833   C85        C  \n",
       "2        0  STON/O2. 3101282   7.9250   NaN        S  \n",
       "3        0            113803  53.1000  C123        S  \n",
       "4        0            373450   8.0500   NaN        S  \n",
       "..     ...               ...      ...   ...      ...  \n",
       "886      0            211536  13.0000   NaN        S  \n",
       "887      0            112053  30.0000   B42        S  \n",
       "888      2        W./C. 6607  23.4500   NaN        S  \n",
       "889      0            111369  30.0000  C148        C  \n",
       "890      0            370376   7.7500   NaN        Q  \n",
       "\n",
       "[891 rows x 12 columns]"
      ]
     },
     "execution_count": 4,
     "metadata": {},
     "output_type": "execute_result"
    }
   ],
   "source": [
    "train_data"
   ]
  },
  {
   "cell_type": "code",
   "execution_count": 5,
   "id": "7bb4c2aa",
   "metadata": {
    "execution": {
     "iopub.execute_input": "2022-10-27T16:57:24.259534Z",
     "iopub.status.busy": "2022-10-27T16:57:24.258180Z",
     "iopub.status.idle": "2022-10-27T16:57:24.268379Z",
     "shell.execute_reply": "2022-10-27T16:57:24.267421Z"
    },
    "papermill": {
     "duration": 0.052786,
     "end_time": "2022-10-27T16:57:24.270712",
     "exception": false,
     "start_time": "2022-10-27T16:57:24.217926",
     "status": "completed"
    },
    "tags": []
   },
   "outputs": [],
   "source": [
    "train_data=train_data.set_index(train_data[\"PassengerId\"])"
   ]
  },
  {
   "cell_type": "code",
   "execution_count": 6,
   "id": "b5a4b293",
   "metadata": {
    "execution": {
     "iopub.execute_input": "2022-10-27T16:57:24.349004Z",
     "iopub.status.busy": "2022-10-27T16:57:24.348630Z",
     "iopub.status.idle": "2022-10-27T16:57:24.356579Z",
     "shell.execute_reply": "2022-10-27T16:57:24.355453Z"
    },
    "papermill": {
     "duration": 0.04956,
     "end_time": "2022-10-27T16:57:24.358378",
     "exception": false,
     "start_time": "2022-10-27T16:57:24.308818",
     "status": "completed"
    },
    "tags": []
   },
   "outputs": [],
   "source": [
    "train_data = train_data.drop(\"PassengerId\",axis=1)"
   ]
  },
  {
   "cell_type": "code",
   "execution_count": 7,
   "id": "d9a72200",
   "metadata": {
    "execution": {
     "iopub.execute_input": "2022-10-27T16:57:24.438412Z",
     "iopub.status.busy": "2022-10-27T16:57:24.437987Z",
     "iopub.status.idle": "2022-10-27T16:57:24.454463Z",
     "shell.execute_reply": "2022-10-27T16:57:24.453421Z"
    },
    "papermill": {
     "duration": 0.059414,
     "end_time": "2022-10-27T16:57:24.456845",
     "exception": false,
     "start_time": "2022-10-27T16:57:24.397431",
     "status": "completed"
    },
    "tags": []
   },
   "outputs": [],
   "source": [
    "test_data = pd.read_csv(\"/kaggle/input/titanic/test.csv\")"
   ]
  },
  {
   "cell_type": "markdown",
   "id": "ae5a272a",
   "metadata": {
    "papermill": {
     "duration": 0.039788,
     "end_time": "2022-10-27T16:57:24.535822",
     "exception": false,
     "start_time": "2022-10-27T16:57:24.496034",
     "status": "completed"
    },
    "tags": []
   },
   "source": [
    "# Exploring Data\n",
    "# "
   ]
  },
  {
   "cell_type": "code",
   "execution_count": 8,
   "id": "b3b95461",
   "metadata": {
    "execution": {
     "iopub.execute_input": "2022-10-27T16:57:24.616217Z",
     "iopub.status.busy": "2022-10-27T16:57:24.615852Z",
     "iopub.status.idle": "2022-10-27T16:57:24.634746Z",
     "shell.execute_reply": "2022-10-27T16:57:24.634067Z"
    },
    "papermill": {
     "duration": 0.06159,
     "end_time": "2022-10-27T16:57:24.636505",
     "exception": false,
     "start_time": "2022-10-27T16:57:24.574915",
     "status": "completed"
    },
    "tags": []
   },
   "outputs": [
    {
     "data": {
      "text/html": [
       "<div>\n",
       "<style scoped>\n",
       "    .dataframe tbody tr th:only-of-type {\n",
       "        vertical-align: middle;\n",
       "    }\n",
       "\n",
       "    .dataframe tbody tr th {\n",
       "        vertical-align: top;\n",
       "    }\n",
       "\n",
       "    .dataframe thead th {\n",
       "        text-align: right;\n",
       "    }\n",
       "</style>\n",
       "<table border=\"1\" class=\"dataframe\">\n",
       "  <thead>\n",
       "    <tr style=\"text-align: right;\">\n",
       "      <th></th>\n",
       "      <th>PassengerId</th>\n",
       "      <th>Pclass</th>\n",
       "      <th>Name</th>\n",
       "      <th>Sex</th>\n",
       "      <th>Age</th>\n",
       "      <th>SibSp</th>\n",
       "      <th>Parch</th>\n",
       "      <th>Ticket</th>\n",
       "      <th>Fare</th>\n",
       "      <th>Cabin</th>\n",
       "      <th>Embarked</th>\n",
       "    </tr>\n",
       "  </thead>\n",
       "  <tbody>\n",
       "    <tr>\n",
       "      <th>0</th>\n",
       "      <td>892</td>\n",
       "      <td>3</td>\n",
       "      <td>Kelly, Mr. James</td>\n",
       "      <td>male</td>\n",
       "      <td>34.5</td>\n",
       "      <td>0</td>\n",
       "      <td>0</td>\n",
       "      <td>330911</td>\n",
       "      <td>7.8292</td>\n",
       "      <td>NaN</td>\n",
       "      <td>Q</td>\n",
       "    </tr>\n",
       "    <tr>\n",
       "      <th>1</th>\n",
       "      <td>893</td>\n",
       "      <td>3</td>\n",
       "      <td>Wilkes, Mrs. James (Ellen Needs)</td>\n",
       "      <td>female</td>\n",
       "      <td>47.0</td>\n",
       "      <td>1</td>\n",
       "      <td>0</td>\n",
       "      <td>363272</td>\n",
       "      <td>7.0000</td>\n",
       "      <td>NaN</td>\n",
       "      <td>S</td>\n",
       "    </tr>\n",
       "    <tr>\n",
       "      <th>2</th>\n",
       "      <td>894</td>\n",
       "      <td>2</td>\n",
       "      <td>Myles, Mr. Thomas Francis</td>\n",
       "      <td>male</td>\n",
       "      <td>62.0</td>\n",
       "      <td>0</td>\n",
       "      <td>0</td>\n",
       "      <td>240276</td>\n",
       "      <td>9.6875</td>\n",
       "      <td>NaN</td>\n",
       "      <td>Q</td>\n",
       "    </tr>\n",
       "    <tr>\n",
       "      <th>3</th>\n",
       "      <td>895</td>\n",
       "      <td>3</td>\n",
       "      <td>Wirz, Mr. Albert</td>\n",
       "      <td>male</td>\n",
       "      <td>27.0</td>\n",
       "      <td>0</td>\n",
       "      <td>0</td>\n",
       "      <td>315154</td>\n",
       "      <td>8.6625</td>\n",
       "      <td>NaN</td>\n",
       "      <td>S</td>\n",
       "    </tr>\n",
       "    <tr>\n",
       "      <th>4</th>\n",
       "      <td>896</td>\n",
       "      <td>3</td>\n",
       "      <td>Hirvonen, Mrs. Alexander (Helga E Lindqvist)</td>\n",
       "      <td>female</td>\n",
       "      <td>22.0</td>\n",
       "      <td>1</td>\n",
       "      <td>1</td>\n",
       "      <td>3101298</td>\n",
       "      <td>12.2875</td>\n",
       "      <td>NaN</td>\n",
       "      <td>S</td>\n",
       "    </tr>\n",
       "    <tr>\n",
       "      <th>...</th>\n",
       "      <td>...</td>\n",
       "      <td>...</td>\n",
       "      <td>...</td>\n",
       "      <td>...</td>\n",
       "      <td>...</td>\n",
       "      <td>...</td>\n",
       "      <td>...</td>\n",
       "      <td>...</td>\n",
       "      <td>...</td>\n",
       "      <td>...</td>\n",
       "      <td>...</td>\n",
       "    </tr>\n",
       "    <tr>\n",
       "      <th>413</th>\n",
       "      <td>1305</td>\n",
       "      <td>3</td>\n",
       "      <td>Spector, Mr. Woolf</td>\n",
       "      <td>male</td>\n",
       "      <td>NaN</td>\n",
       "      <td>0</td>\n",
       "      <td>0</td>\n",
       "      <td>A.5. 3236</td>\n",
       "      <td>8.0500</td>\n",
       "      <td>NaN</td>\n",
       "      <td>S</td>\n",
       "    </tr>\n",
       "    <tr>\n",
       "      <th>414</th>\n",
       "      <td>1306</td>\n",
       "      <td>1</td>\n",
       "      <td>Oliva y Ocana, Dona. Fermina</td>\n",
       "      <td>female</td>\n",
       "      <td>39.0</td>\n",
       "      <td>0</td>\n",
       "      <td>0</td>\n",
       "      <td>PC 17758</td>\n",
       "      <td>108.9000</td>\n",
       "      <td>C105</td>\n",
       "      <td>C</td>\n",
       "    </tr>\n",
       "    <tr>\n",
       "      <th>415</th>\n",
       "      <td>1307</td>\n",
       "      <td>3</td>\n",
       "      <td>Saether, Mr. Simon Sivertsen</td>\n",
       "      <td>male</td>\n",
       "      <td>38.5</td>\n",
       "      <td>0</td>\n",
       "      <td>0</td>\n",
       "      <td>SOTON/O.Q. 3101262</td>\n",
       "      <td>7.2500</td>\n",
       "      <td>NaN</td>\n",
       "      <td>S</td>\n",
       "    </tr>\n",
       "    <tr>\n",
       "      <th>416</th>\n",
       "      <td>1308</td>\n",
       "      <td>3</td>\n",
       "      <td>Ware, Mr. Frederick</td>\n",
       "      <td>male</td>\n",
       "      <td>NaN</td>\n",
       "      <td>0</td>\n",
       "      <td>0</td>\n",
       "      <td>359309</td>\n",
       "      <td>8.0500</td>\n",
       "      <td>NaN</td>\n",
       "      <td>S</td>\n",
       "    </tr>\n",
       "    <tr>\n",
       "      <th>417</th>\n",
       "      <td>1309</td>\n",
       "      <td>3</td>\n",
       "      <td>Peter, Master. Michael J</td>\n",
       "      <td>male</td>\n",
       "      <td>NaN</td>\n",
       "      <td>1</td>\n",
       "      <td>1</td>\n",
       "      <td>2668</td>\n",
       "      <td>22.3583</td>\n",
       "      <td>NaN</td>\n",
       "      <td>C</td>\n",
       "    </tr>\n",
       "  </tbody>\n",
       "</table>\n",
       "<p>418 rows × 11 columns</p>\n",
       "</div>"
      ],
      "text/plain": [
       "     PassengerId  Pclass                                          Name  \\\n",
       "0            892       3                              Kelly, Mr. James   \n",
       "1            893       3              Wilkes, Mrs. James (Ellen Needs)   \n",
       "2            894       2                     Myles, Mr. Thomas Francis   \n",
       "3            895       3                              Wirz, Mr. Albert   \n",
       "4            896       3  Hirvonen, Mrs. Alexander (Helga E Lindqvist)   \n",
       "..           ...     ...                                           ...   \n",
       "413         1305       3                            Spector, Mr. Woolf   \n",
       "414         1306       1                  Oliva y Ocana, Dona. Fermina   \n",
       "415         1307       3                  Saether, Mr. Simon Sivertsen   \n",
       "416         1308       3                           Ware, Mr. Frederick   \n",
       "417         1309       3                      Peter, Master. Michael J   \n",
       "\n",
       "        Sex   Age  SibSp  Parch              Ticket      Fare Cabin Embarked  \n",
       "0      male  34.5      0      0              330911    7.8292   NaN        Q  \n",
       "1    female  47.0      1      0              363272    7.0000   NaN        S  \n",
       "2      male  62.0      0      0              240276    9.6875   NaN        Q  \n",
       "3      male  27.0      0      0              315154    8.6625   NaN        S  \n",
       "4    female  22.0      1      1             3101298   12.2875   NaN        S  \n",
       "..      ...   ...    ...    ...                 ...       ...   ...      ...  \n",
       "413    male   NaN      0      0           A.5. 3236    8.0500   NaN        S  \n",
       "414  female  39.0      0      0            PC 17758  108.9000  C105        C  \n",
       "415    male  38.5      0      0  SOTON/O.Q. 3101262    7.2500   NaN        S  \n",
       "416    male   NaN      0      0              359309    8.0500   NaN        S  \n",
       "417    male   NaN      1      1                2668   22.3583   NaN        C  \n",
       "\n",
       "[418 rows x 11 columns]"
      ]
     },
     "execution_count": 8,
     "metadata": {},
     "output_type": "execute_result"
    }
   ],
   "source": [
    "test_data"
   ]
  },
  {
   "cell_type": "code",
   "execution_count": 9,
   "id": "59726ed7",
   "metadata": {
    "execution": {
     "iopub.execute_input": "2022-10-27T16:57:24.716787Z",
     "iopub.status.busy": "2022-10-27T16:57:24.716148Z",
     "iopub.status.idle": "2022-10-27T16:57:25.305242Z",
     "shell.execute_reply": "2022-10-27T16:57:25.304558Z"
    },
    "papermill": {
     "duration": 0.632017,
     "end_time": "2022-10-27T16:57:25.307592",
     "exception": false,
     "start_time": "2022-10-27T16:57:24.675575",
     "status": "completed"
    },
    "tags": []
   },
   "outputs": [],
   "source": [
    "from sklearn.ensemble import RandomForestClassifier\n",
    "\n",
    "y = train_data[\"Survived\"]\n",
    "\n",
    "features = [\"Pclass\", \"Sex\", \"SibSp\", \"Parch\"]\n",
    "X = pd.get_dummies(train_data[features])\n",
    "X_test = pd.get_dummies(test_data[features])\n",
    "\n",
    "model = RandomForestClassifier(n_estimators=100, max_depth=5, random_state=1)\n",
    "model.fit(X, y)\n",
    "predictions = model.predict(X_test)\n",
    "\n",
    "output = pd.DataFrame({'PassengerId': test_data.PassengerId, 'Survived': predictions})\n",
    "output.to_csv('submission.csv', index=False)"
   ]
  },
  {
   "cell_type": "code",
   "execution_count": 10,
   "id": "f68b7556",
   "metadata": {
    "execution": {
     "iopub.execute_input": "2022-10-27T16:57:25.386939Z",
     "iopub.status.busy": "2022-10-27T16:57:25.386588Z",
     "iopub.status.idle": "2022-10-27T16:57:25.401913Z",
     "shell.execute_reply": "2022-10-27T16:57:25.400996Z"
    },
    "papermill": {
     "duration": 0.057509,
     "end_time": "2022-10-27T16:57:25.403937",
     "exception": false,
     "start_time": "2022-10-27T16:57:25.346428",
     "status": "completed"
    },
    "tags": []
   },
   "outputs": [
    {
     "name": "stdout",
     "output_type": "stream",
     "text": [
      "<class 'pandas.core.frame.DataFrame'>\n",
      "Int64Index: 891 entries, 1 to 891\n",
      "Data columns (total 11 columns):\n",
      " #   Column    Non-Null Count  Dtype  \n",
      "---  ------    --------------  -----  \n",
      " 0   Survived  891 non-null    int64  \n",
      " 1   Pclass    891 non-null    int64  \n",
      " 2   Name      891 non-null    object \n",
      " 3   Sex       891 non-null    object \n",
      " 4   Age       714 non-null    float64\n",
      " 5   SibSp     891 non-null    int64  \n",
      " 6   Parch     891 non-null    int64  \n",
      " 7   Ticket    891 non-null    object \n",
      " 8   Fare      891 non-null    float64\n",
      " 9   Cabin     204 non-null    object \n",
      " 10  Embarked  889 non-null    object \n",
      "dtypes: float64(2), int64(4), object(5)\n",
      "memory usage: 83.5+ KB\n"
     ]
    }
   ],
   "source": [
    "train_data.info()"
   ]
  },
  {
   "cell_type": "code",
   "execution_count": 11,
   "id": "6359914a",
   "metadata": {
    "execution": {
     "iopub.execute_input": "2022-10-27T16:57:25.485798Z",
     "iopub.status.busy": "2022-10-27T16:57:25.485149Z",
     "iopub.status.idle": "2022-10-27T16:57:25.488667Z",
     "shell.execute_reply": "2022-10-27T16:57:25.488007Z"
    },
    "papermill": {
     "duration": 0.047035,
     "end_time": "2022-10-27T16:57:25.491017",
     "exception": false,
     "start_time": "2022-10-27T16:57:25.443982",
     "status": "completed"
    },
    "tags": []
   },
   "outputs": [],
   "source": [
    "#train_data = train_data.drop(\"Name\",axis = 1)"
   ]
  },
  {
   "cell_type": "code",
   "execution_count": 12,
   "id": "44b0e47b",
   "metadata": {
    "execution": {
     "iopub.execute_input": "2022-10-27T16:57:25.573305Z",
     "iopub.status.busy": "2022-10-27T16:57:25.572745Z",
     "iopub.status.idle": "2022-10-27T16:57:25.577613Z",
     "shell.execute_reply": "2022-10-27T16:57:25.576140Z"
    },
    "papermill": {
     "duration": 0.049468,
     "end_time": "2022-10-27T16:57:25.580212",
     "exception": false,
     "start_time": "2022-10-27T16:57:25.530744",
     "status": "completed"
    },
    "tags": []
   },
   "outputs": [],
   "source": [
    "#train_data = train_data.drop(\"Cabin\",axis = 1)"
   ]
  },
  {
   "cell_type": "code",
   "execution_count": 13,
   "id": "ecf7105e",
   "metadata": {
    "execution": {
     "iopub.execute_input": "2022-10-27T16:57:25.664040Z",
     "iopub.status.busy": "2022-10-27T16:57:25.663526Z",
     "iopub.status.idle": "2022-10-27T16:57:25.668976Z",
     "shell.execute_reply": "2022-10-27T16:57:25.667922Z"
    },
    "papermill": {
     "duration": 0.048856,
     "end_time": "2022-10-27T16:57:25.670877",
     "exception": false,
     "start_time": "2022-10-27T16:57:25.622021",
     "status": "completed"
    },
    "tags": []
   },
   "outputs": [],
   "source": [
    "missing_age =train_data[train_data[\"Age\"].isna()]"
   ]
  },
  {
   "cell_type": "code",
   "execution_count": 14,
   "id": "f8e30f46",
   "metadata": {
    "execution": {
     "iopub.execute_input": "2022-10-27T16:57:25.751296Z",
     "iopub.status.busy": "2022-10-27T16:57:25.750779Z",
     "iopub.status.idle": "2022-10-27T16:57:25.770159Z",
     "shell.execute_reply": "2022-10-27T16:57:25.768597Z"
    },
    "papermill": {
     "duration": 0.062068,
     "end_time": "2022-10-27T16:57:25.772555",
     "exception": false,
     "start_time": "2022-10-27T16:57:25.710487",
     "status": "completed"
    },
    "tags": []
   },
   "outputs": [
    {
     "data": {
      "text/html": [
       "<div>\n",
       "<style scoped>\n",
       "    .dataframe tbody tr th:only-of-type {\n",
       "        vertical-align: middle;\n",
       "    }\n",
       "\n",
       "    .dataframe tbody tr th {\n",
       "        vertical-align: top;\n",
       "    }\n",
       "\n",
       "    .dataframe thead th {\n",
       "        text-align: right;\n",
       "    }\n",
       "</style>\n",
       "<table border=\"1\" class=\"dataframe\">\n",
       "  <thead>\n",
       "    <tr style=\"text-align: right;\">\n",
       "      <th></th>\n",
       "      <th>Survived</th>\n",
       "      <th>Pclass</th>\n",
       "      <th>Name</th>\n",
       "      <th>Sex</th>\n",
       "      <th>Age</th>\n",
       "      <th>SibSp</th>\n",
       "      <th>Parch</th>\n",
       "      <th>Ticket</th>\n",
       "      <th>Fare</th>\n",
       "      <th>Cabin</th>\n",
       "      <th>Embarked</th>\n",
       "    </tr>\n",
       "    <tr>\n",
       "      <th>PassengerId</th>\n",
       "      <th></th>\n",
       "      <th></th>\n",
       "      <th></th>\n",
       "      <th></th>\n",
       "      <th></th>\n",
       "      <th></th>\n",
       "      <th></th>\n",
       "      <th></th>\n",
       "      <th></th>\n",
       "      <th></th>\n",
       "      <th></th>\n",
       "    </tr>\n",
       "  </thead>\n",
       "  <tbody>\n",
       "    <tr>\n",
       "      <th>6</th>\n",
       "      <td>0</td>\n",
       "      <td>3</td>\n",
       "      <td>Moran, Mr. James</td>\n",
       "      <td>male</td>\n",
       "      <td>NaN</td>\n",
       "      <td>0</td>\n",
       "      <td>0</td>\n",
       "      <td>330877</td>\n",
       "      <td>8.4583</td>\n",
       "      <td>NaN</td>\n",
       "      <td>Q</td>\n",
       "    </tr>\n",
       "    <tr>\n",
       "      <th>18</th>\n",
       "      <td>1</td>\n",
       "      <td>2</td>\n",
       "      <td>Williams, Mr. Charles Eugene</td>\n",
       "      <td>male</td>\n",
       "      <td>NaN</td>\n",
       "      <td>0</td>\n",
       "      <td>0</td>\n",
       "      <td>244373</td>\n",
       "      <td>13.0000</td>\n",
       "      <td>NaN</td>\n",
       "      <td>S</td>\n",
       "    </tr>\n",
       "    <tr>\n",
       "      <th>20</th>\n",
       "      <td>1</td>\n",
       "      <td>3</td>\n",
       "      <td>Masselmani, Mrs. Fatima</td>\n",
       "      <td>female</td>\n",
       "      <td>NaN</td>\n",
       "      <td>0</td>\n",
       "      <td>0</td>\n",
       "      <td>2649</td>\n",
       "      <td>7.2250</td>\n",
       "      <td>NaN</td>\n",
       "      <td>C</td>\n",
       "    </tr>\n",
       "    <tr>\n",
       "      <th>27</th>\n",
       "      <td>0</td>\n",
       "      <td>3</td>\n",
       "      <td>Emir, Mr. Farred Chehab</td>\n",
       "      <td>male</td>\n",
       "      <td>NaN</td>\n",
       "      <td>0</td>\n",
       "      <td>0</td>\n",
       "      <td>2631</td>\n",
       "      <td>7.2250</td>\n",
       "      <td>NaN</td>\n",
       "      <td>C</td>\n",
       "    </tr>\n",
       "    <tr>\n",
       "      <th>29</th>\n",
       "      <td>1</td>\n",
       "      <td>3</td>\n",
       "      <td>O'Dwyer, Miss. Ellen \"Nellie\"</td>\n",
       "      <td>female</td>\n",
       "      <td>NaN</td>\n",
       "      <td>0</td>\n",
       "      <td>0</td>\n",
       "      <td>330959</td>\n",
       "      <td>7.8792</td>\n",
       "      <td>NaN</td>\n",
       "      <td>Q</td>\n",
       "    </tr>\n",
       "    <tr>\n",
       "      <th>...</th>\n",
       "      <td>...</td>\n",
       "      <td>...</td>\n",
       "      <td>...</td>\n",
       "      <td>...</td>\n",
       "      <td>...</td>\n",
       "      <td>...</td>\n",
       "      <td>...</td>\n",
       "      <td>...</td>\n",
       "      <td>...</td>\n",
       "      <td>...</td>\n",
       "      <td>...</td>\n",
       "    </tr>\n",
       "    <tr>\n",
       "      <th>860</th>\n",
       "      <td>0</td>\n",
       "      <td>3</td>\n",
       "      <td>Razi, Mr. Raihed</td>\n",
       "      <td>male</td>\n",
       "      <td>NaN</td>\n",
       "      <td>0</td>\n",
       "      <td>0</td>\n",
       "      <td>2629</td>\n",
       "      <td>7.2292</td>\n",
       "      <td>NaN</td>\n",
       "      <td>C</td>\n",
       "    </tr>\n",
       "    <tr>\n",
       "      <th>864</th>\n",
       "      <td>0</td>\n",
       "      <td>3</td>\n",
       "      <td>Sage, Miss. Dorothy Edith \"Dolly\"</td>\n",
       "      <td>female</td>\n",
       "      <td>NaN</td>\n",
       "      <td>8</td>\n",
       "      <td>2</td>\n",
       "      <td>CA. 2343</td>\n",
       "      <td>69.5500</td>\n",
       "      <td>NaN</td>\n",
       "      <td>S</td>\n",
       "    </tr>\n",
       "    <tr>\n",
       "      <th>869</th>\n",
       "      <td>0</td>\n",
       "      <td>3</td>\n",
       "      <td>van Melkebeke, Mr. Philemon</td>\n",
       "      <td>male</td>\n",
       "      <td>NaN</td>\n",
       "      <td>0</td>\n",
       "      <td>0</td>\n",
       "      <td>345777</td>\n",
       "      <td>9.5000</td>\n",
       "      <td>NaN</td>\n",
       "      <td>S</td>\n",
       "    </tr>\n",
       "    <tr>\n",
       "      <th>879</th>\n",
       "      <td>0</td>\n",
       "      <td>3</td>\n",
       "      <td>Laleff, Mr. Kristo</td>\n",
       "      <td>male</td>\n",
       "      <td>NaN</td>\n",
       "      <td>0</td>\n",
       "      <td>0</td>\n",
       "      <td>349217</td>\n",
       "      <td>7.8958</td>\n",
       "      <td>NaN</td>\n",
       "      <td>S</td>\n",
       "    </tr>\n",
       "    <tr>\n",
       "      <th>889</th>\n",
       "      <td>0</td>\n",
       "      <td>3</td>\n",
       "      <td>Johnston, Miss. Catherine Helen \"Carrie\"</td>\n",
       "      <td>female</td>\n",
       "      <td>NaN</td>\n",
       "      <td>1</td>\n",
       "      <td>2</td>\n",
       "      <td>W./C. 6607</td>\n",
       "      <td>23.4500</td>\n",
       "      <td>NaN</td>\n",
       "      <td>S</td>\n",
       "    </tr>\n",
       "  </tbody>\n",
       "</table>\n",
       "<p>177 rows × 11 columns</p>\n",
       "</div>"
      ],
      "text/plain": [
       "             Survived  Pclass                                      Name  \\\n",
       "PassengerId                                                               \n",
       "6                   0       3                          Moran, Mr. James   \n",
       "18                  1       2              Williams, Mr. Charles Eugene   \n",
       "20                  1       3                   Masselmani, Mrs. Fatima   \n",
       "27                  0       3                   Emir, Mr. Farred Chehab   \n",
       "29                  1       3             O'Dwyer, Miss. Ellen \"Nellie\"   \n",
       "...               ...     ...                                       ...   \n",
       "860                 0       3                          Razi, Mr. Raihed   \n",
       "864                 0       3         Sage, Miss. Dorothy Edith \"Dolly\"   \n",
       "869                 0       3               van Melkebeke, Mr. Philemon   \n",
       "879                 0       3                        Laleff, Mr. Kristo   \n",
       "889                 0       3  Johnston, Miss. Catherine Helen \"Carrie\"   \n",
       "\n",
       "                Sex  Age  SibSp  Parch      Ticket     Fare Cabin Embarked  \n",
       "PassengerId                                                                 \n",
       "6              male  NaN      0      0      330877   8.4583   NaN        Q  \n",
       "18             male  NaN      0      0      244373  13.0000   NaN        S  \n",
       "20           female  NaN      0      0        2649   7.2250   NaN        C  \n",
       "27             male  NaN      0      0        2631   7.2250   NaN        C  \n",
       "29           female  NaN      0      0      330959   7.8792   NaN        Q  \n",
       "...             ...  ...    ...    ...         ...      ...   ...      ...  \n",
       "860            male  NaN      0      0        2629   7.2292   NaN        C  \n",
       "864          female  NaN      8      2    CA. 2343  69.5500   NaN        S  \n",
       "869            male  NaN      0      0      345777   9.5000   NaN        S  \n",
       "879            male  NaN      0      0      349217   7.8958   NaN        S  \n",
       "889          female  NaN      1      2  W./C. 6607  23.4500   NaN        S  \n",
       "\n",
       "[177 rows x 11 columns]"
      ]
     },
     "execution_count": 14,
     "metadata": {},
     "output_type": "execute_result"
    }
   ],
   "source": [
    "missing_age"
   ]
  },
  {
   "cell_type": "code",
   "execution_count": null,
   "id": "e942329c",
   "metadata": {
    "papermill": {
     "duration": 0.040297,
     "end_time": "2022-10-27T16:57:25.852285",
     "exception": false,
     "start_time": "2022-10-27T16:57:25.811988",
     "status": "completed"
    },
    "tags": []
   },
   "outputs": [],
   "source": []
  },
  {
   "cell_type": "code",
   "execution_count": 15,
   "id": "e76c6a69",
   "metadata": {
    "execution": {
     "iopub.execute_input": "2022-10-27T16:57:25.933151Z",
     "iopub.status.busy": "2022-10-27T16:57:25.932795Z",
     "iopub.status.idle": "2022-10-27T16:57:25.939532Z",
     "shell.execute_reply": "2022-10-27T16:57:25.938294Z"
    },
    "papermill": {
     "duration": 0.049676,
     "end_time": "2022-10-27T16:57:25.941480",
     "exception": false,
     "start_time": "2022-10-27T16:57:25.891804",
     "status": "completed"
    },
    "tags": []
   },
   "outputs": [],
   "source": [
    " compare_Age=train_data[(train_data[\"SibSp\"]==0) & (train_data[\"Parch\"]==0 ) & (train_data[\"Age\"].notna() )]"
   ]
  },
  {
   "cell_type": "code",
   "execution_count": 16,
   "id": "bfe2eb33",
   "metadata": {
    "execution": {
     "iopub.execute_input": "2022-10-27T16:57:26.023042Z",
     "iopub.status.busy": "2022-10-27T16:57:26.022682Z",
     "iopub.status.idle": "2022-10-27T16:57:26.042558Z",
     "shell.execute_reply": "2022-10-27T16:57:26.041743Z"
    },
    "papermill": {
     "duration": 0.063551,
     "end_time": "2022-10-27T16:57:26.044892",
     "exception": false,
     "start_time": "2022-10-27T16:57:25.981341",
     "status": "completed"
    },
    "tags": []
   },
   "outputs": [
    {
     "data": {
      "text/html": [
       "<div>\n",
       "<style scoped>\n",
       "    .dataframe tbody tr th:only-of-type {\n",
       "        vertical-align: middle;\n",
       "    }\n",
       "\n",
       "    .dataframe tbody tr th {\n",
       "        vertical-align: top;\n",
       "    }\n",
       "\n",
       "    .dataframe thead th {\n",
       "        text-align: right;\n",
       "    }\n",
       "</style>\n",
       "<table border=\"1\" class=\"dataframe\">\n",
       "  <thead>\n",
       "    <tr style=\"text-align: right;\">\n",
       "      <th></th>\n",
       "      <th>Survived</th>\n",
       "      <th>Pclass</th>\n",
       "      <th>Name</th>\n",
       "      <th>Sex</th>\n",
       "      <th>Age</th>\n",
       "      <th>SibSp</th>\n",
       "      <th>Parch</th>\n",
       "      <th>Ticket</th>\n",
       "      <th>Fare</th>\n",
       "      <th>Cabin</th>\n",
       "      <th>Embarked</th>\n",
       "    </tr>\n",
       "    <tr>\n",
       "      <th>PassengerId</th>\n",
       "      <th></th>\n",
       "      <th></th>\n",
       "      <th></th>\n",
       "      <th></th>\n",
       "      <th></th>\n",
       "      <th></th>\n",
       "      <th></th>\n",
       "      <th></th>\n",
       "      <th></th>\n",
       "      <th></th>\n",
       "      <th></th>\n",
       "    </tr>\n",
       "  </thead>\n",
       "  <tbody>\n",
       "    <tr>\n",
       "      <th>3</th>\n",
       "      <td>1</td>\n",
       "      <td>3</td>\n",
       "      <td>Heikkinen, Miss. Laina</td>\n",
       "      <td>female</td>\n",
       "      <td>26.0</td>\n",
       "      <td>0</td>\n",
       "      <td>0</td>\n",
       "      <td>STON/O2. 3101282</td>\n",
       "      <td>7.9250</td>\n",
       "      <td>NaN</td>\n",
       "      <td>S</td>\n",
       "    </tr>\n",
       "    <tr>\n",
       "      <th>5</th>\n",
       "      <td>0</td>\n",
       "      <td>3</td>\n",
       "      <td>Allen, Mr. William Henry</td>\n",
       "      <td>male</td>\n",
       "      <td>35.0</td>\n",
       "      <td>0</td>\n",
       "      <td>0</td>\n",
       "      <td>373450</td>\n",
       "      <td>8.0500</td>\n",
       "      <td>NaN</td>\n",
       "      <td>S</td>\n",
       "    </tr>\n",
       "    <tr>\n",
       "      <th>7</th>\n",
       "      <td>0</td>\n",
       "      <td>1</td>\n",
       "      <td>McCarthy, Mr. Timothy J</td>\n",
       "      <td>male</td>\n",
       "      <td>54.0</td>\n",
       "      <td>0</td>\n",
       "      <td>0</td>\n",
       "      <td>17463</td>\n",
       "      <td>51.8625</td>\n",
       "      <td>E46</td>\n",
       "      <td>S</td>\n",
       "    </tr>\n",
       "    <tr>\n",
       "      <th>12</th>\n",
       "      <td>1</td>\n",
       "      <td>1</td>\n",
       "      <td>Bonnell, Miss. Elizabeth</td>\n",
       "      <td>female</td>\n",
       "      <td>58.0</td>\n",
       "      <td>0</td>\n",
       "      <td>0</td>\n",
       "      <td>113783</td>\n",
       "      <td>26.5500</td>\n",
       "      <td>C103</td>\n",
       "      <td>S</td>\n",
       "    </tr>\n",
       "    <tr>\n",
       "      <th>13</th>\n",
       "      <td>0</td>\n",
       "      <td>3</td>\n",
       "      <td>Saundercock, Mr. William Henry</td>\n",
       "      <td>male</td>\n",
       "      <td>20.0</td>\n",
       "      <td>0</td>\n",
       "      <td>0</td>\n",
       "      <td>A/5. 2151</td>\n",
       "      <td>8.0500</td>\n",
       "      <td>NaN</td>\n",
       "      <td>S</td>\n",
       "    </tr>\n",
       "    <tr>\n",
       "      <th>...</th>\n",
       "      <td>...</td>\n",
       "      <td>...</td>\n",
       "      <td>...</td>\n",
       "      <td>...</td>\n",
       "      <td>...</td>\n",
       "      <td>...</td>\n",
       "      <td>...</td>\n",
       "      <td>...</td>\n",
       "      <td>...</td>\n",
       "      <td>...</td>\n",
       "      <td>...</td>\n",
       "    </tr>\n",
       "    <tr>\n",
       "      <th>885</th>\n",
       "      <td>0</td>\n",
       "      <td>3</td>\n",
       "      <td>Sutehall, Mr. Henry Jr</td>\n",
       "      <td>male</td>\n",
       "      <td>25.0</td>\n",
       "      <td>0</td>\n",
       "      <td>0</td>\n",
       "      <td>SOTON/OQ 392076</td>\n",
       "      <td>7.0500</td>\n",
       "      <td>NaN</td>\n",
       "      <td>S</td>\n",
       "    </tr>\n",
       "    <tr>\n",
       "      <th>887</th>\n",
       "      <td>0</td>\n",
       "      <td>2</td>\n",
       "      <td>Montvila, Rev. Juozas</td>\n",
       "      <td>male</td>\n",
       "      <td>27.0</td>\n",
       "      <td>0</td>\n",
       "      <td>0</td>\n",
       "      <td>211536</td>\n",
       "      <td>13.0000</td>\n",
       "      <td>NaN</td>\n",
       "      <td>S</td>\n",
       "    </tr>\n",
       "    <tr>\n",
       "      <th>888</th>\n",
       "      <td>1</td>\n",
       "      <td>1</td>\n",
       "      <td>Graham, Miss. Margaret Edith</td>\n",
       "      <td>female</td>\n",
       "      <td>19.0</td>\n",
       "      <td>0</td>\n",
       "      <td>0</td>\n",
       "      <td>112053</td>\n",
       "      <td>30.0000</td>\n",
       "      <td>B42</td>\n",
       "      <td>S</td>\n",
       "    </tr>\n",
       "    <tr>\n",
       "      <th>890</th>\n",
       "      <td>1</td>\n",
       "      <td>1</td>\n",
       "      <td>Behr, Mr. Karl Howell</td>\n",
       "      <td>male</td>\n",
       "      <td>26.0</td>\n",
       "      <td>0</td>\n",
       "      <td>0</td>\n",
       "      <td>111369</td>\n",
       "      <td>30.0000</td>\n",
       "      <td>C148</td>\n",
       "      <td>C</td>\n",
       "    </tr>\n",
       "    <tr>\n",
       "      <th>891</th>\n",
       "      <td>0</td>\n",
       "      <td>3</td>\n",
       "      <td>Dooley, Mr. Patrick</td>\n",
       "      <td>male</td>\n",
       "      <td>32.0</td>\n",
       "      <td>0</td>\n",
       "      <td>0</td>\n",
       "      <td>370376</td>\n",
       "      <td>7.7500</td>\n",
       "      <td>NaN</td>\n",
       "      <td>Q</td>\n",
       "    </tr>\n",
       "  </tbody>\n",
       "</table>\n",
       "<p>404 rows × 11 columns</p>\n",
       "</div>"
      ],
      "text/plain": [
       "             Survived  Pclass                            Name     Sex   Age  \\\n",
       "PassengerId                                                                   \n",
       "3                   1       3          Heikkinen, Miss. Laina  female  26.0   \n",
       "5                   0       3        Allen, Mr. William Henry    male  35.0   \n",
       "7                   0       1         McCarthy, Mr. Timothy J    male  54.0   \n",
       "12                  1       1        Bonnell, Miss. Elizabeth  female  58.0   \n",
       "13                  0       3  Saundercock, Mr. William Henry    male  20.0   \n",
       "...               ...     ...                             ...     ...   ...   \n",
       "885                 0       3          Sutehall, Mr. Henry Jr    male  25.0   \n",
       "887                 0       2           Montvila, Rev. Juozas    male  27.0   \n",
       "888                 1       1    Graham, Miss. Margaret Edith  female  19.0   \n",
       "890                 1       1           Behr, Mr. Karl Howell    male  26.0   \n",
       "891                 0       3             Dooley, Mr. Patrick    male  32.0   \n",
       "\n",
       "             SibSp  Parch            Ticket     Fare Cabin Embarked  \n",
       "PassengerId                                                          \n",
       "3                0      0  STON/O2. 3101282   7.9250   NaN        S  \n",
       "5                0      0            373450   8.0500   NaN        S  \n",
       "7                0      0             17463  51.8625   E46        S  \n",
       "12               0      0            113783  26.5500  C103        S  \n",
       "13               0      0         A/5. 2151   8.0500   NaN        S  \n",
       "...            ...    ...               ...      ...   ...      ...  \n",
       "885              0      0   SOTON/OQ 392076   7.0500   NaN        S  \n",
       "887              0      0            211536  13.0000   NaN        S  \n",
       "888              0      0            112053  30.0000   B42        S  \n",
       "890              0      0            111369  30.0000  C148        C  \n",
       "891              0      0            370376   7.7500   NaN        Q  \n",
       "\n",
       "[404 rows x 11 columns]"
      ]
     },
     "execution_count": 16,
     "metadata": {},
     "output_type": "execute_result"
    }
   ],
   "source": [
    "compare_Age"
   ]
  },
  {
   "cell_type": "code",
   "execution_count": 17,
   "id": "aa492f6e",
   "metadata": {
    "execution": {
     "iopub.execute_input": "2022-10-27T16:57:26.127929Z",
     "iopub.status.busy": "2022-10-27T16:57:26.127395Z",
     "iopub.status.idle": "2022-10-27T16:57:26.467258Z",
     "shell.execute_reply": "2022-10-27T16:57:26.466412Z"
    },
    "papermill": {
     "duration": 0.383972,
     "end_time": "2022-10-27T16:57:26.469030",
     "exception": false,
     "start_time": "2022-10-27T16:57:26.085058",
     "status": "completed"
    },
    "tags": []
   },
   "outputs": [
    {
     "data": {
      "text/plain": [
       "<AxesSubplot:xlabel='Age', ylabel='Count'>"
      ]
     },
     "execution_count": 17,
     "metadata": {},
     "output_type": "execute_result"
    },
    {
     "data": {
      "image/png": "[encoded data removed]",
      "text/plain": [
       "<Figure size 432x288 with 1 Axes>"
      ]
     },
     "metadata": {
      "needs_background": "light"
     },
     "output_type": "display_data"
    }
   ],
   "source": [
    "sns.histplot(data = compare_Age , x = compare_Age[\"Age\"],hue=\"Pclass\")"
   ]
  },
  {
   "cell_type": "code",
   "execution_count": 18,
   "id": "b2ed8362",
   "metadata": {
    "execution": {
     "iopub.execute_input": "2022-10-27T16:57:26.607969Z",
     "iopub.status.busy": "2022-10-27T16:57:26.607337Z",
     "iopub.status.idle": "2022-10-27T16:57:26.612687Z",
     "shell.execute_reply": "2022-10-27T16:57:26.612035Z"
    },
    "papermill": {
     "duration": 0.105425,
     "end_time": "2022-10-27T16:57:26.614418",
     "exception": false,
     "start_time": "2022-10-27T16:57:26.508993",
     "status": "completed"
    },
    "tags": []
   },
   "outputs": [],
   "source": [
    " zero_sib=train_data[(train_data[\"SibSp\"]==0) & (train_data[\"Age\"].notna() )]"
   ]
  },
  {
   "cell_type": "code",
   "execution_count": 19,
   "id": "3b6f3546",
   "metadata": {
    "execution": {
     "iopub.execute_input": "2022-10-27T16:57:26.698603Z",
     "iopub.status.busy": "2022-10-27T16:57:26.698072Z",
     "iopub.status.idle": "2022-10-27T16:57:26.703118Z",
     "shell.execute_reply": "2022-10-27T16:57:26.702475Z"
    },
    "papermill": {
     "duration": 0.049411,
     "end_time": "2022-10-27T16:57:26.705472",
     "exception": false,
     "start_time": "2022-10-27T16:57:26.656061",
     "status": "completed"
    },
    "tags": []
   },
   "outputs": [],
   "source": [
    " zero_sib_not_par=train_data[(train_data[\"SibSp\"]==0) & (train_data[\"Parch\"]!=0 ) & (train_data[\"Age\"].notna() )]"
   ]
  },
  {
   "cell_type": "code",
   "execution_count": 20,
   "id": "eb8dd1b7",
   "metadata": {
    "execution": {
     "iopub.execute_input": "2022-10-27T16:57:26.788830Z",
     "iopub.status.busy": "2022-10-27T16:57:26.788330Z",
     "iopub.status.idle": "2022-10-27T16:57:26.793019Z",
     "shell.execute_reply": "2022-10-27T16:57:26.792400Z"
    },
    "papermill": {
     "duration": 0.049076,
     "end_time": "2022-10-27T16:57:26.795320",
     "exception": false,
     "start_time": "2022-10-27T16:57:26.746244",
     "status": "completed"
    },
    "tags": []
   },
   "outputs": [],
   "source": [
    "zero_par =train_data[(train_data[\"Parch\"]==0 ) & (train_data[\"Age\"].notna() )]"
   ]
  },
  {
   "cell_type": "code",
   "execution_count": 21,
   "id": "bf23be85",
   "metadata": {
    "execution": {
     "iopub.execute_input": "2022-10-27T16:57:26.879040Z",
     "iopub.status.busy": "2022-10-27T16:57:26.878475Z",
     "iopub.status.idle": "2022-10-27T16:57:26.885163Z",
     "shell.execute_reply": "2022-10-27T16:57:26.883737Z"
    },
    "papermill": {
     "duration": 0.051249,
     "end_time": "2022-10-27T16:57:26.887544",
     "exception": false,
     "start_time": "2022-10-27T16:57:26.836295",
     "status": "completed"
    },
    "tags": []
   },
   "outputs": [],
   "source": [
    "zero_par_not_sib =train_data[(train_data[\"SibSp\"]!=0) & (train_data[\"Parch\"]==0 ) & (train_data[\"Age\"].notna() )]"
   ]
  },
  {
   "cell_type": "code",
   "execution_count": 22,
   "id": "700aeef7",
   "metadata": {
    "execution": {
     "iopub.execute_input": "2022-10-27T16:57:26.971132Z",
     "iopub.status.busy": "2022-10-27T16:57:26.970542Z",
     "iopub.status.idle": "2022-10-27T16:57:27.151093Z",
     "shell.execute_reply": "2022-10-27T16:57:27.150209Z"
    },
    "papermill": {
     "duration": 0.224396,
     "end_time": "2022-10-27T16:57:27.152991",
     "exception": false,
     "start_time": "2022-10-27T16:57:26.928595",
     "status": "completed"
    },
    "tags": []
   },
   "outputs": [
    {
     "data": {
      "text/plain": [
       "<AxesSubplot:xlabel='Age', ylabel='Count'>"
      ]
     },
     "execution_count": 22,
     "metadata": {},
     "output_type": "execute_result"
    },
    {
     "data": {
      "image/png": "[encoded data removed]",
      "text/plain": [
       "<Figure size 432x288 with 1 Axes>"
      ]
     },
     "metadata": {
      "needs_background": "light"
     },
     "output_type": "display_data"
    }
   ],
   "source": [
    "sns.histplot(data = zero_sib , x = zero_sib[\"Age\"])"
   ]
  },
  {
   "cell_type": "code",
   "execution_count": 23,
   "id": "9da2864c",
   "metadata": {
    "execution": {
     "iopub.execute_input": "2022-10-27T16:57:27.236089Z",
     "iopub.status.busy": "2022-10-27T16:57:27.235504Z",
     "iopub.status.idle": "2022-10-27T16:57:27.388127Z",
     "shell.execute_reply": "2022-10-27T16:57:27.387159Z"
    },
    "papermill": {
     "duration": 0.196627,
     "end_time": "2022-10-27T16:57:27.390309",
     "exception": false,
     "start_time": "2022-10-27T16:57:27.193682",
     "status": "completed"
    },
    "tags": []
   },
   "outputs": [
    {
     "data": {
      "text/plain": [
       "<AxesSubplot:xlabel='Age', ylabel='Count'>"
      ]
     },
     "execution_count": 23,
     "metadata": {},
     "output_type": "execute_result"
    },
    {
     "data": {
      "image/png": "[encoded data removed]",
      "text/plain": [
       "<Figure size 432x288 with 1 Axes>"
      ]
     },
     "metadata": {
      "needs_background": "light"
     },
     "output_type": "display_data"
    }
   ],
   "source": [
    "sns.histplot(data = zero_sib_not_par , x = zero_sib_not_par[\"Age\"])"
   ]
  },
  {
   "cell_type": "code",
   "execution_count": 24,
   "id": "95081829",
   "metadata": {
    "execution": {
     "iopub.execute_input": "2022-10-27T16:57:27.475068Z",
     "iopub.status.busy": "2022-10-27T16:57:27.474382Z",
     "iopub.status.idle": "2022-10-27T16:57:27.660659Z",
     "shell.execute_reply": "2022-10-27T16:57:27.659885Z"
    },
    "papermill": {
     "duration": 0.230955,
     "end_time": "2022-10-27T16:57:27.662609",
     "exception": false,
     "start_time": "2022-10-27T16:57:27.431654",
     "status": "completed"
    },
    "tags": []
   },
   "outputs": [
    {
     "data": {
      "text/plain": [
       "<AxesSubplot:xlabel='Age', ylabel='Count'>"
      ]
     },
     "execution_count": 24,
     "metadata": {},
     "output_type": "execute_result"
    },
    {
     "data": {
      "image/png": "[encoded data removed]",
      "text/plain": [
       "<Figure size 432x288 with 1 Axes>"
      ]
     },
     "metadata": {
      "needs_background": "light"
     },
     "output_type": "display_data"
    }
   ],
   "source": [
    "sns.histplot(data = zero_par , x = zero_par[\"Age\"])"
   ]
  },
  {
   "cell_type": "code",
   "execution_count": 25,
   "id": "8682ad2f",
   "metadata": {
    "execution": {
     "iopub.execute_input": "2022-10-27T16:57:27.745981Z",
     "iopub.status.busy": "2022-10-27T16:57:27.745492Z",
     "iopub.status.idle": "2022-10-27T16:57:27.888838Z",
     "shell.execute_reply": "2022-10-27T16:57:27.888081Z"
    },
    "papermill": {
     "duration": 0.187226,
     "end_time": "2022-10-27T16:57:27.890756",
     "exception": false,
     "start_time": "2022-10-27T16:57:27.703530",
     "status": "completed"
    },
    "tags": []
   },
   "outputs": [
    {
     "data": {
      "text/plain": [
       "<AxesSubplot:xlabel='Age', ylabel='Count'>"
      ]
     },
     "execution_count": 25,
     "metadata": {},
     "output_type": "execute_result"
    },
    {
     "data": {
      "image/png": "[encoded data removed]",
      "text/plain": [
       "<Figure size 432x288 with 1 Axes>"
      ]
     },
     "metadata": {
      "needs_background": "light"
     },
     "output_type": "display_data"
    }
   ],
   "source": [
    "sns.histplot(data = zero_par_not_sib , x = zero_par_not_sib[\"Age\"])"
   ]
  },
  {
   "cell_type": "code",
   "execution_count": 26,
   "id": "ca6fbec0",
   "metadata": {
    "execution": {
     "iopub.execute_input": "2022-10-27T16:57:27.975377Z",
     "iopub.status.busy": "2022-10-27T16:57:27.974699Z",
     "iopub.status.idle": "2022-10-27T16:57:27.982284Z",
     "shell.execute_reply": "2022-10-27T16:57:27.981589Z"
    },
    "papermill": {
     "duration": 0.052378,
     "end_time": "2022-10-27T16:57:27.984441",
     "exception": false,
     "start_time": "2022-10-27T16:57:27.932063",
     "status": "completed"
    },
    "tags": []
   },
   "outputs": [],
   "source": [
    "mrOrMrs =train_data[((train_data[\"Name\"].str.contains(\"Mr\"))|(train_data[\"Name\"].str.contains(\"Ms\"))) & (train_data[\"Age\"].notna())]"
   ]
  },
  {
   "cell_type": "code",
   "execution_count": 27,
   "id": "0660f0f0",
   "metadata": {
    "execution": {
     "iopub.execute_input": "2022-10-27T16:57:28.070602Z",
     "iopub.status.busy": "2022-10-27T16:57:28.070194Z",
     "iopub.status.idle": "2022-10-27T16:57:28.090276Z",
     "shell.execute_reply": "2022-10-27T16:57:28.089396Z"
    },
    "papermill": {
     "duration": 0.065566,
     "end_time": "2022-10-27T16:57:28.092135",
     "exception": false,
     "start_time": "2022-10-27T16:57:28.026569",
     "status": "completed"
    },
    "tags": []
   },
   "outputs": [
    {
     "data": {
      "text/html": [
       "<div>\n",
       "<style scoped>\n",
       "    .dataframe tbody tr th:only-of-type {\n",
       "        vertical-align: middle;\n",
       "    }\n",
       "\n",
       "    .dataframe tbody tr th {\n",
       "        vertical-align: top;\n",
       "    }\n",
       "\n",
       "    .dataframe thead th {\n",
       "        text-align: right;\n",
       "    }\n",
       "</style>\n",
       "<table border=\"1\" class=\"dataframe\">\n",
       "  <thead>\n",
       "    <tr style=\"text-align: right;\">\n",
       "      <th></th>\n",
       "      <th>Survived</th>\n",
       "      <th>Pclass</th>\n",
       "      <th>Name</th>\n",
       "      <th>Sex</th>\n",
       "      <th>Age</th>\n",
       "      <th>SibSp</th>\n",
       "      <th>Parch</th>\n",
       "      <th>Ticket</th>\n",
       "      <th>Fare</th>\n",
       "      <th>Cabin</th>\n",
       "      <th>Embarked</th>\n",
       "    </tr>\n",
       "    <tr>\n",
       "      <th>PassengerId</th>\n",
       "      <th></th>\n",
       "      <th></th>\n",
       "      <th></th>\n",
       "      <th></th>\n",
       "      <th></th>\n",
       "      <th></th>\n",
       "      <th></th>\n",
       "      <th></th>\n",
       "      <th></th>\n",
       "      <th></th>\n",
       "      <th></th>\n",
       "    </tr>\n",
       "  </thead>\n",
       "  <tbody>\n",
       "    <tr>\n",
       "      <th>1</th>\n",
       "      <td>0</td>\n",
       "      <td>3</td>\n",
       "      <td>Braund, Mr. Owen Harris</td>\n",
       "      <td>male</td>\n",
       "      <td>22.0</td>\n",
       "      <td>1</td>\n",
       "      <td>0</td>\n",
       "      <td>A/5 21171</td>\n",
       "      <td>7.2500</td>\n",
       "      <td>NaN</td>\n",
       "      <td>S</td>\n",
       "    </tr>\n",
       "    <tr>\n",
       "      <th>2</th>\n",
       "      <td>1</td>\n",
       "      <td>1</td>\n",
       "      <td>Cumings, Mrs. John Bradley (Florence Briggs Th...</td>\n",
       "      <td>female</td>\n",
       "      <td>38.0</td>\n",
       "      <td>1</td>\n",
       "      <td>0</td>\n",
       "      <td>PC 17599</td>\n",
       "      <td>71.2833</td>\n",
       "      <td>C85</td>\n",
       "      <td>C</td>\n",
       "    </tr>\n",
       "    <tr>\n",
       "      <th>4</th>\n",
       "      <td>1</td>\n",
       "      <td>1</td>\n",
       "      <td>Futrelle, Mrs. Jacques Heath (Lily May Peel)</td>\n",
       "      <td>female</td>\n",
       "      <td>35.0</td>\n",
       "      <td>1</td>\n",
       "      <td>0</td>\n",
       "      <td>113803</td>\n",
       "      <td>53.1000</td>\n",
       "      <td>C123</td>\n",
       "      <td>S</td>\n",
       "    </tr>\n",
       "    <tr>\n",
       "      <th>5</th>\n",
       "      <td>0</td>\n",
       "      <td>3</td>\n",
       "      <td>Allen, Mr. William Henry</td>\n",
       "      <td>male</td>\n",
       "      <td>35.0</td>\n",
       "      <td>0</td>\n",
       "      <td>0</td>\n",
       "      <td>373450</td>\n",
       "      <td>8.0500</td>\n",
       "      <td>NaN</td>\n",
       "      <td>S</td>\n",
       "    </tr>\n",
       "    <tr>\n",
       "      <th>7</th>\n",
       "      <td>0</td>\n",
       "      <td>1</td>\n",
       "      <td>McCarthy, Mr. Timothy J</td>\n",
       "      <td>male</td>\n",
       "      <td>54.0</td>\n",
       "      <td>0</td>\n",
       "      <td>0</td>\n",
       "      <td>17463</td>\n",
       "      <td>51.8625</td>\n",
       "      <td>E46</td>\n",
       "      <td>S</td>\n",
       "    </tr>\n",
       "    <tr>\n",
       "      <th>...</th>\n",
       "      <td>...</td>\n",
       "      <td>...</td>\n",
       "      <td>...</td>\n",
       "      <td>...</td>\n",
       "      <td>...</td>\n",
       "      <td>...</td>\n",
       "      <td>...</td>\n",
       "      <td>...</td>\n",
       "      <td>...</td>\n",
       "      <td>...</td>\n",
       "      <td>...</td>\n",
       "    </tr>\n",
       "    <tr>\n",
       "      <th>884</th>\n",
       "      <td>0</td>\n",
       "      <td>2</td>\n",
       "      <td>Banfield, Mr. Frederick James</td>\n",
       "      <td>male</td>\n",
       "      <td>28.0</td>\n",
       "      <td>0</td>\n",
       "      <td>0</td>\n",
       "      <td>C.A./SOTON 34068</td>\n",
       "      <td>10.5000</td>\n",
       "      <td>NaN</td>\n",
       "      <td>S</td>\n",
       "    </tr>\n",
       "    <tr>\n",
       "      <th>885</th>\n",
       "      <td>0</td>\n",
       "      <td>3</td>\n",
       "      <td>Sutehall, Mr. Henry Jr</td>\n",
       "      <td>male</td>\n",
       "      <td>25.0</td>\n",
       "      <td>0</td>\n",
       "      <td>0</td>\n",
       "      <td>SOTON/OQ 392076</td>\n",
       "      <td>7.0500</td>\n",
       "      <td>NaN</td>\n",
       "      <td>S</td>\n",
       "    </tr>\n",
       "    <tr>\n",
       "      <th>886</th>\n",
       "      <td>0</td>\n",
       "      <td>3</td>\n",
       "      <td>Rice, Mrs. William (Margaret Norton)</td>\n",
       "      <td>female</td>\n",
       "      <td>39.0</td>\n",
       "      <td>0</td>\n",
       "      <td>5</td>\n",
       "      <td>382652</td>\n",
       "      <td>29.1250</td>\n",
       "      <td>NaN</td>\n",
       "      <td>Q</td>\n",
       "    </tr>\n",
       "    <tr>\n",
       "      <th>890</th>\n",
       "      <td>1</td>\n",
       "      <td>1</td>\n",
       "      <td>Behr, Mr. Karl Howell</td>\n",
       "      <td>male</td>\n",
       "      <td>26.0</td>\n",
       "      <td>0</td>\n",
       "      <td>0</td>\n",
       "      <td>111369</td>\n",
       "      <td>30.0000</td>\n",
       "      <td>C148</td>\n",
       "      <td>C</td>\n",
       "    </tr>\n",
       "    <tr>\n",
       "      <th>891</th>\n",
       "      <td>0</td>\n",
       "      <td>3</td>\n",
       "      <td>Dooley, Mr. Patrick</td>\n",
       "      <td>male</td>\n",
       "      <td>32.0</td>\n",
       "      <td>0</td>\n",
       "      <td>0</td>\n",
       "      <td>370376</td>\n",
       "      <td>7.7500</td>\n",
       "      <td>NaN</td>\n",
       "      <td>Q</td>\n",
       "    </tr>\n",
       "  </tbody>\n",
       "</table>\n",
       "<p>512 rows × 11 columns</p>\n",
       "</div>"
      ],
      "text/plain": [
       "             Survived  Pclass  \\\n",
       "PassengerId                     \n",
       "1                   0       3   \n",
       "2                   1       1   \n",
       "4                   1       1   \n",
       "5                   0       3   \n",
       "7                   0       1   \n",
       "...               ...     ...   \n",
       "884                 0       2   \n",
       "885                 0       3   \n",
       "886                 0       3   \n",
       "890                 1       1   \n",
       "891                 0       3   \n",
       "\n",
       "                                                          Name     Sex   Age  \\\n",
       "PassengerId                                                                    \n",
       "1                                      Braund, Mr. Owen Harris    male  22.0   \n",
       "2            Cumings, Mrs. John Bradley (Florence Briggs Th...  female  38.0   \n",
       "4                 Futrelle, Mrs. Jacques Heath (Lily May Peel)  female  35.0   \n",
       "5                                     Allen, Mr. William Henry    male  35.0   \n",
       "7                                      McCarthy, Mr. Timothy J    male  54.0   \n",
       "...                                                        ...     ...   ...   \n",
       "884                              Banfield, Mr. Frederick James    male  28.0   \n",
       "885                                     Sutehall, Mr. Henry Jr    male  25.0   \n",
       "886                       Rice, Mrs. William (Margaret Norton)  female  39.0   \n",
       "890                                      Behr, Mr. Karl Howell    male  26.0   \n",
       "891                                        Dooley, Mr. Patrick    male  32.0   \n",
       "\n",
       "             SibSp  Parch            Ticket     Fare Cabin Embarked  \n",
       "PassengerId                                                          \n",
       "1                1      0         A/5 21171   7.2500   NaN        S  \n",
       "2                1      0          PC 17599  71.2833   C85        C  \n",
       "4                1      0            113803  53.1000  C123        S  \n",
       "5                0      0            373450   8.0500   NaN        S  \n",
       "7                0      0             17463  51.8625   E46        S  \n",
       "...            ...    ...               ...      ...   ...      ...  \n",
       "884              0      0  C.A./SOTON 34068  10.5000   NaN        S  \n",
       "885              0      0   SOTON/OQ 392076   7.0500   NaN        S  \n",
       "886              0      5            382652  29.1250   NaN        Q  \n",
       "890              0      0            111369  30.0000  C148        C  \n",
       "891              0      0            370376   7.7500   NaN        Q  \n",
       "\n",
       "[512 rows x 11 columns]"
      ]
     },
     "execution_count": 27,
     "metadata": {},
     "output_type": "execute_result"
    }
   ],
   "source": [
    "mrOrMrs"
   ]
  },
  {
   "cell_type": "code",
   "execution_count": 28,
   "id": "3fda606d",
   "metadata": {
    "execution": {
     "iopub.execute_input": "2022-10-27T16:57:28.178473Z",
     "iopub.status.busy": "2022-10-27T16:57:28.178077Z",
     "iopub.status.idle": "2022-10-27T16:57:28.384171Z",
     "shell.execute_reply": "2022-10-27T16:57:28.382791Z"
    },
    "papermill": {
     "duration": 0.251981,
     "end_time": "2022-10-27T16:57:28.386692",
     "exception": false,
     "start_time": "2022-10-27T16:57:28.134711",
     "status": "completed"
    },
    "tags": []
   },
   "outputs": [
    {
     "data": {
      "text/plain": [
       "<AxesSubplot:xlabel='Age', ylabel='Count'>"
      ]
     },
     "execution_count": 28,
     "metadata": {},
     "output_type": "execute_result"
    },
    {
     "data": {
      "image/png": "[encoded data removed]",
      "text/plain": [
       "<Figure size 432x288 with 1 Axes>"
      ]
     },
     "metadata": {
      "needs_background": "light"
     },
     "output_type": "display_data"
    }
   ],
   "source": [
    "sns.histplot(data = mrOrMrs , x = mrOrMrs[\"Age\"])"
   ]
  },
  {
   "cell_type": "code",
   "execution_count": 29,
   "id": "de7b5b35",
   "metadata": {
    "execution": {
     "iopub.execute_input": "2022-10-27T16:57:28.472922Z",
     "iopub.status.busy": "2022-10-27T16:57:28.472520Z",
     "iopub.status.idle": "2022-10-27T16:57:28.480666Z",
     "shell.execute_reply": "2022-10-27T16:57:28.479196Z"
    },
    "papermill": {
     "duration": 0.054103,
     "end_time": "2022-10-27T16:57:28.483154",
     "exception": false,
     "start_time": "2022-10-27T16:57:28.429051",
     "status": "completed"
    },
    "tags": []
   },
   "outputs": [
    {
     "data": {
      "text/plain": [
       "11.0"
      ]
     },
     "execution_count": 29,
     "metadata": {},
     "output_type": "execute_result"
    }
   ],
   "source": [
    "mrOrMrs[\"Age\"].min()"
   ]
  },
  {
   "cell_type": "code",
   "execution_count": 30,
   "id": "353f63a0",
   "metadata": {
    "execution": {
     "iopub.execute_input": "2022-10-27T16:57:28.568460Z",
     "iopub.status.busy": "2022-10-27T16:57:28.568080Z",
     "iopub.status.idle": "2022-10-27T16:57:28.575063Z",
     "shell.execute_reply": "2022-10-27T16:57:28.574059Z"
    },
    "papermill": {
     "duration": 0.052121,
     "end_time": "2022-10-27T16:57:28.577021",
     "exception": false,
     "start_time": "2022-10-27T16:57:28.524900",
     "status": "completed"
    },
    "tags": []
   },
   "outputs": [
    {
     "data": {
      "text/plain": [
       "80.0"
      ]
     },
     "execution_count": 30,
     "metadata": {},
     "output_type": "execute_result"
    }
   ],
   "source": [
    "mrOrMrs[\"Age\"].max()"
   ]
  },
  {
   "cell_type": "code",
   "execution_count": 31,
   "id": "cf40447c",
   "metadata": {
    "execution": {
     "iopub.execute_input": "2022-10-27T16:57:28.664797Z",
     "iopub.status.busy": "2022-10-27T16:57:28.663759Z",
     "iopub.status.idle": "2022-10-27T16:57:28.670838Z",
     "shell.execute_reply": "2022-10-27T16:57:28.669468Z"
    },
    "papermill": {
     "duration": 0.05327,
     "end_time": "2022-10-27T16:57:28.673130",
     "exception": false,
     "start_time": "2022-10-27T16:57:28.619860",
     "status": "completed"
    },
    "tags": []
   },
   "outputs": [
    {
     "data": {
      "text/plain": [
       "33.1083984375"
      ]
     },
     "execution_count": 31,
     "metadata": {},
     "output_type": "execute_result"
    }
   ],
   "source": [
    "mrOrMrs[\"Age\"].mean()"
   ]
  },
  {
   "cell_type": "code",
   "execution_count": 32,
   "id": "eab0aad7",
   "metadata": {
    "execution": {
     "iopub.execute_input": "2022-10-27T16:57:28.758737Z",
     "iopub.status.busy": "2022-10-27T16:57:28.758178Z",
     "iopub.status.idle": "2022-10-27T16:57:28.766862Z",
     "shell.execute_reply": "2022-10-27T16:57:28.765704Z"
    },
    "papermill": {
     "duration": 0.053707,
     "end_time": "2022-10-27T16:57:28.769261",
     "exception": false,
     "start_time": "2022-10-27T16:57:28.715554",
     "status": "completed"
    },
    "tags": []
   },
   "outputs": [],
   "source": [
    "mrOrMrs_nonAge =train_data[((train_data[\"Name\"].str.contains(\"Mr\"))|(train_data[\"Name\"].str.contains(\"Ms\"))) & (train_data[\"Age\"].isna())]"
   ]
  },
  {
   "cell_type": "code",
   "execution_count": 33,
   "id": "9b845e7a",
   "metadata": {
    "execution": {
     "iopub.execute_input": "2022-10-27T16:57:28.855709Z",
     "iopub.status.busy": "2022-10-27T16:57:28.855326Z",
     "iopub.status.idle": "2022-10-27T16:57:28.874944Z",
     "shell.execute_reply": "2022-10-27T16:57:28.874057Z"
    },
    "papermill": {
     "duration": 0.065407,
     "end_time": "2022-10-27T16:57:28.876923",
     "exception": false,
     "start_time": "2022-10-27T16:57:28.811516",
     "status": "completed"
    },
    "tags": []
   },
   "outputs": [
    {
     "data": {
      "text/html": [
       "<div>\n",
       "<style scoped>\n",
       "    .dataframe tbody tr th:only-of-type {\n",
       "        vertical-align: middle;\n",
       "    }\n",
       "\n",
       "    .dataframe tbody tr th {\n",
       "        vertical-align: top;\n",
       "    }\n",
       "\n",
       "    .dataframe thead th {\n",
       "        text-align: right;\n",
       "    }\n",
       "</style>\n",
       "<table border=\"1\" class=\"dataframe\">\n",
       "  <thead>\n",
       "    <tr style=\"text-align: right;\">\n",
       "      <th></th>\n",
       "      <th>Survived</th>\n",
       "      <th>Pclass</th>\n",
       "      <th>Name</th>\n",
       "      <th>Sex</th>\n",
       "      <th>Age</th>\n",
       "      <th>SibSp</th>\n",
       "      <th>Parch</th>\n",
       "      <th>Ticket</th>\n",
       "      <th>Fare</th>\n",
       "      <th>Cabin</th>\n",
       "      <th>Embarked</th>\n",
       "    </tr>\n",
       "    <tr>\n",
       "      <th>PassengerId</th>\n",
       "      <th></th>\n",
       "      <th></th>\n",
       "      <th></th>\n",
       "      <th></th>\n",
       "      <th></th>\n",
       "      <th></th>\n",
       "      <th></th>\n",
       "      <th></th>\n",
       "      <th></th>\n",
       "      <th></th>\n",
       "      <th></th>\n",
       "    </tr>\n",
       "  </thead>\n",
       "  <tbody>\n",
       "    <tr>\n",
       "      <th>6</th>\n",
       "      <td>0</td>\n",
       "      <td>3</td>\n",
       "      <td>Moran, Mr. James</td>\n",
       "      <td>male</td>\n",
       "      <td>NaN</td>\n",
       "      <td>0</td>\n",
       "      <td>0</td>\n",
       "      <td>330877</td>\n",
       "      <td>8.4583</td>\n",
       "      <td>NaN</td>\n",
       "      <td>Q</td>\n",
       "    </tr>\n",
       "    <tr>\n",
       "      <th>18</th>\n",
       "      <td>1</td>\n",
       "      <td>2</td>\n",
       "      <td>Williams, Mr. Charles Eugene</td>\n",
       "      <td>male</td>\n",
       "      <td>NaN</td>\n",
       "      <td>0</td>\n",
       "      <td>0</td>\n",
       "      <td>244373</td>\n",
       "      <td>13.0000</td>\n",
       "      <td>NaN</td>\n",
       "      <td>S</td>\n",
       "    </tr>\n",
       "    <tr>\n",
       "      <th>20</th>\n",
       "      <td>1</td>\n",
       "      <td>3</td>\n",
       "      <td>Masselmani, Mrs. Fatima</td>\n",
       "      <td>female</td>\n",
       "      <td>NaN</td>\n",
       "      <td>0</td>\n",
       "      <td>0</td>\n",
       "      <td>2649</td>\n",
       "      <td>7.2250</td>\n",
       "      <td>NaN</td>\n",
       "      <td>C</td>\n",
       "    </tr>\n",
       "    <tr>\n",
       "      <th>27</th>\n",
       "      <td>0</td>\n",
       "      <td>3</td>\n",
       "      <td>Emir, Mr. Farred Chehab</td>\n",
       "      <td>male</td>\n",
       "      <td>NaN</td>\n",
       "      <td>0</td>\n",
       "      <td>0</td>\n",
       "      <td>2631</td>\n",
       "      <td>7.2250</td>\n",
       "      <td>NaN</td>\n",
       "      <td>C</td>\n",
       "    </tr>\n",
       "    <tr>\n",
       "      <th>30</th>\n",
       "      <td>0</td>\n",
       "      <td>3</td>\n",
       "      <td>Todoroff, Mr. Lalio</td>\n",
       "      <td>male</td>\n",
       "      <td>NaN</td>\n",
       "      <td>0</td>\n",
       "      <td>0</td>\n",
       "      <td>349216</td>\n",
       "      <td>7.8958</td>\n",
       "      <td>NaN</td>\n",
       "      <td>S</td>\n",
       "    </tr>\n",
       "    <tr>\n",
       "      <th>...</th>\n",
       "      <td>...</td>\n",
       "      <td>...</td>\n",
       "      <td>...</td>\n",
       "      <td>...</td>\n",
       "      <td>...</td>\n",
       "      <td>...</td>\n",
       "      <td>...</td>\n",
       "      <td>...</td>\n",
       "      <td>...</td>\n",
       "      <td>...</td>\n",
       "      <td>...</td>\n",
       "    </tr>\n",
       "    <tr>\n",
       "      <th>847</th>\n",
       "      <td>0</td>\n",
       "      <td>3</td>\n",
       "      <td>Sage, Mr. Douglas Bullen</td>\n",
       "      <td>male</td>\n",
       "      <td>NaN</td>\n",
       "      <td>8</td>\n",
       "      <td>2</td>\n",
       "      <td>CA. 2343</td>\n",
       "      <td>69.5500</td>\n",
       "      <td>NaN</td>\n",
       "      <td>S</td>\n",
       "    </tr>\n",
       "    <tr>\n",
       "      <th>850</th>\n",
       "      <td>1</td>\n",
       "      <td>1</td>\n",
       "      <td>Goldenberg, Mrs. Samuel L (Edwiga Grabowska)</td>\n",
       "      <td>female</td>\n",
       "      <td>NaN</td>\n",
       "      <td>1</td>\n",
       "      <td>0</td>\n",
       "      <td>17453</td>\n",
       "      <td>89.1042</td>\n",
       "      <td>C92</td>\n",
       "      <td>C</td>\n",
       "    </tr>\n",
       "    <tr>\n",
       "      <th>860</th>\n",
       "      <td>0</td>\n",
       "      <td>3</td>\n",
       "      <td>Razi, Mr. Raihed</td>\n",
       "      <td>male</td>\n",
       "      <td>NaN</td>\n",
       "      <td>0</td>\n",
       "      <td>0</td>\n",
       "      <td>2629</td>\n",
       "      <td>7.2292</td>\n",
       "      <td>NaN</td>\n",
       "      <td>C</td>\n",
       "    </tr>\n",
       "    <tr>\n",
       "      <th>869</th>\n",
       "      <td>0</td>\n",
       "      <td>3</td>\n",
       "      <td>van Melkebeke, Mr. Philemon</td>\n",
       "      <td>male</td>\n",
       "      <td>NaN</td>\n",
       "      <td>0</td>\n",
       "      <td>0</td>\n",
       "      <td>345777</td>\n",
       "      <td>9.5000</td>\n",
       "      <td>NaN</td>\n",
       "      <td>S</td>\n",
       "    </tr>\n",
       "    <tr>\n",
       "      <th>879</th>\n",
       "      <td>0</td>\n",
       "      <td>3</td>\n",
       "      <td>Laleff, Mr. Kristo</td>\n",
       "      <td>male</td>\n",
       "      <td>NaN</td>\n",
       "      <td>0</td>\n",
       "      <td>0</td>\n",
       "      <td>349217</td>\n",
       "      <td>7.8958</td>\n",
       "      <td>NaN</td>\n",
       "      <td>S</td>\n",
       "    </tr>\n",
       "  </tbody>\n",
       "</table>\n",
       "<p>136 rows × 11 columns</p>\n",
       "</div>"
      ],
      "text/plain": [
       "             Survived  Pclass                                          Name  \\\n",
       "PassengerId                                                                   \n",
       "6                   0       3                              Moran, Mr. James   \n",
       "18                  1       2                  Williams, Mr. Charles Eugene   \n",
       "20                  1       3                       Masselmani, Mrs. Fatima   \n",
       "27                  0       3                       Emir, Mr. Farred Chehab   \n",
       "30                  0       3                           Todoroff, Mr. Lalio   \n",
       "...               ...     ...                                           ...   \n",
       "847                 0       3                      Sage, Mr. Douglas Bullen   \n",
       "850                 1       1  Goldenberg, Mrs. Samuel L (Edwiga Grabowska)   \n",
       "860                 0       3                              Razi, Mr. Raihed   \n",
       "869                 0       3                   van Melkebeke, Mr. Philemon   \n",
       "879                 0       3                            Laleff, Mr. Kristo   \n",
       "\n",
       "                Sex  Age  SibSp  Parch    Ticket     Fare Cabin Embarked  \n",
       "PassengerId                                                               \n",
       "6              male  NaN      0      0    330877   8.4583   NaN        Q  \n",
       "18             male  NaN      0      0    244373  13.0000   NaN        S  \n",
       "20           female  NaN      0      0      2649   7.2250   NaN        C  \n",
       "27             male  NaN      0      0      2631   7.2250   NaN        C  \n",
       "30             male  NaN      0      0    349216   7.8958   NaN        S  \n",
       "...             ...  ...    ...    ...       ...      ...   ...      ...  \n",
       "847            male  NaN      8      2  CA. 2343  69.5500   NaN        S  \n",
       "850          female  NaN      1      0     17453  89.1042   C92        C  \n",
       "860            male  NaN      0      0      2629   7.2292   NaN        C  \n",
       "869            male  NaN      0      0    345777   9.5000   NaN        S  \n",
       "879            male  NaN      0      0    349217   7.8958   NaN        S  \n",
       "\n",
       "[136 rows x 11 columns]"
      ]
     },
     "execution_count": 33,
     "metadata": {},
     "output_type": "execute_result"
    }
   ],
   "source": [
    "mrOrMrs_nonAge"
   ]
  },
  {
   "cell_type": "code",
   "execution_count": 34,
   "id": "e3801bd9",
   "metadata": {
    "execution": {
     "iopub.execute_input": "2022-10-27T16:57:28.964078Z",
     "iopub.status.busy": "2022-10-27T16:57:28.963466Z",
     "iopub.status.idle": "2022-10-27T16:57:28.977644Z",
     "shell.execute_reply": "2022-10-27T16:57:28.976717Z"
    },
    "papermill": {
     "duration": 0.059911,
     "end_time": "2022-10-27T16:57:28.979662",
     "exception": false,
     "start_time": "2022-10-27T16:57:28.919751",
     "status": "completed"
    },
    "tags": []
   },
   "outputs": [
    {
     "data": {
      "text/html": [
       "<div>\n",
       "<style scoped>\n",
       "    .dataframe tbody tr th:only-of-type {\n",
       "        vertical-align: middle;\n",
       "    }\n",
       "\n",
       "    .dataframe tbody tr th {\n",
       "        vertical-align: top;\n",
       "    }\n",
       "\n",
       "    .dataframe thead th {\n",
       "        text-align: right;\n",
       "    }\n",
       "</style>\n",
       "<table border=\"1\" class=\"dataframe\">\n",
       "  <thead>\n",
       "    <tr style=\"text-align: right;\">\n",
       "      <th></th>\n",
       "      <th>Survived</th>\n",
       "      <th>Pclass</th>\n",
       "      <th>Name</th>\n",
       "      <th>Sex</th>\n",
       "      <th>Age</th>\n",
       "      <th>SibSp</th>\n",
       "      <th>Parch</th>\n",
       "      <th>Ticket</th>\n",
       "      <th>Fare</th>\n",
       "      <th>Cabin</th>\n",
       "      <th>Embarked</th>\n",
       "    </tr>\n",
       "    <tr>\n",
       "      <th>PassengerId</th>\n",
       "      <th></th>\n",
       "      <th></th>\n",
       "      <th></th>\n",
       "      <th></th>\n",
       "      <th></th>\n",
       "      <th></th>\n",
       "      <th></th>\n",
       "      <th></th>\n",
       "      <th></th>\n",
       "      <th></th>\n",
       "      <th></th>\n",
       "    </tr>\n",
       "  </thead>\n",
       "  <tbody>\n",
       "    <tr>\n",
       "      <th>10</th>\n",
       "      <td>1</td>\n",
       "      <td>2</td>\n",
       "      <td>Nasser, Mrs. Nicholas (Adele Achem)</td>\n",
       "      <td>female</td>\n",
       "      <td>14.0</td>\n",
       "      <td>1</td>\n",
       "      <td>0</td>\n",
       "      <td>237736</td>\n",
       "      <td>30.0708</td>\n",
       "      <td>NaN</td>\n",
       "      <td>C</td>\n",
       "    </tr>\n",
       "    <tr>\n",
       "      <th>684</th>\n",
       "      <td>0</td>\n",
       "      <td>3</td>\n",
       "      <td>Goodwin, Mr. Charles Edward</td>\n",
       "      <td>male</td>\n",
       "      <td>14.0</td>\n",
       "      <td>5</td>\n",
       "      <td>2</td>\n",
       "      <td>CA 2144</td>\n",
       "      <td>46.9000</td>\n",
       "      <td>NaN</td>\n",
       "      <td>S</td>\n",
       "    </tr>\n",
       "    <tr>\n",
       "      <th>687</th>\n",
       "      <td>0</td>\n",
       "      <td>3</td>\n",
       "      <td>Panula, Mr. Jaako Arnold</td>\n",
       "      <td>male</td>\n",
       "      <td>14.0</td>\n",
       "      <td>4</td>\n",
       "      <td>1</td>\n",
       "      <td>3101295</td>\n",
       "      <td>39.6875</td>\n",
       "      <td>NaN</td>\n",
       "      <td>S</td>\n",
       "    </tr>\n",
       "    <tr>\n",
       "      <th>732</th>\n",
       "      <td>0</td>\n",
       "      <td>3</td>\n",
       "      <td>Hassan, Mr. Houssein G N</td>\n",
       "      <td>male</td>\n",
       "      <td>11.0</td>\n",
       "      <td>0</td>\n",
       "      <td>0</td>\n",
       "      <td>2699</td>\n",
       "      <td>18.7875</td>\n",
       "      <td>NaN</td>\n",
       "      <td>C</td>\n",
       "    </tr>\n",
       "  </tbody>\n",
       "</table>\n",
       "</div>"
      ],
      "text/plain": [
       "             Survived  Pclass                                 Name     Sex  \\\n",
       "PassengerId                                                                  \n",
       "10                  1       2  Nasser, Mrs. Nicholas (Adele Achem)  female   \n",
       "684                 0       3          Goodwin, Mr. Charles Edward    male   \n",
       "687                 0       3             Panula, Mr. Jaako Arnold    male   \n",
       "732                 0       3             Hassan, Mr. Houssein G N    male   \n",
       "\n",
       "              Age  SibSp  Parch   Ticket     Fare Cabin Embarked  \n",
       "PassengerId                                                       \n",
       "10           14.0      1      0   237736  30.0708   NaN        C  \n",
       "684          14.0      5      2  CA 2144  46.9000   NaN        S  \n",
       "687          14.0      4      1  3101295  39.6875   NaN        S  \n",
       "732          11.0      0      0     2699  18.7875   NaN        C  "
      ]
     },
     "execution_count": 34,
     "metadata": {},
     "output_type": "execute_result"
    }
   ],
   "source": [
    "mrOrMrs[mrOrMrs[\"Age\"]<15]"
   ]
  },
  {
   "cell_type": "code",
   "execution_count": 35,
   "id": "b1ad12af",
   "metadata": {
    "execution": {
     "iopub.execute_input": "2022-10-27T16:57:29.068225Z",
     "iopub.status.busy": "2022-10-27T16:57:29.067856Z",
     "iopub.status.idle": "2022-10-27T16:57:29.090687Z",
     "shell.execute_reply": "2022-10-27T16:57:29.089924Z"
    },
    "papermill": {
     "duration": 0.06947,
     "end_time": "2022-10-27T16:57:29.092548",
     "exception": false,
     "start_time": "2022-10-27T16:57:29.023078",
     "status": "completed"
    },
    "tags": []
   },
   "outputs": [
    {
     "data": {
      "text/html": [
       "<div>\n",
       "<style scoped>\n",
       "    .dataframe tbody tr th:only-of-type {\n",
       "        vertical-align: middle;\n",
       "    }\n",
       "\n",
       "    .dataframe tbody tr th {\n",
       "        vertical-align: top;\n",
       "    }\n",
       "\n",
       "    .dataframe thead th {\n",
       "        text-align: right;\n",
       "    }\n",
       "</style>\n",
       "<table border=\"1\" class=\"dataframe\">\n",
       "  <thead>\n",
       "    <tr style=\"text-align: right;\">\n",
       "      <th></th>\n",
       "      <th>Survived</th>\n",
       "      <th>Pclass</th>\n",
       "      <th>Name</th>\n",
       "      <th>Sex</th>\n",
       "      <th>Age</th>\n",
       "      <th>SibSp</th>\n",
       "      <th>Parch</th>\n",
       "      <th>Ticket</th>\n",
       "      <th>Fare</th>\n",
       "      <th>Cabin</th>\n",
       "      <th>Embarked</th>\n",
       "    </tr>\n",
       "    <tr>\n",
       "      <th>PassengerId</th>\n",
       "      <th></th>\n",
       "      <th></th>\n",
       "      <th></th>\n",
       "      <th></th>\n",
       "      <th></th>\n",
       "      <th></th>\n",
       "      <th></th>\n",
       "      <th></th>\n",
       "      <th></th>\n",
       "      <th></th>\n",
       "      <th></th>\n",
       "    </tr>\n",
       "  </thead>\n",
       "  <tbody>\n",
       "    <tr>\n",
       "      <th>8</th>\n",
       "      <td>0</td>\n",
       "      <td>3</td>\n",
       "      <td>Palsson, Master. Gosta Leonard</td>\n",
       "      <td>male</td>\n",
       "      <td>2.00</td>\n",
       "      <td>3</td>\n",
       "      <td>1</td>\n",
       "      <td>349909</td>\n",
       "      <td>21.0750</td>\n",
       "      <td>NaN</td>\n",
       "      <td>S</td>\n",
       "    </tr>\n",
       "    <tr>\n",
       "      <th>11</th>\n",
       "      <td>1</td>\n",
       "      <td>3</td>\n",
       "      <td>Sandstrom, Miss. Marguerite Rut</td>\n",
       "      <td>female</td>\n",
       "      <td>4.00</td>\n",
       "      <td>1</td>\n",
       "      <td>1</td>\n",
       "      <td>PP 9549</td>\n",
       "      <td>16.7000</td>\n",
       "      <td>G6</td>\n",
       "      <td>S</td>\n",
       "    </tr>\n",
       "    <tr>\n",
       "      <th>17</th>\n",
       "      <td>0</td>\n",
       "      <td>3</td>\n",
       "      <td>Rice, Master. Eugene</td>\n",
       "      <td>male</td>\n",
       "      <td>2.00</td>\n",
       "      <td>4</td>\n",
       "      <td>1</td>\n",
       "      <td>382652</td>\n",
       "      <td>29.1250</td>\n",
       "      <td>NaN</td>\n",
       "      <td>Q</td>\n",
       "    </tr>\n",
       "    <tr>\n",
       "      <th>25</th>\n",
       "      <td>0</td>\n",
       "      <td>3</td>\n",
       "      <td>Palsson, Miss. Torborg Danira</td>\n",
       "      <td>female</td>\n",
       "      <td>8.00</td>\n",
       "      <td>3</td>\n",
       "      <td>1</td>\n",
       "      <td>349909</td>\n",
       "      <td>21.0750</td>\n",
       "      <td>NaN</td>\n",
       "      <td>S</td>\n",
       "    </tr>\n",
       "    <tr>\n",
       "      <th>44</th>\n",
       "      <td>1</td>\n",
       "      <td>2</td>\n",
       "      <td>Laroche, Miss. Simonne Marie Anne Andree</td>\n",
       "      <td>female</td>\n",
       "      <td>3.00</td>\n",
       "      <td>1</td>\n",
       "      <td>2</td>\n",
       "      <td>SC/Paris 2123</td>\n",
       "      <td>41.5792</td>\n",
       "      <td>NaN</td>\n",
       "      <td>C</td>\n",
       "    </tr>\n",
       "    <tr>\n",
       "      <th>...</th>\n",
       "      <td>...</td>\n",
       "      <td>...</td>\n",
       "      <td>...</td>\n",
       "      <td>...</td>\n",
       "      <td>...</td>\n",
       "      <td>...</td>\n",
       "      <td>...</td>\n",
       "      <td>...</td>\n",
       "      <td>...</td>\n",
       "      <td>...</td>\n",
       "      <td>...</td>\n",
       "    </tr>\n",
       "    <tr>\n",
       "      <th>828</th>\n",
       "      <td>1</td>\n",
       "      <td>2</td>\n",
       "      <td>Mallet, Master. Andre</td>\n",
       "      <td>male</td>\n",
       "      <td>1.00</td>\n",
       "      <td>0</td>\n",
       "      <td>2</td>\n",
       "      <td>S.C./PARIS 2079</td>\n",
       "      <td>37.0042</td>\n",
       "      <td>NaN</td>\n",
       "      <td>C</td>\n",
       "    </tr>\n",
       "    <tr>\n",
       "      <th>832</th>\n",
       "      <td>1</td>\n",
       "      <td>2</td>\n",
       "      <td>Richards, Master. George Sibley</td>\n",
       "      <td>male</td>\n",
       "      <td>0.83</td>\n",
       "      <td>1</td>\n",
       "      <td>1</td>\n",
       "      <td>29106</td>\n",
       "      <td>18.7500</td>\n",
       "      <td>NaN</td>\n",
       "      <td>S</td>\n",
       "    </tr>\n",
       "    <tr>\n",
       "      <th>851</th>\n",
       "      <td>0</td>\n",
       "      <td>3</td>\n",
       "      <td>Andersson, Master. Sigvard Harald Elias</td>\n",
       "      <td>male</td>\n",
       "      <td>4.00</td>\n",
       "      <td>4</td>\n",
       "      <td>2</td>\n",
       "      <td>347082</td>\n",
       "      <td>31.2750</td>\n",
       "      <td>NaN</td>\n",
       "      <td>S</td>\n",
       "    </tr>\n",
       "    <tr>\n",
       "      <th>853</th>\n",
       "      <td>0</td>\n",
       "      <td>3</td>\n",
       "      <td>Boulos, Miss. Nourelain</td>\n",
       "      <td>female</td>\n",
       "      <td>9.00</td>\n",
       "      <td>1</td>\n",
       "      <td>1</td>\n",
       "      <td>2678</td>\n",
       "      <td>15.2458</td>\n",
       "      <td>NaN</td>\n",
       "      <td>C</td>\n",
       "    </tr>\n",
       "    <tr>\n",
       "      <th>870</th>\n",
       "      <td>1</td>\n",
       "      <td>3</td>\n",
       "      <td>Johnson, Master. Harold Theodor</td>\n",
       "      <td>male</td>\n",
       "      <td>4.00</td>\n",
       "      <td>1</td>\n",
       "      <td>1</td>\n",
       "      <td>347742</td>\n",
       "      <td>11.1333</td>\n",
       "      <td>NaN</td>\n",
       "      <td>S</td>\n",
       "    </tr>\n",
       "  </tbody>\n",
       "</table>\n",
       "<p>62 rows × 11 columns</p>\n",
       "</div>"
      ],
      "text/plain": [
       "             Survived  Pclass                                      Name  \\\n",
       "PassengerId                                                               \n",
       "8                   0       3            Palsson, Master. Gosta Leonard   \n",
       "11                  1       3           Sandstrom, Miss. Marguerite Rut   \n",
       "17                  0       3                      Rice, Master. Eugene   \n",
       "25                  0       3             Palsson, Miss. Torborg Danira   \n",
       "44                  1       2  Laroche, Miss. Simonne Marie Anne Andree   \n",
       "...               ...     ...                                       ...   \n",
       "828                 1       2                     Mallet, Master. Andre   \n",
       "832                 1       2           Richards, Master. George Sibley   \n",
       "851                 0       3   Andersson, Master. Sigvard Harald Elias   \n",
       "853                 0       3                   Boulos, Miss. Nourelain   \n",
       "870                 1       3           Johnson, Master. Harold Theodor   \n",
       "\n",
       "                Sex   Age  SibSp  Parch           Ticket     Fare Cabin  \\\n",
       "PassengerId                                                               \n",
       "8              male  2.00      3      1           349909  21.0750   NaN   \n",
       "11           female  4.00      1      1          PP 9549  16.7000    G6   \n",
       "17             male  2.00      4      1           382652  29.1250   NaN   \n",
       "25           female  8.00      3      1           349909  21.0750   NaN   \n",
       "44           female  3.00      1      2    SC/Paris 2123  41.5792   NaN   \n",
       "...             ...   ...    ...    ...              ...      ...   ...   \n",
       "828            male  1.00      0      2  S.C./PARIS 2079  37.0042   NaN   \n",
       "832            male  0.83      1      1            29106  18.7500   NaN   \n",
       "851            male  4.00      4      2           347082  31.2750   NaN   \n",
       "853          female  9.00      1      1             2678  15.2458   NaN   \n",
       "870            male  4.00      1      1           347742  11.1333   NaN   \n",
       "\n",
       "            Embarked  \n",
       "PassengerId           \n",
       "8                  S  \n",
       "11                 S  \n",
       "17                 Q  \n",
       "25                 S  \n",
       "44                 C  \n",
       "...              ...  \n",
       "828                C  \n",
       "832                S  \n",
       "851                S  \n",
       "853                C  \n",
       "870                S  \n",
       "\n",
       "[62 rows x 11 columns]"
      ]
     },
     "execution_count": 35,
     "metadata": {},
     "output_type": "execute_result"
    }
   ],
   "source": [
    "train_data[train_data[\"Age\"]<10]"
   ]
  },
  {
   "cell_type": "code",
   "execution_count": 36,
   "id": "f363e75c",
   "metadata": {
    "execution": {
     "iopub.execute_input": "2022-10-27T16:57:29.180975Z",
     "iopub.status.busy": "2022-10-27T16:57:29.180371Z",
     "iopub.status.idle": "2022-10-27T16:57:29.185025Z",
     "shell.execute_reply": "2022-10-27T16:57:29.184406Z"
    },
    "papermill": {
     "duration": 0.05131,
     "end_time": "2022-10-27T16:57:29.186875",
     "exception": false,
     "start_time": "2022-10-27T16:57:29.135565",
     "status": "completed"
    },
    "tags": []
   },
   "outputs": [],
   "source": [
    "_3_class_lonly = compare_Age[compare_Age[\"Pclass\"]==3]"
   ]
  },
  {
   "cell_type": "code",
   "execution_count": 37,
   "id": "f1a8b533",
   "metadata": {
    "execution": {
     "iopub.execute_input": "2022-10-27T16:57:29.274590Z",
     "iopub.status.busy": "2022-10-27T16:57:29.273950Z",
     "iopub.status.idle": "2022-10-27T16:57:29.543805Z",
     "shell.execute_reply": "2022-10-27T16:57:29.542804Z"
    },
    "papermill": {
     "duration": 0.316601,
     "end_time": "2022-10-27T16:57:29.546453",
     "exception": false,
     "start_time": "2022-10-27T16:57:29.229852",
     "status": "completed"
    },
    "tags": []
   },
   "outputs": [
    {
     "data": {
      "text/plain": [
       "<AxesSubplot:xlabel='Age', ylabel='Count'>"
      ]
     },
     "execution_count": 37,
     "metadata": {},
     "output_type": "execute_result"
    },
    {
     "data": {
      "image/png": "[encoded data removed]",
      "text/plain": [
       "<Figure size 432x288 with 1 Axes>"
      ]
     },
     "metadata": {
      "needs_background": "light"
     },
     "output_type": "display_data"
    }
   ],
   "source": [
    "sns.histplot(data = _3_class_lonly , x = _3_class_lonly[\"Age\"],hue=\"Sex\")"
   ]
  },
  {
   "cell_type": "code",
   "execution_count": 38,
   "id": "6b3aeb8d",
   "metadata": {
    "execution": {
     "iopub.execute_input": "2022-10-27T16:57:29.636380Z",
     "iopub.status.busy": "2022-10-27T16:57:29.635973Z",
     "iopub.status.idle": "2022-10-27T16:57:29.643869Z",
     "shell.execute_reply": "2022-10-27T16:57:29.642460Z"
    },
    "papermill": {
     "duration": 0.055274,
     "end_time": "2022-10-27T16:57:29.646341",
     "exception": false,
     "start_time": "2022-10-27T16:57:29.591067",
     "status": "completed"
    },
    "tags": []
   },
   "outputs": [
    {
     "data": {
      "text/plain": [
       "array(['male', 'female'], dtype=object)"
      ]
     },
     "execution_count": 38,
     "metadata": {},
     "output_type": "execute_result"
    }
   ],
   "source": [
    "train_data[\"Sex\"].unique()"
   ]
  },
  {
   "cell_type": "code",
   "execution_count": 39,
   "id": "6bccdc32",
   "metadata": {
    "execution": {
     "iopub.execute_input": "2022-10-27T16:57:29.736588Z",
     "iopub.status.busy": "2022-10-27T16:57:29.736180Z",
     "iopub.status.idle": "2022-10-27T16:57:29.742962Z",
     "shell.execute_reply": "2022-10-27T16:57:29.741816Z"
    },
    "papermill": {
     "duration": 0.054052,
     "end_time": "2022-10-27T16:57:29.744780",
     "exception": false,
     "start_time": "2022-10-27T16:57:29.690728",
     "status": "completed"
    },
    "tags": []
   },
   "outputs": [
    {
     "data": {
      "text/plain": [
       "28.235555555555557"
      ]
     },
     "execution_count": 39,
     "metadata": {},
     "output_type": "execute_result"
    }
   ],
   "source": [
    "_3_class_lonly[\"Age\"].mean()"
   ]
  },
  {
   "cell_type": "code",
   "execution_count": 40,
   "id": "f279f95d",
   "metadata": {
    "execution": {
     "iopub.execute_input": "2022-10-27T16:57:29.833286Z",
     "iopub.status.busy": "2022-10-27T16:57:29.832586Z",
     "iopub.status.idle": "2022-10-27T16:57:29.844197Z",
     "shell.execute_reply": "2022-10-27T16:57:29.843142Z"
    },
    "papermill": {
     "duration": 0.058199,
     "end_time": "2022-10-27T16:57:29.846477",
     "exception": false,
     "start_time": "2022-10-27T16:57:29.788278",
     "status": "completed"
    },
    "tags": []
   },
   "outputs": [
    {
     "name": "stdout",
     "output_type": "stream",
     "text": [
      "<class 'pandas.core.frame.DataFrame'>\n",
      "Int64Index: 891 entries, 1 to 891\n",
      "Data columns (total 11 columns):\n",
      " #   Column    Non-Null Count  Dtype  \n",
      "---  ------    --------------  -----  \n",
      " 0   Survived  891 non-null    int64  \n",
      " 1   Pclass    891 non-null    int64  \n",
      " 2   Name      891 non-null    object \n",
      " 3   Sex       891 non-null    object \n",
      " 4   Age       714 non-null    float64\n",
      " 5   SibSp     891 non-null    int64  \n",
      " 6   Parch     891 non-null    int64  \n",
      " 7   Ticket    891 non-null    object \n",
      " 8   Fare      891 non-null    float64\n",
      " 9   Cabin     204 non-null    object \n",
      " 10  Embarked  889 non-null    object \n",
      "dtypes: float64(2), int64(4), object(5)\n",
      "memory usage: 83.5+ KB\n"
     ]
    }
   ],
   "source": [
    "train_data.info()"
   ]
  },
  {
   "cell_type": "code",
   "execution_count": 41,
   "id": "f635dd8f",
   "metadata": {
    "execution": {
     "iopub.execute_input": "2022-10-27T16:57:29.938885Z",
     "iopub.status.busy": "2022-10-27T16:57:29.937762Z",
     "iopub.status.idle": "2022-10-27T16:57:29.945767Z",
     "shell.execute_reply": "2022-10-27T16:57:29.943939Z"
    },
    "papermill": {
     "duration": 0.056622,
     "end_time": "2022-10-27T16:57:29.948073",
     "exception": false,
     "start_time": "2022-10-27T16:57:29.891451",
     "status": "completed"
    },
    "tags": []
   },
   "outputs": [],
   "source": [
    "ids =train_data[(train_data[\"SibSp\"]==0) &(train_data[\"Parch\"]==0) & (train_data[\"Pclass\"]==3) & (train_data[\"Age\"].isna())].index"
   ]
  },
  {
   "cell_type": "code",
   "execution_count": 42,
   "id": "9b852882",
   "metadata": {
    "execution": {
     "iopub.execute_input": "2022-10-27T16:57:30.038569Z",
     "iopub.status.busy": "2022-10-27T16:57:30.037694Z",
     "iopub.status.idle": "2022-10-27T16:57:30.047300Z",
     "shell.execute_reply": "2022-10-27T16:57:30.046062Z"
    },
    "papermill": {
     "duration": 0.05804,
     "end_time": "2022-10-27T16:57:30.050147",
     "exception": false,
     "start_time": "2022-10-27T16:57:29.992107",
     "status": "completed"
    },
    "tags": []
   },
   "outputs": [
    {
     "data": {
      "text/plain": [
       "Int64Index([  6,  20,  27,  29,  30,  33,  37,  43,  46,  48,  77,  78,  83,\n",
       "             88,  96, 102, 108, 122, 127, 155, 159, 197, 199, 224, 236, 251,\n",
       "            261, 265, 275, 301, 305, 336, 355, 359, 360, 368, 369, 385, 389,\n",
       "            411, 412, 416, 421, 426, 429, 445, 455, 460, 465, 469, 471, 496,\n",
       "            498, 503, 512, 518, 523, 525, 532, 539, 553, 561, 564, 565, 569,\n",
       "            574, 585, 590, 599, 602, 612, 614, 630, 644, 649, 651, 654, 657,\n",
       "            668, 681, 693, 698, 719, 728, 739, 740, 761, 774, 777, 779, 791,\n",
       "            826, 827, 829, 833, 838, 860, 869, 879],\n",
       "           dtype='int64', name='PassengerId')"
      ]
     },
     "execution_count": 42,
     "metadata": {},
     "output_type": "execute_result"
    }
   ],
   "source": [
    "ids.sort_values()"
   ]
  },
  {
   "cell_type": "code",
   "execution_count": 43,
   "id": "4f7da44c",
   "metadata": {
    "execution": {
     "iopub.execute_input": "2022-10-27T16:57:30.141730Z",
     "iopub.status.busy": "2022-10-27T16:57:30.141339Z",
     "iopub.status.idle": "2022-10-27T16:57:30.155326Z",
     "shell.execute_reply": "2022-10-27T16:57:30.153565Z"
    },
    "papermill": {
     "duration": 0.063194,
     "end_time": "2022-10-27T16:57:30.158458",
     "exception": false,
     "start_time": "2022-10-27T16:57:30.095264",
     "status": "completed"
    },
    "tags": []
   },
   "outputs": [
    {
     "name": "stderr",
     "output_type": "stream",
     "text": [
      "/opt/conda/lib/python3.7/site-packages/pandas/core/indexing.py:1732: SettingWithCopyWarning: \n",
      "A value is trying to be set on a copy of a slice from a DataFrame\n",
      "\n",
      "See the caveats in the documentation: https://pandas.pydata.org/pandas-docs/stable/user_guide/indexing.html#returning-a-view-versus-a-copy\n",
      "  self._setitem_single_block(indexer, value, name)\n"
     ]
    }
   ],
   "source": [
    "train_data[\"Age\"].loc[ids]=train_data.loc[ids][\"Age\"].replace(np.nan,28)"
   ]
  },
  {
   "cell_type": "code",
   "execution_count": 44,
   "id": "3fce5631",
   "metadata": {
    "execution": {
     "iopub.execute_input": "2022-10-27T16:57:30.248734Z",
     "iopub.status.busy": "2022-10-27T16:57:30.248324Z",
     "iopub.status.idle": "2022-10-27T16:57:30.258558Z",
     "shell.execute_reply": "2022-10-27T16:57:30.256952Z"
    },
    "papermill": {
     "duration": 0.058823,
     "end_time": "2022-10-27T16:57:30.261266",
     "exception": false,
     "start_time": "2022-10-27T16:57:30.202443",
     "status": "completed"
    },
    "tags": []
   },
   "outputs": [
    {
     "data": {
      "text/plain": [
       "PassengerId\n",
       "6      28.0\n",
       "20     28.0\n",
       "27     28.0\n",
       "29     28.0\n",
       "30     28.0\n",
       "       ... \n",
       "833    28.0\n",
       "838    28.0\n",
       "860    28.0\n",
       "869    28.0\n",
       "879    28.0\n",
       "Name: Age, Length: 99, dtype: float64"
      ]
     },
     "execution_count": 44,
     "metadata": {},
     "output_type": "execute_result"
    }
   ],
   "source": [
    "train_data.loc[ids][\"Age\"] "
   ]
  },
  {
   "cell_type": "code",
   "execution_count": 45,
   "id": "55a40b60",
   "metadata": {
    "execution": {
     "iopub.execute_input": "2022-10-27T16:57:30.352004Z",
     "iopub.status.busy": "2022-10-27T16:57:30.351602Z",
     "iopub.status.idle": "2022-10-27T16:57:30.366092Z",
     "shell.execute_reply": "2022-10-27T16:57:30.364865Z"
    },
    "papermill": {
     "duration": 0.062875,
     "end_time": "2022-10-27T16:57:30.368419",
     "exception": false,
     "start_time": "2022-10-27T16:57:30.305544",
     "status": "completed"
    },
    "tags": []
   },
   "outputs": [
    {
     "name": "stdout",
     "output_type": "stream",
     "text": [
      "<class 'pandas.core.frame.DataFrame'>\n",
      "Int64Index: 891 entries, 1 to 891\n",
      "Data columns (total 11 columns):\n",
      " #   Column    Non-Null Count  Dtype  \n",
      "---  ------    --------------  -----  \n",
      " 0   Survived  891 non-null    int64  \n",
      " 1   Pclass    891 non-null    int64  \n",
      " 2   Name      891 non-null    object \n",
      " 3   Sex       891 non-null    object \n",
      " 4   Age       813 non-null    float64\n",
      " 5   SibSp     891 non-null    int64  \n",
      " 6   Parch     891 non-null    int64  \n",
      " 7   Ticket    891 non-null    object \n",
      " 8   Fare      891 non-null    float64\n",
      " 9   Cabin     204 non-null    object \n",
      " 10  Embarked  889 non-null    object \n",
      "dtypes: float64(2), int64(4), object(5)\n",
      "memory usage: 115.8+ KB\n"
     ]
    }
   ],
   "source": [
    "train_data.info()"
   ]
  },
  {
   "cell_type": "code",
   "execution_count": 46,
   "id": "457e12b9",
   "metadata": {
    "execution": {
     "iopub.execute_input": "2022-10-27T16:57:30.459983Z",
     "iopub.status.busy": "2022-10-27T16:57:30.459611Z",
     "iopub.status.idle": "2022-10-27T16:57:30.465848Z",
     "shell.execute_reply": "2022-10-27T16:57:30.464430Z"
    },
    "papermill": {
     "duration": 0.054766,
     "end_time": "2022-10-27T16:57:30.468498",
     "exception": false,
     "start_time": "2022-10-27T16:57:30.413732",
     "status": "completed"
    },
    "tags": []
   },
   "outputs": [],
   "source": [
    "_2_class_lonly = compare_Age[compare_Age[\"Pclass\"]==2]"
   ]
  },
  {
   "cell_type": "code",
   "execution_count": 47,
   "id": "59c95bcb",
   "metadata": {
    "execution": {
     "iopub.execute_input": "2022-10-27T16:57:30.560091Z",
     "iopub.status.busy": "2022-10-27T16:57:30.559162Z",
     "iopub.status.idle": "2022-10-27T16:57:30.793567Z",
     "shell.execute_reply": "2022-10-27T16:57:30.791903Z"
    },
    "papermill": {
     "duration": 0.28367,
     "end_time": "2022-10-27T16:57:30.796464",
     "exception": false,
     "start_time": "2022-10-27T16:57:30.512794",
     "status": "completed"
    },
    "tags": []
   },
   "outputs": [
    {
     "data": {
      "text/plain": [
       "<AxesSubplot:xlabel='Age', ylabel='Count'>"
      ]
     },
     "execution_count": 47,
     "metadata": {},
     "output_type": "execute_result"
    },
    {
     "data": {
      "image/png": "[encoded data removed]",
      "text/plain": [
       "<Figure size 432x288 with 1 Axes>"
      ]
     },
     "metadata": {
      "needs_background": "light"
     },
     "output_type": "display_data"
    }
   ],
   "source": [
    "sns.histplot(data = _2_class_lonly , x = _2_class_lonly[\"Age\"],hue=\"Sex\")"
   ]
  },
  {
   "cell_type": "code",
   "execution_count": 48,
   "id": "ade9e4c7",
   "metadata": {
    "execution": {
     "iopub.execute_input": "2022-10-27T16:57:30.888114Z",
     "iopub.status.busy": "2022-10-27T16:57:30.887703Z",
     "iopub.status.idle": "2022-10-27T16:57:30.899053Z",
     "shell.execute_reply": "2022-10-27T16:57:30.897647Z"
    },
    "papermill": {
     "duration": 0.060536,
     "end_time": "2022-10-27T16:57:30.902190",
     "exception": false,
     "start_time": "2022-10-27T16:57:30.841654",
     "status": "completed"
    },
    "tags": []
   },
   "outputs": [
    {
     "name": "stderr",
     "output_type": "stream",
     "text": [
      "/opt/conda/lib/python3.7/site-packages/ipykernel_launcher.py:1: FutureWarning: Dropping of nuisance columns in DataFrame reductions (with 'numeric_only=None') is deprecated; in a future version this will raise TypeError.  Select only valid columns before calling the reduction.\n",
      "  \"\"\"Entry point for launching an IPython kernel.\n"
     ]
    },
    {
     "data": {
      "text/plain": [
       "Survived     0.344086\n",
       "Pclass       2.000000\n",
       "Age         33.736559\n",
       "SibSp        0.000000\n",
       "Parch        0.000000\n",
       "Fare        14.791532\n",
       "dtype: float64"
      ]
     },
     "execution_count": 48,
     "metadata": {},
     "output_type": "execute_result"
    }
   ],
   "source": [
    "_2_class_lonly.mean()"
   ]
  },
  {
   "cell_type": "code",
   "execution_count": 49,
   "id": "eae218e9",
   "metadata": {
    "execution": {
     "iopub.execute_input": "2022-10-27T16:57:30.994297Z",
     "iopub.status.busy": "2022-10-27T16:57:30.993960Z",
     "iopub.status.idle": "2022-10-27T16:57:31.001441Z",
     "shell.execute_reply": "2022-10-27T16:57:31.000293Z"
    },
    "papermill": {
     "duration": 0.056175,
     "end_time": "2022-10-27T16:57:31.003467",
     "exception": false,
     "start_time": "2022-10-27T16:57:30.947292",
     "status": "completed"
    },
    "tags": []
   },
   "outputs": [],
   "source": [
    "ids2 =train_data[(train_data[\"SibSp\"]==0) &(train_data[\"Parch\"]==0) & (train_data[\"Pclass\"]==2) & (train_data[\"Age\"].isna())].index"
   ]
  },
  {
   "cell_type": "code",
   "execution_count": 50,
   "id": "c2967f3d",
   "metadata": {
    "execution": {
     "iopub.execute_input": "2022-10-27T16:57:31.094927Z",
     "iopub.status.busy": "2022-10-27T16:57:31.094539Z",
     "iopub.status.idle": "2022-10-27T16:57:31.100052Z",
     "shell.execute_reply": "2022-10-27T16:57:31.099410Z"
    },
    "papermill": {
     "duration": 0.054475,
     "end_time": "2022-10-27T16:57:31.102721",
     "exception": false,
     "start_time": "2022-10-27T16:57:31.048246",
     "status": "completed"
    },
    "tags": []
   },
   "outputs": [
    {
     "data": {
      "text/plain": [
       "Int64Index([18, 182, 278, 304, 414, 467, 482, 548, 597, 675, 733], dtype='int64', name='PassengerId')"
      ]
     },
     "execution_count": 50,
     "metadata": {},
     "output_type": "execute_result"
    }
   ],
   "source": [
    "ids2"
   ]
  },
  {
   "cell_type": "code",
   "execution_count": 51,
   "id": "d9cfbf32",
   "metadata": {
    "execution": {
     "iopub.execute_input": "2022-10-27T16:57:31.198089Z",
     "iopub.status.busy": "2022-10-27T16:57:31.197745Z",
     "iopub.status.idle": "2022-10-27T16:57:31.206939Z",
     "shell.execute_reply": "2022-10-27T16:57:31.205546Z"
    },
    "papermill": {
     "duration": 0.058003,
     "end_time": "2022-10-27T16:57:31.208951",
     "exception": false,
     "start_time": "2022-10-27T16:57:31.150948",
     "status": "completed"
    },
    "tags": []
   },
   "outputs": [
    {
     "data": {
      "text/plain": [
       "array([False])"
      ]
     },
     "execution_count": 51,
     "metadata": {},
     "output_type": "execute_result"
    }
   ],
   "source": [
    "train_data[\"Age\"].loc[ids].isna().unique()"
   ]
  },
  {
   "cell_type": "code",
   "execution_count": 52,
   "id": "ce3d7864",
   "metadata": {
    "execution": {
     "iopub.execute_input": "2022-10-27T16:57:31.301571Z",
     "iopub.status.busy": "2022-10-27T16:57:31.301160Z",
     "iopub.status.idle": "2022-10-27T16:57:31.309953Z",
     "shell.execute_reply": "2022-10-27T16:57:31.308239Z"
    },
    "papermill": {
     "duration": 0.057738,
     "end_time": "2022-10-27T16:57:31.312011",
     "exception": false,
     "start_time": "2022-10-27T16:57:31.254273",
     "status": "completed"
    },
    "tags": []
   },
   "outputs": [
    {
     "name": "stderr",
     "output_type": "stream",
     "text": [
      "/opt/conda/lib/python3.7/site-packages/pandas/core/indexing.py:1732: SettingWithCopyWarning: \n",
      "A value is trying to be set on a copy of a slice from a DataFrame\n",
      "\n",
      "See the caveats in the documentation: https://pandas.pydata.org/pandas-docs/stable/user_guide/indexing.html#returning-a-view-versus-a-copy\n",
      "  self._setitem_single_block(indexer, value, name)\n"
     ]
    }
   ],
   "source": [
    "train_data[\"Age\"].loc[ids2]=train_data.loc[ids2][\"Age\"].replace(np.nan,33.7)"
   ]
  },
  {
   "cell_type": "code",
   "execution_count": 53,
   "id": "cb79c173",
   "metadata": {
    "execution": {
     "iopub.execute_input": "2022-10-27T16:57:31.403304Z",
     "iopub.status.busy": "2022-10-27T16:57:31.402928Z",
     "iopub.status.idle": "2022-10-27T16:57:31.417684Z",
     "shell.execute_reply": "2022-10-27T16:57:31.415824Z"
    },
    "papermill": {
     "duration": 0.063199,
     "end_time": "2022-10-27T16:57:31.419968",
     "exception": false,
     "start_time": "2022-10-27T16:57:31.356769",
     "status": "completed"
    },
    "tags": []
   },
   "outputs": [
    {
     "name": "stdout",
     "output_type": "stream",
     "text": [
      "<class 'pandas.core.frame.DataFrame'>\n",
      "Int64Index: 891 entries, 1 to 891\n",
      "Data columns (total 11 columns):\n",
      " #   Column    Non-Null Count  Dtype  \n",
      "---  ------    --------------  -----  \n",
      " 0   Survived  891 non-null    int64  \n",
      " 1   Pclass    891 non-null    int64  \n",
      " 2   Name      891 non-null    object \n",
      " 3   Sex       891 non-null    object \n",
      " 4   Age       824 non-null    float64\n",
      " 5   SibSp     891 non-null    int64  \n",
      " 6   Parch     891 non-null    int64  \n",
      " 7   Ticket    891 non-null    object \n",
      " 8   Fare      891 non-null    float64\n",
      " 9   Cabin     204 non-null    object \n",
      " 10  Embarked  889 non-null    object \n",
      "dtypes: float64(2), int64(4), object(5)\n",
      "memory usage: 115.8+ KB\n"
     ]
    }
   ],
   "source": [
    "train_data.info()"
   ]
  },
  {
   "cell_type": "code",
   "execution_count": 54,
   "id": "0a98349d",
   "metadata": {
    "execution": {
     "iopub.execute_input": "2022-10-27T16:57:31.512408Z",
     "iopub.status.busy": "2022-10-27T16:57:31.512005Z",
     "iopub.status.idle": "2022-10-27T16:57:31.517988Z",
     "shell.execute_reply": "2022-10-27T16:57:31.516455Z"
    },
    "papermill": {
     "duration": 0.054648,
     "end_time": "2022-10-27T16:57:31.520085",
     "exception": false,
     "start_time": "2022-10-27T16:57:31.465437",
     "status": "completed"
    },
    "tags": []
   },
   "outputs": [],
   "source": [
    "_1_class_lonly = compare_Age[compare_Age[\"Pclass\"]==1]"
   ]
  },
  {
   "cell_type": "code",
   "execution_count": 55,
   "id": "b8541db0",
   "metadata": {
    "execution": {
     "iopub.execute_input": "2022-10-27T16:57:31.618714Z",
     "iopub.status.busy": "2022-10-27T16:57:31.618327Z",
     "iopub.status.idle": "2022-10-27T16:57:31.845404Z",
     "shell.execute_reply": "2022-10-27T16:57:31.843846Z"
    },
    "papermill": {
     "duration": 0.2795,
     "end_time": "2022-10-27T16:57:31.847280",
     "exception": false,
     "start_time": "2022-10-27T16:57:31.567780",
     "status": "completed"
    },
    "tags": []
   },
   "outputs": [
    {
     "data": {
      "text/plain": [
       "<AxesSubplot:xlabel='Age', ylabel='Count'>"
      ]
     },
     "execution_count": 55,
     "metadata": {},
     "output_type": "execute_result"
    },
    {
     "data": {
      "image/png": "[encoded data removed]",
      "text/plain": [
       "<Figure size 432x288 with 1 Axes>"
      ]
     },
     "metadata": {
      "needs_background": "light"
     },
     "output_type": "display_data"
    }
   ],
   "source": [
    "sns.histplot(data = _1_class_lonly , x = _1_class_lonly[\"Age\"],hue=\"Sex\")"
   ]
  },
  {
   "cell_type": "code",
   "execution_count": 56,
   "id": "35765d93",
   "metadata": {
    "execution": {
     "iopub.execute_input": "2022-10-27T16:57:31.938772Z",
     "iopub.status.busy": "2022-10-27T16:57:31.938342Z",
     "iopub.status.idle": "2022-10-27T16:57:31.947869Z",
     "shell.execute_reply": "2022-10-27T16:57:31.946845Z"
    },
    "papermill": {
     "duration": 0.057989,
     "end_time": "2022-10-27T16:57:31.950225",
     "exception": false,
     "start_time": "2022-10-27T16:57:31.892236",
     "status": "completed"
    },
    "tags": []
   },
   "outputs": [
    {
     "name": "stderr",
     "output_type": "stream",
     "text": [
      "/opt/conda/lib/python3.7/site-packages/ipykernel_launcher.py:1: FutureWarning: Dropping of nuisance columns in DataFrame reductions (with 'numeric_only=None') is deprecated; in a future version this will raise TypeError.  Select only valid columns before calling the reduction.\n",
      "  \"\"\"Entry point for launching an IPython kernel.\n"
     ]
    },
    {
     "data": {
      "text/plain": [
       "Survived     0.593023\n",
       "Pclass       1.000000\n",
       "Age         41.005814\n",
       "SibSp        0.000000\n",
       "Parch        0.000000\n",
       "Fare        66.675048\n",
       "dtype: float64"
      ]
     },
     "execution_count": 56,
     "metadata": {},
     "output_type": "execute_result"
    }
   ],
   "source": [
    "_1_class_lonly.mean()"
   ]
  },
  {
   "cell_type": "code",
   "execution_count": 57,
   "id": "17bdaa11",
   "metadata": {
    "execution": {
     "iopub.execute_input": "2022-10-27T16:57:32.043466Z",
     "iopub.status.busy": "2022-10-27T16:57:32.043042Z",
     "iopub.status.idle": "2022-10-27T16:57:32.051242Z",
     "shell.execute_reply": "2022-10-27T16:57:32.049624Z"
    },
    "papermill": {
     "duration": 0.057664,
     "end_time": "2022-10-27T16:57:32.053993",
     "exception": false,
     "start_time": "2022-10-27T16:57:31.996329",
     "status": "completed"
    },
    "tags": []
   },
   "outputs": [],
   "source": [
    "ids3 =train_data[(train_data[\"SibSp\"]==0) &(train_data[\"Parch\"]==0) & (train_data[\"Pclass\"]==1) & (train_data[\"Age\"].isna())].index"
   ]
  },
  {
   "cell_type": "code",
   "execution_count": 58,
   "id": "94034dff",
   "metadata": {
    "execution": {
     "iopub.execute_input": "2022-10-27T16:57:32.149037Z",
     "iopub.status.busy": "2022-10-27T16:57:32.148191Z",
     "iopub.status.idle": "2022-10-27T16:57:32.157226Z",
     "shell.execute_reply": "2022-10-27T16:57:32.156330Z"
    },
    "papermill": {
     "duration": 0.058987,
     "end_time": "2022-10-27T16:57:32.159745",
     "exception": false,
     "start_time": "2022-10-27T16:57:32.100758",
     "status": "completed"
    },
    "tags": []
   },
   "outputs": [
    {
     "data": {
      "text/plain": [
       "Int64Index([ 56,  65, 169, 186, 257, 271, 285, 296, 299, 307, 352, 476, 508,\n",
       "            528, 558, 603, 634, 712, 741, 767, 794, 816, 840],\n",
       "           dtype='int64', name='PassengerId')"
      ]
     },
     "execution_count": 58,
     "metadata": {},
     "output_type": "execute_result"
    }
   ],
   "source": [
    "ids3"
   ]
  },
  {
   "cell_type": "code",
   "execution_count": 59,
   "id": "335bc35a",
   "metadata": {
    "execution": {
     "iopub.execute_input": "2022-10-27T16:57:32.251793Z",
     "iopub.status.busy": "2022-10-27T16:57:32.251448Z",
     "iopub.status.idle": "2022-10-27T16:57:32.258166Z",
     "shell.execute_reply": "2022-10-27T16:57:32.257269Z"
    },
    "papermill": {
     "duration": 0.056145,
     "end_time": "2022-10-27T16:57:32.260957",
     "exception": false,
     "start_time": "2022-10-27T16:57:32.204812",
     "status": "completed"
    },
    "tags": []
   },
   "outputs": [
    {
     "name": "stderr",
     "output_type": "stream",
     "text": [
      "/opt/conda/lib/python3.7/site-packages/pandas/core/indexing.py:1732: SettingWithCopyWarning: \n",
      "A value is trying to be set on a copy of a slice from a DataFrame\n",
      "\n",
      "See the caveats in the documentation: https://pandas.pydata.org/pandas-docs/stable/user_guide/indexing.html#returning-a-view-versus-a-copy\n",
      "  self._setitem_single_block(indexer, value, name)\n"
     ]
    }
   ],
   "source": [
    "train_data[\"Age\"].loc[ids3]=train_data.loc[ids3][\"Age\"].replace(np.nan,41)"
   ]
  },
  {
   "cell_type": "code",
   "execution_count": 60,
   "id": "259c486b",
   "metadata": {
    "execution": {
     "iopub.execute_input": "2022-10-27T16:57:32.353914Z",
     "iopub.status.busy": "2022-10-27T16:57:32.352735Z",
     "iopub.status.idle": "2022-10-27T16:57:32.365109Z",
     "shell.execute_reply": "2022-10-27T16:57:32.364264Z"
    },
    "papermill": {
     "duration": 0.060357,
     "end_time": "2022-10-27T16:57:32.366959",
     "exception": false,
     "start_time": "2022-10-27T16:57:32.306602",
     "status": "completed"
    },
    "tags": []
   },
   "outputs": [
    {
     "name": "stdout",
     "output_type": "stream",
     "text": [
      "<class 'pandas.core.frame.DataFrame'>\n",
      "Int64Index: 891 entries, 1 to 891\n",
      "Data columns (total 11 columns):\n",
      " #   Column    Non-Null Count  Dtype  \n",
      "---  ------    --------------  -----  \n",
      " 0   Survived  891 non-null    int64  \n",
      " 1   Pclass    891 non-null    int64  \n",
      " 2   Name      891 non-null    object \n",
      " 3   Sex       891 non-null    object \n",
      " 4   Age       847 non-null    float64\n",
      " 5   SibSp     891 non-null    int64  \n",
      " 6   Parch     891 non-null    int64  \n",
      " 7   Ticket    891 non-null    object \n",
      " 8   Fare      891 non-null    float64\n",
      " 9   Cabin     204 non-null    object \n",
      " 10  Embarked  889 non-null    object \n",
      "dtypes: float64(2), int64(4), object(5)\n",
      "memory usage: 115.8+ KB\n"
     ]
    }
   ],
   "source": [
    "train_data.info()"
   ]
  },
  {
   "cell_type": "code",
   "execution_count": 61,
   "id": "bfa9c567",
   "metadata": {
    "execution": {
     "iopub.execute_input": "2022-10-27T16:57:32.463024Z",
     "iopub.status.busy": "2022-10-27T16:57:32.461632Z",
     "iopub.status.idle": "2022-10-27T16:57:32.468313Z",
     "shell.execute_reply": "2022-10-27T16:57:32.466878Z"
    },
    "papermill": {
     "duration": 0.056985,
     "end_time": "2022-10-27T16:57:32.470671",
     "exception": false,
     "start_time": "2022-10-27T16:57:32.413686",
     "status": "completed"
    },
    "tags": []
   },
   "outputs": [],
   "source": [
    "rest=train_data[train_data[\"Age\"].isna()]"
   ]
  },
  {
   "cell_type": "code",
   "execution_count": null,
   "id": "301bd71f",
   "metadata": {
    "papermill": {
     "duration": 0.046035,
     "end_time": "2022-10-27T16:57:32.563561",
     "exception": false,
     "start_time": "2022-10-27T16:57:32.517526",
     "status": "completed"
    },
    "tags": []
   },
   "outputs": [],
   "source": []
  },
  {
   "cell_type": "code",
   "execution_count": 62,
   "id": "64642570",
   "metadata": {
    "execution": {
     "iopub.execute_input": "2022-10-27T16:57:32.657389Z",
     "iopub.status.busy": "2022-10-27T16:57:32.657016Z",
     "iopub.status.idle": "2022-10-27T16:57:32.684144Z",
     "shell.execute_reply": "2022-10-27T16:57:32.682834Z"
    },
    "papermill": {
     "duration": 0.076849,
     "end_time": "2022-10-27T16:57:32.686442",
     "exception": false,
     "start_time": "2022-10-27T16:57:32.609593",
     "status": "completed"
    },
    "tags": []
   },
   "outputs": [
    {
     "data": {
      "text/html": [
       "<div>\n",
       "<style scoped>\n",
       "    .dataframe tbody tr th:only-of-type {\n",
       "        vertical-align: middle;\n",
       "    }\n",
       "\n",
       "    .dataframe tbody tr th {\n",
       "        vertical-align: top;\n",
       "    }\n",
       "\n",
       "    .dataframe thead th {\n",
       "        text-align: right;\n",
       "    }\n",
       "</style>\n",
       "<table border=\"1\" class=\"dataframe\">\n",
       "  <thead>\n",
       "    <tr style=\"text-align: right;\">\n",
       "      <th></th>\n",
       "      <th>Survived</th>\n",
       "      <th>Pclass</th>\n",
       "      <th>Name</th>\n",
       "      <th>Sex</th>\n",
       "      <th>Age</th>\n",
       "      <th>SibSp</th>\n",
       "      <th>Parch</th>\n",
       "      <th>Ticket</th>\n",
       "      <th>Fare</th>\n",
       "      <th>Cabin</th>\n",
       "      <th>Embarked</th>\n",
       "    </tr>\n",
       "    <tr>\n",
       "      <th>PassengerId</th>\n",
       "      <th></th>\n",
       "      <th></th>\n",
       "      <th></th>\n",
       "      <th></th>\n",
       "      <th></th>\n",
       "      <th></th>\n",
       "      <th></th>\n",
       "      <th></th>\n",
       "      <th></th>\n",
       "      <th></th>\n",
       "      <th></th>\n",
       "    </tr>\n",
       "  </thead>\n",
       "  <tbody>\n",
       "    <tr>\n",
       "      <th>32</th>\n",
       "      <td>1</td>\n",
       "      <td>1</td>\n",
       "      <td>Spencer, Mrs. William Augustus (Marie Eugenie)</td>\n",
       "      <td>female</td>\n",
       "      <td>NaN</td>\n",
       "      <td>1</td>\n",
       "      <td>0</td>\n",
       "      <td>PC 17569</td>\n",
       "      <td>146.5208</td>\n",
       "      <td>B78</td>\n",
       "      <td>C</td>\n",
       "    </tr>\n",
       "    <tr>\n",
       "      <th>47</th>\n",
       "      <td>0</td>\n",
       "      <td>3</td>\n",
       "      <td>Lennon, Mr. Denis</td>\n",
       "      <td>male</td>\n",
       "      <td>NaN</td>\n",
       "      <td>1</td>\n",
       "      <td>0</td>\n",
       "      <td>370371</td>\n",
       "      <td>15.5000</td>\n",
       "      <td>NaN</td>\n",
       "      <td>Q</td>\n",
       "    </tr>\n",
       "    <tr>\n",
       "      <th>49</th>\n",
       "      <td>0</td>\n",
       "      <td>3</td>\n",
       "      <td>Samaan, Mr. Youssef</td>\n",
       "      <td>male</td>\n",
       "      <td>NaN</td>\n",
       "      <td>2</td>\n",
       "      <td>0</td>\n",
       "      <td>2662</td>\n",
       "      <td>21.6792</td>\n",
       "      <td>NaN</td>\n",
       "      <td>C</td>\n",
       "    </tr>\n",
       "    <tr>\n",
       "      <th>66</th>\n",
       "      <td>1</td>\n",
       "      <td>3</td>\n",
       "      <td>Moubarek, Master. Gerios</td>\n",
       "      <td>male</td>\n",
       "      <td>NaN</td>\n",
       "      <td>1</td>\n",
       "      <td>1</td>\n",
       "      <td>2661</td>\n",
       "      <td>15.2458</td>\n",
       "      <td>NaN</td>\n",
       "      <td>C</td>\n",
       "    </tr>\n",
       "    <tr>\n",
       "      <th>110</th>\n",
       "      <td>1</td>\n",
       "      <td>3</td>\n",
       "      <td>Moran, Miss. Bertha</td>\n",
       "      <td>female</td>\n",
       "      <td>NaN</td>\n",
       "      <td>1</td>\n",
       "      <td>0</td>\n",
       "      <td>371110</td>\n",
       "      <td>24.1500</td>\n",
       "      <td>NaN</td>\n",
       "      <td>Q</td>\n",
       "    </tr>\n",
       "    <tr>\n",
       "      <th>129</th>\n",
       "      <td>1</td>\n",
       "      <td>3</td>\n",
       "      <td>Peter, Miss. Anna</td>\n",
       "      <td>female</td>\n",
       "      <td>NaN</td>\n",
       "      <td>1</td>\n",
       "      <td>1</td>\n",
       "      <td>2668</td>\n",
       "      <td>22.3583</td>\n",
       "      <td>F E69</td>\n",
       "      <td>C</td>\n",
       "    </tr>\n",
       "    <tr>\n",
       "      <th>141</th>\n",
       "      <td>0</td>\n",
       "      <td>3</td>\n",
       "      <td>Boulos, Mrs. Joseph (Sultana)</td>\n",
       "      <td>female</td>\n",
       "      <td>NaN</td>\n",
       "      <td>0</td>\n",
       "      <td>2</td>\n",
       "      <td>2678</td>\n",
       "      <td>15.2458</td>\n",
       "      <td>NaN</td>\n",
       "      <td>C</td>\n",
       "    </tr>\n",
       "    <tr>\n",
       "      <th>160</th>\n",
       "      <td>0</td>\n",
       "      <td>3</td>\n",
       "      <td>Sage, Master. Thomas Henry</td>\n",
       "      <td>male</td>\n",
       "      <td>NaN</td>\n",
       "      <td>8</td>\n",
       "      <td>2</td>\n",
       "      <td>CA. 2343</td>\n",
       "      <td>69.5500</td>\n",
       "      <td>NaN</td>\n",
       "      <td>S</td>\n",
       "    </tr>\n",
       "    <tr>\n",
       "      <th>167</th>\n",
       "      <td>1</td>\n",
       "      <td>1</td>\n",
       "      <td>Chibnall, Mrs. (Edith Martha Bowerman)</td>\n",
       "      <td>female</td>\n",
       "      <td>NaN</td>\n",
       "      <td>0</td>\n",
       "      <td>1</td>\n",
       "      <td>113505</td>\n",
       "      <td>55.0000</td>\n",
       "      <td>E33</td>\n",
       "      <td>S</td>\n",
       "    </tr>\n",
       "    <tr>\n",
       "      <th>177</th>\n",
       "      <td>0</td>\n",
       "      <td>3</td>\n",
       "      <td>Lefebre, Master. Henry Forbes</td>\n",
       "      <td>male</td>\n",
       "      <td>NaN</td>\n",
       "      <td>3</td>\n",
       "      <td>1</td>\n",
       "      <td>4133</td>\n",
       "      <td>25.4667</td>\n",
       "      <td>NaN</td>\n",
       "      <td>S</td>\n",
       "    </tr>\n",
       "    <tr>\n",
       "      <th>181</th>\n",
       "      <td>0</td>\n",
       "      <td>3</td>\n",
       "      <td>Sage, Miss. Constance Gladys</td>\n",
       "      <td>female</td>\n",
       "      <td>NaN</td>\n",
       "      <td>8</td>\n",
       "      <td>2</td>\n",
       "      <td>CA. 2343</td>\n",
       "      <td>69.5500</td>\n",
       "      <td>NaN</td>\n",
       "      <td>S</td>\n",
       "    </tr>\n",
       "    <tr>\n",
       "      <th>187</th>\n",
       "      <td>1</td>\n",
       "      <td>3</td>\n",
       "      <td>O'Brien, Mrs. Thomas (Johanna \"Hannah\" Godfrey)</td>\n",
       "      <td>female</td>\n",
       "      <td>NaN</td>\n",
       "      <td>1</td>\n",
       "      <td>0</td>\n",
       "      <td>370365</td>\n",
       "      <td>15.5000</td>\n",
       "      <td>NaN</td>\n",
       "      <td>Q</td>\n",
       "    </tr>\n",
       "    <tr>\n",
       "      <th>202</th>\n",
       "      <td>0</td>\n",
       "      <td>3</td>\n",
       "      <td>Sage, Mr. Frederick</td>\n",
       "      <td>male</td>\n",
       "      <td>NaN</td>\n",
       "      <td>8</td>\n",
       "      <td>2</td>\n",
       "      <td>CA. 2343</td>\n",
       "      <td>69.5500</td>\n",
       "      <td>NaN</td>\n",
       "      <td>S</td>\n",
       "    </tr>\n",
       "    <tr>\n",
       "      <th>215</th>\n",
       "      <td>0</td>\n",
       "      <td>3</td>\n",
       "      <td>Kiernan, Mr. Philip</td>\n",
       "      <td>male</td>\n",
       "      <td>NaN</td>\n",
       "      <td>1</td>\n",
       "      <td>0</td>\n",
       "      <td>367229</td>\n",
       "      <td>7.7500</td>\n",
       "      <td>NaN</td>\n",
       "      <td>Q</td>\n",
       "    </tr>\n",
       "    <tr>\n",
       "      <th>230</th>\n",
       "      <td>0</td>\n",
       "      <td>3</td>\n",
       "      <td>Lefebre, Miss. Mathilde</td>\n",
       "      <td>female</td>\n",
       "      <td>NaN</td>\n",
       "      <td>3</td>\n",
       "      <td>1</td>\n",
       "      <td>4133</td>\n",
       "      <td>25.4667</td>\n",
       "      <td>NaN</td>\n",
       "      <td>S</td>\n",
       "    </tr>\n",
       "    <tr>\n",
       "      <th>241</th>\n",
       "      <td>0</td>\n",
       "      <td>3</td>\n",
       "      <td>Zabour, Miss. Thamine</td>\n",
       "      <td>female</td>\n",
       "      <td>NaN</td>\n",
       "      <td>1</td>\n",
       "      <td>0</td>\n",
       "      <td>2665</td>\n",
       "      <td>14.4542</td>\n",
       "      <td>NaN</td>\n",
       "      <td>C</td>\n",
       "    </tr>\n",
       "    <tr>\n",
       "      <th>242</th>\n",
       "      <td>1</td>\n",
       "      <td>3</td>\n",
       "      <td>Murphy, Miss. Katherine \"Kate\"</td>\n",
       "      <td>female</td>\n",
       "      <td>NaN</td>\n",
       "      <td>1</td>\n",
       "      <td>0</td>\n",
       "      <td>367230</td>\n",
       "      <td>15.5000</td>\n",
       "      <td>NaN</td>\n",
       "      <td>Q</td>\n",
       "    </tr>\n",
       "    <tr>\n",
       "      <th>302</th>\n",
       "      <td>1</td>\n",
       "      <td>3</td>\n",
       "      <td>McCoy, Mr. Bernard</td>\n",
       "      <td>male</td>\n",
       "      <td>NaN</td>\n",
       "      <td>2</td>\n",
       "      <td>0</td>\n",
       "      <td>367226</td>\n",
       "      <td>23.2500</td>\n",
       "      <td>NaN</td>\n",
       "      <td>Q</td>\n",
       "    </tr>\n",
       "    <tr>\n",
       "      <th>325</th>\n",
       "      <td>0</td>\n",
       "      <td>3</td>\n",
       "      <td>Sage, Mr. George John Jr</td>\n",
       "      <td>male</td>\n",
       "      <td>NaN</td>\n",
       "      <td>8</td>\n",
       "      <td>2</td>\n",
       "      <td>CA. 2343</td>\n",
       "      <td>69.5500</td>\n",
       "      <td>NaN</td>\n",
       "      <td>S</td>\n",
       "    </tr>\n",
       "    <tr>\n",
       "      <th>331</th>\n",
       "      <td>1</td>\n",
       "      <td>3</td>\n",
       "      <td>McCoy, Miss. Agnes</td>\n",
       "      <td>female</td>\n",
       "      <td>NaN</td>\n",
       "      <td>2</td>\n",
       "      <td>0</td>\n",
       "      <td>367226</td>\n",
       "      <td>23.2500</td>\n",
       "      <td>NaN</td>\n",
       "      <td>Q</td>\n",
       "    </tr>\n",
       "    <tr>\n",
       "      <th>335</th>\n",
       "      <td>1</td>\n",
       "      <td>1</td>\n",
       "      <td>Frauenthal, Mrs. Henry William (Clara Heinshei...</td>\n",
       "      <td>female</td>\n",
       "      <td>NaN</td>\n",
       "      <td>1</td>\n",
       "      <td>0</td>\n",
       "      <td>PC 17611</td>\n",
       "      <td>133.6500</td>\n",
       "      <td>NaN</td>\n",
       "      <td>S</td>\n",
       "    </tr>\n",
       "    <tr>\n",
       "      <th>348</th>\n",
       "      <td>1</td>\n",
       "      <td>3</td>\n",
       "      <td>Davison, Mrs. Thomas Henry (Mary E Finck)</td>\n",
       "      <td>female</td>\n",
       "      <td>NaN</td>\n",
       "      <td>1</td>\n",
       "      <td>0</td>\n",
       "      <td>386525</td>\n",
       "      <td>16.1000</td>\n",
       "      <td>NaN</td>\n",
       "      <td>S</td>\n",
       "    </tr>\n",
       "    <tr>\n",
       "      <th>365</th>\n",
       "      <td>0</td>\n",
       "      <td>3</td>\n",
       "      <td>O'Brien, Mr. Thomas</td>\n",
       "      <td>male</td>\n",
       "      <td>NaN</td>\n",
       "      <td>1</td>\n",
       "      <td>0</td>\n",
       "      <td>370365</td>\n",
       "      <td>15.5000</td>\n",
       "      <td>NaN</td>\n",
       "      <td>Q</td>\n",
       "    </tr>\n",
       "    <tr>\n",
       "      <th>376</th>\n",
       "      <td>1</td>\n",
       "      <td>1</td>\n",
       "      <td>Meyer, Mrs. Edgar Joseph (Leila Saks)</td>\n",
       "      <td>female</td>\n",
       "      <td>NaN</td>\n",
       "      <td>1</td>\n",
       "      <td>0</td>\n",
       "      <td>PC 17604</td>\n",
       "      <td>82.1708</td>\n",
       "      <td>NaN</td>\n",
       "      <td>C</td>\n",
       "    </tr>\n",
       "    <tr>\n",
       "      <th>410</th>\n",
       "      <td>0</td>\n",
       "      <td>3</td>\n",
       "      <td>Lefebre, Miss. Ida</td>\n",
       "      <td>female</td>\n",
       "      <td>NaN</td>\n",
       "      <td>3</td>\n",
       "      <td>1</td>\n",
       "      <td>4133</td>\n",
       "      <td>25.4667</td>\n",
       "      <td>NaN</td>\n",
       "      <td>S</td>\n",
       "    </tr>\n",
       "    <tr>\n",
       "      <th>432</th>\n",
       "      <td>1</td>\n",
       "      <td>3</td>\n",
       "      <td>Thorneycroft, Mrs. Percival (Florence Kate White)</td>\n",
       "      <td>female</td>\n",
       "      <td>NaN</td>\n",
       "      <td>1</td>\n",
       "      <td>0</td>\n",
       "      <td>376564</td>\n",
       "      <td>16.1000</td>\n",
       "      <td>NaN</td>\n",
       "      <td>S</td>\n",
       "    </tr>\n",
       "    <tr>\n",
       "      <th>452</th>\n",
       "      <td>0</td>\n",
       "      <td>3</td>\n",
       "      <td>Hagland, Mr. Ingvald Olai Olsen</td>\n",
       "      <td>male</td>\n",
       "      <td>NaN</td>\n",
       "      <td>1</td>\n",
       "      <td>0</td>\n",
       "      <td>65303</td>\n",
       "      <td>19.9667</td>\n",
       "      <td>NaN</td>\n",
       "      <td>S</td>\n",
       "    </tr>\n",
       "    <tr>\n",
       "      <th>458</th>\n",
       "      <td>1</td>\n",
       "      <td>1</td>\n",
       "      <td>Kenyon, Mrs. Frederick R (Marion)</td>\n",
       "      <td>female</td>\n",
       "      <td>NaN</td>\n",
       "      <td>1</td>\n",
       "      <td>0</td>\n",
       "      <td>17464</td>\n",
       "      <td>51.8625</td>\n",
       "      <td>D21</td>\n",
       "      <td>S</td>\n",
       "    </tr>\n",
       "    <tr>\n",
       "      <th>486</th>\n",
       "      <td>0</td>\n",
       "      <td>3</td>\n",
       "      <td>Lefebre, Miss. Jeannie</td>\n",
       "      <td>female</td>\n",
       "      <td>NaN</td>\n",
       "      <td>3</td>\n",
       "      <td>1</td>\n",
       "      <td>4133</td>\n",
       "      <td>25.4667</td>\n",
       "      <td>NaN</td>\n",
       "      <td>S</td>\n",
       "    </tr>\n",
       "    <tr>\n",
       "      <th>491</th>\n",
       "      <td>0</td>\n",
       "      <td>3</td>\n",
       "      <td>Hagland, Mr. Konrad Mathias Reiersen</td>\n",
       "      <td>male</td>\n",
       "      <td>NaN</td>\n",
       "      <td>1</td>\n",
       "      <td>0</td>\n",
       "      <td>65304</td>\n",
       "      <td>19.9667</td>\n",
       "      <td>NaN</td>\n",
       "      <td>S</td>\n",
       "    </tr>\n",
       "    <tr>\n",
       "      <th>534</th>\n",
       "      <td>1</td>\n",
       "      <td>3</td>\n",
       "      <td>Peter, Mrs. Catherine (Catherine Rizk)</td>\n",
       "      <td>female</td>\n",
       "      <td>NaN</td>\n",
       "      <td>0</td>\n",
       "      <td>2</td>\n",
       "      <td>2668</td>\n",
       "      <td>22.3583</td>\n",
       "      <td>NaN</td>\n",
       "      <td>C</td>\n",
       "    </tr>\n",
       "    <tr>\n",
       "      <th>579</th>\n",
       "      <td>0</td>\n",
       "      <td>3</td>\n",
       "      <td>Caram, Mrs. Joseph (Maria Elias)</td>\n",
       "      <td>female</td>\n",
       "      <td>NaN</td>\n",
       "      <td>1</td>\n",
       "      <td>0</td>\n",
       "      <td>2689</td>\n",
       "      <td>14.4583</td>\n",
       "      <td>NaN</td>\n",
       "      <td>C</td>\n",
       "    </tr>\n",
       "    <tr>\n",
       "      <th>594</th>\n",
       "      <td>0</td>\n",
       "      <td>3</td>\n",
       "      <td>Bourke, Miss. Mary</td>\n",
       "      <td>female</td>\n",
       "      <td>NaN</td>\n",
       "      <td>0</td>\n",
       "      <td>2</td>\n",
       "      <td>364848</td>\n",
       "      <td>7.7500</td>\n",
       "      <td>NaN</td>\n",
       "      <td>Q</td>\n",
       "    </tr>\n",
       "    <tr>\n",
       "      <th>613</th>\n",
       "      <td>1</td>\n",
       "      <td>3</td>\n",
       "      <td>Murphy, Miss. Margaret Jane</td>\n",
       "      <td>female</td>\n",
       "      <td>NaN</td>\n",
       "      <td>1</td>\n",
       "      <td>0</td>\n",
       "      <td>367230</td>\n",
       "      <td>15.5000</td>\n",
       "      <td>NaN</td>\n",
       "      <td>Q</td>\n",
       "    </tr>\n",
       "    <tr>\n",
       "      <th>640</th>\n",
       "      <td>0</td>\n",
       "      <td>3</td>\n",
       "      <td>Thorneycroft, Mr. Percival</td>\n",
       "      <td>male</td>\n",
       "      <td>NaN</td>\n",
       "      <td>1</td>\n",
       "      <td>0</td>\n",
       "      <td>376564</td>\n",
       "      <td>16.1000</td>\n",
       "      <td>NaN</td>\n",
       "      <td>S</td>\n",
       "    </tr>\n",
       "    <tr>\n",
       "      <th>670</th>\n",
       "      <td>1</td>\n",
       "      <td>1</td>\n",
       "      <td>Taylor, Mrs. Elmer Zebley (Juliet Cummins Wright)</td>\n",
       "      <td>female</td>\n",
       "      <td>NaN</td>\n",
       "      <td>1</td>\n",
       "      <td>0</td>\n",
       "      <td>19996</td>\n",
       "      <td>52.0000</td>\n",
       "      <td>C126</td>\n",
       "      <td>S</td>\n",
       "    </tr>\n",
       "    <tr>\n",
       "      <th>710</th>\n",
       "      <td>1</td>\n",
       "      <td>3</td>\n",
       "      <td>Moubarek, Master. Halim Gonios (\"William George\")</td>\n",
       "      <td>male</td>\n",
       "      <td>NaN</td>\n",
       "      <td>1</td>\n",
       "      <td>1</td>\n",
       "      <td>2661</td>\n",
       "      <td>15.2458</td>\n",
       "      <td>NaN</td>\n",
       "      <td>C</td>\n",
       "    </tr>\n",
       "    <tr>\n",
       "      <th>769</th>\n",
       "      <td>0</td>\n",
       "      <td>3</td>\n",
       "      <td>Moran, Mr. Daniel J</td>\n",
       "      <td>male</td>\n",
       "      <td>NaN</td>\n",
       "      <td>1</td>\n",
       "      <td>0</td>\n",
       "      <td>371110</td>\n",
       "      <td>24.1500</td>\n",
       "      <td>NaN</td>\n",
       "      <td>Q</td>\n",
       "    </tr>\n",
       "    <tr>\n",
       "      <th>784</th>\n",
       "      <td>0</td>\n",
       "      <td>3</td>\n",
       "      <td>Johnston, Mr. Andrew G</td>\n",
       "      <td>male</td>\n",
       "      <td>NaN</td>\n",
       "      <td>1</td>\n",
       "      <td>2</td>\n",
       "      <td>W./C. 6607</td>\n",
       "      <td>23.4500</td>\n",
       "      <td>NaN</td>\n",
       "      <td>S</td>\n",
       "    </tr>\n",
       "    <tr>\n",
       "      <th>793</th>\n",
       "      <td>0</td>\n",
       "      <td>3</td>\n",
       "      <td>Sage, Miss. Stella Anna</td>\n",
       "      <td>female</td>\n",
       "      <td>NaN</td>\n",
       "      <td>8</td>\n",
       "      <td>2</td>\n",
       "      <td>CA. 2343</td>\n",
       "      <td>69.5500</td>\n",
       "      <td>NaN</td>\n",
       "      <td>S</td>\n",
       "    </tr>\n",
       "    <tr>\n",
       "      <th>847</th>\n",
       "      <td>0</td>\n",
       "      <td>3</td>\n",
       "      <td>Sage, Mr. Douglas Bullen</td>\n",
       "      <td>male</td>\n",
       "      <td>NaN</td>\n",
       "      <td>8</td>\n",
       "      <td>2</td>\n",
       "      <td>CA. 2343</td>\n",
       "      <td>69.5500</td>\n",
       "      <td>NaN</td>\n",
       "      <td>S</td>\n",
       "    </tr>\n",
       "    <tr>\n",
       "      <th>850</th>\n",
       "      <td>1</td>\n",
       "      <td>1</td>\n",
       "      <td>Goldenberg, Mrs. Samuel L (Edwiga Grabowska)</td>\n",
       "      <td>female</td>\n",
       "      <td>NaN</td>\n",
       "      <td>1</td>\n",
       "      <td>0</td>\n",
       "      <td>17453</td>\n",
       "      <td>89.1042</td>\n",
       "      <td>C92</td>\n",
       "      <td>C</td>\n",
       "    </tr>\n",
       "    <tr>\n",
       "      <th>864</th>\n",
       "      <td>0</td>\n",
       "      <td>3</td>\n",
       "      <td>Sage, Miss. Dorothy Edith \"Dolly\"</td>\n",
       "      <td>female</td>\n",
       "      <td>NaN</td>\n",
       "      <td>8</td>\n",
       "      <td>2</td>\n",
       "      <td>CA. 2343</td>\n",
       "      <td>69.5500</td>\n",
       "      <td>NaN</td>\n",
       "      <td>S</td>\n",
       "    </tr>\n",
       "    <tr>\n",
       "      <th>889</th>\n",
       "      <td>0</td>\n",
       "      <td>3</td>\n",
       "      <td>Johnston, Miss. Catherine Helen \"Carrie\"</td>\n",
       "      <td>female</td>\n",
       "      <td>NaN</td>\n",
       "      <td>1</td>\n",
       "      <td>2</td>\n",
       "      <td>W./C. 6607</td>\n",
       "      <td>23.4500</td>\n",
       "      <td>NaN</td>\n",
       "      <td>S</td>\n",
       "    </tr>\n",
       "  </tbody>\n",
       "</table>\n",
       "</div>"
      ],
      "text/plain": [
       "             Survived  Pclass  \\\n",
       "PassengerId                     \n",
       "32                  1       1   \n",
       "47                  0       3   \n",
       "49                  0       3   \n",
       "66                  1       3   \n",
       "110                 1       3   \n",
       "129                 1       3   \n",
       "141                 0       3   \n",
       "160                 0       3   \n",
       "167                 1       1   \n",
       "177                 0       3   \n",
       "181                 0       3   \n",
       "187                 1       3   \n",
       "202                 0       3   \n",
       "215                 0       3   \n",
       "230                 0       3   \n",
       "241                 0       3   \n",
       "242                 1       3   \n",
       "302                 1       3   \n",
       "325                 0       3   \n",
       "331                 1       3   \n",
       "335                 1       1   \n",
       "348                 1       3   \n",
       "365                 0       3   \n",
       "376                 1       1   \n",
       "410                 0       3   \n",
       "432                 1       3   \n",
       "452                 0       3   \n",
       "458                 1       1   \n",
       "486                 0       3   \n",
       "491                 0       3   \n",
       "534                 1       3   \n",
       "579                 0       3   \n",
       "594                 0       3   \n",
       "613                 1       3   \n",
       "640                 0       3   \n",
       "670                 1       1   \n",
       "710                 1       3   \n",
       "769                 0       3   \n",
       "784                 0       3   \n",
       "793                 0       3   \n",
       "847                 0       3   \n",
       "850                 1       1   \n",
       "864                 0       3   \n",
       "889                 0       3   \n",
       "\n",
       "                                                          Name     Sex  Age  \\\n",
       "PassengerId                                                                   \n",
       "32              Spencer, Mrs. William Augustus (Marie Eugenie)  female  NaN   \n",
       "47                                           Lennon, Mr. Denis    male  NaN   \n",
       "49                                         Samaan, Mr. Youssef    male  NaN   \n",
       "66                                    Moubarek, Master. Gerios    male  NaN   \n",
       "110                                        Moran, Miss. Bertha  female  NaN   \n",
       "129                                          Peter, Miss. Anna  female  NaN   \n",
       "141                              Boulos, Mrs. Joseph (Sultana)  female  NaN   \n",
       "160                                 Sage, Master. Thomas Henry    male  NaN   \n",
       "167                     Chibnall, Mrs. (Edith Martha Bowerman)  female  NaN   \n",
       "177                              Lefebre, Master. Henry Forbes    male  NaN   \n",
       "181                               Sage, Miss. Constance Gladys  female  NaN   \n",
       "187            O'Brien, Mrs. Thomas (Johanna \"Hannah\" Godfrey)  female  NaN   \n",
       "202                                        Sage, Mr. Frederick    male  NaN   \n",
       "215                                        Kiernan, Mr. Philip    male  NaN   \n",
       "230                                    Lefebre, Miss. Mathilde  female  NaN   \n",
       "241                                      Zabour, Miss. Thamine  female  NaN   \n",
       "242                             Murphy, Miss. Katherine \"Kate\"  female  NaN   \n",
       "302                                         McCoy, Mr. Bernard    male  NaN   \n",
       "325                                   Sage, Mr. George John Jr    male  NaN   \n",
       "331                                         McCoy, Miss. Agnes  female  NaN   \n",
       "335          Frauenthal, Mrs. Henry William (Clara Heinshei...  female  NaN   \n",
       "348                  Davison, Mrs. Thomas Henry (Mary E Finck)  female  NaN   \n",
       "365                                        O'Brien, Mr. Thomas    male  NaN   \n",
       "376                      Meyer, Mrs. Edgar Joseph (Leila Saks)  female  NaN   \n",
       "410                                         Lefebre, Miss. Ida  female  NaN   \n",
       "432          Thorneycroft, Mrs. Percival (Florence Kate White)  female  NaN   \n",
       "452                            Hagland, Mr. Ingvald Olai Olsen    male  NaN   \n",
       "458                          Kenyon, Mrs. Frederick R (Marion)  female  NaN   \n",
       "486                                     Lefebre, Miss. Jeannie  female  NaN   \n",
       "491                       Hagland, Mr. Konrad Mathias Reiersen    male  NaN   \n",
       "534                     Peter, Mrs. Catherine (Catherine Rizk)  female  NaN   \n",
       "579                           Caram, Mrs. Joseph (Maria Elias)  female  NaN   \n",
       "594                                         Bourke, Miss. Mary  female  NaN   \n",
       "613                                Murphy, Miss. Margaret Jane  female  NaN   \n",
       "640                                 Thorneycroft, Mr. Percival    male  NaN   \n",
       "670          Taylor, Mrs. Elmer Zebley (Juliet Cummins Wright)  female  NaN   \n",
       "710          Moubarek, Master. Halim Gonios (\"William George\")    male  NaN   \n",
       "769                                        Moran, Mr. Daniel J    male  NaN   \n",
       "784                                     Johnston, Mr. Andrew G    male  NaN   \n",
       "793                                    Sage, Miss. Stella Anna  female  NaN   \n",
       "847                                   Sage, Mr. Douglas Bullen    male  NaN   \n",
       "850               Goldenberg, Mrs. Samuel L (Edwiga Grabowska)  female  NaN   \n",
       "864                          Sage, Miss. Dorothy Edith \"Dolly\"  female  NaN   \n",
       "889                   Johnston, Miss. Catherine Helen \"Carrie\"  female  NaN   \n",
       "\n",
       "             SibSp  Parch      Ticket      Fare  Cabin Embarked  \n",
       "PassengerId                                                      \n",
       "32               1      0    PC 17569  146.5208    B78        C  \n",
       "47               1      0      370371   15.5000    NaN        Q  \n",
       "49               2      0        2662   21.6792    NaN        C  \n",
       "66               1      1        2661   15.2458    NaN        C  \n",
       "110              1      0      371110   24.1500    NaN        Q  \n",
       "129              1      1        2668   22.3583  F E69        C  \n",
       "141              0      2        2678   15.2458    NaN        C  \n",
       "160              8      2    CA. 2343   69.5500    NaN        S  \n",
       "167              0      1      113505   55.0000    E33        S  \n",
       "177              3      1        4133   25.4667    NaN        S  \n",
       "181              8      2    CA. 2343   69.5500    NaN        S  \n",
       "187              1      0      370365   15.5000    NaN        Q  \n",
       "202              8      2    CA. 2343   69.5500    NaN        S  \n",
       "215              1      0      367229    7.7500    NaN        Q  \n",
       "230              3      1        4133   25.4667    NaN        S  \n",
       "241              1      0        2665   14.4542    NaN        C  \n",
       "242              1      0      367230   15.5000    NaN        Q  \n",
       "302              2      0      367226   23.2500    NaN        Q  \n",
       "325              8      2    CA. 2343   69.5500    NaN        S  \n",
       "331              2      0      367226   23.2500    NaN        Q  \n",
       "335              1      0    PC 17611  133.6500    NaN        S  \n",
       "348              1      0      386525   16.1000    NaN        S  \n",
       "365              1      0      370365   15.5000    NaN        Q  \n",
       "376              1      0    PC 17604   82.1708    NaN        C  \n",
       "410              3      1        4133   25.4667    NaN        S  \n",
       "432              1      0      376564   16.1000    NaN        S  \n",
       "452              1      0       65303   19.9667    NaN        S  \n",
       "458              1      0       17464   51.8625    D21        S  \n",
       "486              3      1        4133   25.4667    NaN        S  \n",
       "491              1      0       65304   19.9667    NaN        S  \n",
       "534              0      2        2668   22.3583    NaN        C  \n",
       "579              1      0        2689   14.4583    NaN        C  \n",
       "594              0      2      364848    7.7500    NaN        Q  \n",
       "613              1      0      367230   15.5000    NaN        Q  \n",
       "640              1      0      376564   16.1000    NaN        S  \n",
       "670              1      0       19996   52.0000   C126        S  \n",
       "710              1      1        2661   15.2458    NaN        C  \n",
       "769              1      0      371110   24.1500    NaN        Q  \n",
       "784              1      2  W./C. 6607   23.4500    NaN        S  \n",
       "793              8      2    CA. 2343   69.5500    NaN        S  \n",
       "847              8      2    CA. 2343   69.5500    NaN        S  \n",
       "850              1      0       17453   89.1042    C92        C  \n",
       "864              8      2    CA. 2343   69.5500    NaN        S  \n",
       "889              1      2  W./C. 6607   23.4500    NaN        S  "
      ]
     },
     "execution_count": 62,
     "metadata": {},
     "output_type": "execute_result"
    }
   ],
   "source": [
    "rest"
   ]
  },
  {
   "cell_type": "code",
   "execution_count": 63,
   "id": "31d598cf",
   "metadata": {
    "execution": {
     "iopub.execute_input": "2022-10-27T16:57:32.783186Z",
     "iopub.status.busy": "2022-10-27T16:57:32.782105Z",
     "iopub.status.idle": "2022-10-27T16:57:32.788246Z",
     "shell.execute_reply": "2022-10-27T16:57:32.787610Z"
    },
    "papermill": {
     "duration": 0.056679,
     "end_time": "2022-10-27T16:57:32.790317",
     "exception": false,
     "start_time": "2022-10-27T16:57:32.733638",
     "status": "completed"
    },
    "tags": []
   },
   "outputs": [],
   "source": [
    "ids4 =train_data[(train_data[\"SibSp\"]!=0) &(train_data[\"Parch\"]==0)  & (train_data[\"Age\"].isna())].index"
   ]
  },
  {
   "cell_type": "code",
   "execution_count": 64,
   "id": "c40873cf",
   "metadata": {
    "execution": {
     "iopub.execute_input": "2022-10-27T16:57:32.886063Z",
     "iopub.status.busy": "2022-10-27T16:57:32.885416Z",
     "iopub.status.idle": "2022-10-27T16:57:32.906193Z",
     "shell.execute_reply": "2022-10-27T16:57:32.904331Z"
    },
    "papermill": {
     "duration": 0.070896,
     "end_time": "2022-10-27T16:57:32.909080",
     "exception": false,
     "start_time": "2022-10-27T16:57:32.838184",
     "status": "completed"
    },
    "tags": []
   },
   "outputs": [
    {
     "data": {
      "text/html": [
       "<div>\n",
       "<style scoped>\n",
       "    .dataframe tbody tr th:only-of-type {\n",
       "        vertical-align: middle;\n",
       "    }\n",
       "\n",
       "    .dataframe tbody tr th {\n",
       "        vertical-align: top;\n",
       "    }\n",
       "\n",
       "    .dataframe thead th {\n",
       "        text-align: right;\n",
       "    }\n",
       "</style>\n",
       "<table border=\"1\" class=\"dataframe\">\n",
       "  <thead>\n",
       "    <tr style=\"text-align: right;\">\n",
       "      <th></th>\n",
       "      <th>Survived</th>\n",
       "      <th>Pclass</th>\n",
       "      <th>Name</th>\n",
       "      <th>Sex</th>\n",
       "      <th>Age</th>\n",
       "      <th>SibSp</th>\n",
       "      <th>Parch</th>\n",
       "      <th>Ticket</th>\n",
       "      <th>Fare</th>\n",
       "      <th>Cabin</th>\n",
       "      <th>Embarked</th>\n",
       "    </tr>\n",
       "    <tr>\n",
       "      <th>PassengerId</th>\n",
       "      <th></th>\n",
       "      <th></th>\n",
       "      <th></th>\n",
       "      <th></th>\n",
       "      <th></th>\n",
       "      <th></th>\n",
       "      <th></th>\n",
       "      <th></th>\n",
       "      <th></th>\n",
       "      <th></th>\n",
       "      <th></th>\n",
       "    </tr>\n",
       "  </thead>\n",
       "  <tbody>\n",
       "    <tr>\n",
       "      <th>32</th>\n",
       "      <td>1</td>\n",
       "      <td>1</td>\n",
       "      <td>Spencer, Mrs. William Augustus (Marie Eugenie)</td>\n",
       "      <td>female</td>\n",
       "      <td>NaN</td>\n",
       "      <td>1</td>\n",
       "      <td>0</td>\n",
       "      <td>PC 17569</td>\n",
       "      <td>146.5208</td>\n",
       "      <td>B78</td>\n",
       "      <td>C</td>\n",
       "    </tr>\n",
       "    <tr>\n",
       "      <th>47</th>\n",
       "      <td>0</td>\n",
       "      <td>3</td>\n",
       "      <td>Lennon, Mr. Denis</td>\n",
       "      <td>male</td>\n",
       "      <td>NaN</td>\n",
       "      <td>1</td>\n",
       "      <td>0</td>\n",
       "      <td>370371</td>\n",
       "      <td>15.5000</td>\n",
       "      <td>NaN</td>\n",
       "      <td>Q</td>\n",
       "    </tr>\n",
       "    <tr>\n",
       "      <th>49</th>\n",
       "      <td>0</td>\n",
       "      <td>3</td>\n",
       "      <td>Samaan, Mr. Youssef</td>\n",
       "      <td>male</td>\n",
       "      <td>NaN</td>\n",
       "      <td>2</td>\n",
       "      <td>0</td>\n",
       "      <td>2662</td>\n",
       "      <td>21.6792</td>\n",
       "      <td>NaN</td>\n",
       "      <td>C</td>\n",
       "    </tr>\n",
       "    <tr>\n",
       "      <th>110</th>\n",
       "      <td>1</td>\n",
       "      <td>3</td>\n",
       "      <td>Moran, Miss. Bertha</td>\n",
       "      <td>female</td>\n",
       "      <td>NaN</td>\n",
       "      <td>1</td>\n",
       "      <td>0</td>\n",
       "      <td>371110</td>\n",
       "      <td>24.1500</td>\n",
       "      <td>NaN</td>\n",
       "      <td>Q</td>\n",
       "    </tr>\n",
       "    <tr>\n",
       "      <th>187</th>\n",
       "      <td>1</td>\n",
       "      <td>3</td>\n",
       "      <td>O'Brien, Mrs. Thomas (Johanna \"Hannah\" Godfrey)</td>\n",
       "      <td>female</td>\n",
       "      <td>NaN</td>\n",
       "      <td>1</td>\n",
       "      <td>0</td>\n",
       "      <td>370365</td>\n",
       "      <td>15.5000</td>\n",
       "      <td>NaN</td>\n",
       "      <td>Q</td>\n",
       "    </tr>\n",
       "    <tr>\n",
       "      <th>215</th>\n",
       "      <td>0</td>\n",
       "      <td>3</td>\n",
       "      <td>Kiernan, Mr. Philip</td>\n",
       "      <td>male</td>\n",
       "      <td>NaN</td>\n",
       "      <td>1</td>\n",
       "      <td>0</td>\n",
       "      <td>367229</td>\n",
       "      <td>7.7500</td>\n",
       "      <td>NaN</td>\n",
       "      <td>Q</td>\n",
       "    </tr>\n",
       "    <tr>\n",
       "      <th>241</th>\n",
       "      <td>0</td>\n",
       "      <td>3</td>\n",
       "      <td>Zabour, Miss. Thamine</td>\n",
       "      <td>female</td>\n",
       "      <td>NaN</td>\n",
       "      <td>1</td>\n",
       "      <td>0</td>\n",
       "      <td>2665</td>\n",
       "      <td>14.4542</td>\n",
       "      <td>NaN</td>\n",
       "      <td>C</td>\n",
       "    </tr>\n",
       "    <tr>\n",
       "      <th>242</th>\n",
       "      <td>1</td>\n",
       "      <td>3</td>\n",
       "      <td>Murphy, Miss. Katherine \"Kate\"</td>\n",
       "      <td>female</td>\n",
       "      <td>NaN</td>\n",
       "      <td>1</td>\n",
       "      <td>0</td>\n",
       "      <td>367230</td>\n",
       "      <td>15.5000</td>\n",
       "      <td>NaN</td>\n",
       "      <td>Q</td>\n",
       "    </tr>\n",
       "    <tr>\n",
       "      <th>302</th>\n",
       "      <td>1</td>\n",
       "      <td>3</td>\n",
       "      <td>McCoy, Mr. Bernard</td>\n",
       "      <td>male</td>\n",
       "      <td>NaN</td>\n",
       "      <td>2</td>\n",
       "      <td>0</td>\n",
       "      <td>367226</td>\n",
       "      <td>23.2500</td>\n",
       "      <td>NaN</td>\n",
       "      <td>Q</td>\n",
       "    </tr>\n",
       "    <tr>\n",
       "      <th>331</th>\n",
       "      <td>1</td>\n",
       "      <td>3</td>\n",
       "      <td>McCoy, Miss. Agnes</td>\n",
       "      <td>female</td>\n",
       "      <td>NaN</td>\n",
       "      <td>2</td>\n",
       "      <td>0</td>\n",
       "      <td>367226</td>\n",
       "      <td>23.2500</td>\n",
       "      <td>NaN</td>\n",
       "      <td>Q</td>\n",
       "    </tr>\n",
       "    <tr>\n",
       "      <th>335</th>\n",
       "      <td>1</td>\n",
       "      <td>1</td>\n",
       "      <td>Frauenthal, Mrs. Henry William (Clara Heinshei...</td>\n",
       "      <td>female</td>\n",
       "      <td>NaN</td>\n",
       "      <td>1</td>\n",
       "      <td>0</td>\n",
       "      <td>PC 17611</td>\n",
       "      <td>133.6500</td>\n",
       "      <td>NaN</td>\n",
       "      <td>S</td>\n",
       "    </tr>\n",
       "    <tr>\n",
       "      <th>348</th>\n",
       "      <td>1</td>\n",
       "      <td>3</td>\n",
       "      <td>Davison, Mrs. Thomas Henry (Mary E Finck)</td>\n",
       "      <td>female</td>\n",
       "      <td>NaN</td>\n",
       "      <td>1</td>\n",
       "      <td>0</td>\n",
       "      <td>386525</td>\n",
       "      <td>16.1000</td>\n",
       "      <td>NaN</td>\n",
       "      <td>S</td>\n",
       "    </tr>\n",
       "    <tr>\n",
       "      <th>365</th>\n",
       "      <td>0</td>\n",
       "      <td>3</td>\n",
       "      <td>O'Brien, Mr. Thomas</td>\n",
       "      <td>male</td>\n",
       "      <td>NaN</td>\n",
       "      <td>1</td>\n",
       "      <td>0</td>\n",
       "      <td>370365</td>\n",
       "      <td>15.5000</td>\n",
       "      <td>NaN</td>\n",
       "      <td>Q</td>\n",
       "    </tr>\n",
       "    <tr>\n",
       "      <th>376</th>\n",
       "      <td>1</td>\n",
       "      <td>1</td>\n",
       "      <td>Meyer, Mrs. Edgar Joseph (Leila Saks)</td>\n",
       "      <td>female</td>\n",
       "      <td>NaN</td>\n",
       "      <td>1</td>\n",
       "      <td>0</td>\n",
       "      <td>PC 17604</td>\n",
       "      <td>82.1708</td>\n",
       "      <td>NaN</td>\n",
       "      <td>C</td>\n",
       "    </tr>\n",
       "    <tr>\n",
       "      <th>432</th>\n",
       "      <td>1</td>\n",
       "      <td>3</td>\n",
       "      <td>Thorneycroft, Mrs. Percival (Florence Kate White)</td>\n",
       "      <td>female</td>\n",
       "      <td>NaN</td>\n",
       "      <td>1</td>\n",
       "      <td>0</td>\n",
       "      <td>376564</td>\n",
       "      <td>16.1000</td>\n",
       "      <td>NaN</td>\n",
       "      <td>S</td>\n",
       "    </tr>\n",
       "    <tr>\n",
       "      <th>452</th>\n",
       "      <td>0</td>\n",
       "      <td>3</td>\n",
       "      <td>Hagland, Mr. Ingvald Olai Olsen</td>\n",
       "      <td>male</td>\n",
       "      <td>NaN</td>\n",
       "      <td>1</td>\n",
       "      <td>0</td>\n",
       "      <td>65303</td>\n",
       "      <td>19.9667</td>\n",
       "      <td>NaN</td>\n",
       "      <td>S</td>\n",
       "    </tr>\n",
       "    <tr>\n",
       "      <th>458</th>\n",
       "      <td>1</td>\n",
       "      <td>1</td>\n",
       "      <td>Kenyon, Mrs. Frederick R (Marion)</td>\n",
       "      <td>female</td>\n",
       "      <td>NaN</td>\n",
       "      <td>1</td>\n",
       "      <td>0</td>\n",
       "      <td>17464</td>\n",
       "      <td>51.8625</td>\n",
       "      <td>D21</td>\n",
       "      <td>S</td>\n",
       "    </tr>\n",
       "    <tr>\n",
       "      <th>491</th>\n",
       "      <td>0</td>\n",
       "      <td>3</td>\n",
       "      <td>Hagland, Mr. Konrad Mathias Reiersen</td>\n",
       "      <td>male</td>\n",
       "      <td>NaN</td>\n",
       "      <td>1</td>\n",
       "      <td>0</td>\n",
       "      <td>65304</td>\n",
       "      <td>19.9667</td>\n",
       "      <td>NaN</td>\n",
       "      <td>S</td>\n",
       "    </tr>\n",
       "    <tr>\n",
       "      <th>579</th>\n",
       "      <td>0</td>\n",
       "      <td>3</td>\n",
       "      <td>Caram, Mrs. Joseph (Maria Elias)</td>\n",
       "      <td>female</td>\n",
       "      <td>NaN</td>\n",
       "      <td>1</td>\n",
       "      <td>0</td>\n",
       "      <td>2689</td>\n",
       "      <td>14.4583</td>\n",
       "      <td>NaN</td>\n",
       "      <td>C</td>\n",
       "    </tr>\n",
       "    <tr>\n",
       "      <th>613</th>\n",
       "      <td>1</td>\n",
       "      <td>3</td>\n",
       "      <td>Murphy, Miss. Margaret Jane</td>\n",
       "      <td>female</td>\n",
       "      <td>NaN</td>\n",
       "      <td>1</td>\n",
       "      <td>0</td>\n",
       "      <td>367230</td>\n",
       "      <td>15.5000</td>\n",
       "      <td>NaN</td>\n",
       "      <td>Q</td>\n",
       "    </tr>\n",
       "    <tr>\n",
       "      <th>640</th>\n",
       "      <td>0</td>\n",
       "      <td>3</td>\n",
       "      <td>Thorneycroft, Mr. Percival</td>\n",
       "      <td>male</td>\n",
       "      <td>NaN</td>\n",
       "      <td>1</td>\n",
       "      <td>0</td>\n",
       "      <td>376564</td>\n",
       "      <td>16.1000</td>\n",
       "      <td>NaN</td>\n",
       "      <td>S</td>\n",
       "    </tr>\n",
       "    <tr>\n",
       "      <th>670</th>\n",
       "      <td>1</td>\n",
       "      <td>1</td>\n",
       "      <td>Taylor, Mrs. Elmer Zebley (Juliet Cummins Wright)</td>\n",
       "      <td>female</td>\n",
       "      <td>NaN</td>\n",
       "      <td>1</td>\n",
       "      <td>0</td>\n",
       "      <td>19996</td>\n",
       "      <td>52.0000</td>\n",
       "      <td>C126</td>\n",
       "      <td>S</td>\n",
       "    </tr>\n",
       "    <tr>\n",
       "      <th>769</th>\n",
       "      <td>0</td>\n",
       "      <td>3</td>\n",
       "      <td>Moran, Mr. Daniel J</td>\n",
       "      <td>male</td>\n",
       "      <td>NaN</td>\n",
       "      <td>1</td>\n",
       "      <td>0</td>\n",
       "      <td>371110</td>\n",
       "      <td>24.1500</td>\n",
       "      <td>NaN</td>\n",
       "      <td>Q</td>\n",
       "    </tr>\n",
       "    <tr>\n",
       "      <th>850</th>\n",
       "      <td>1</td>\n",
       "      <td>1</td>\n",
       "      <td>Goldenberg, Mrs. Samuel L (Edwiga Grabowska)</td>\n",
       "      <td>female</td>\n",
       "      <td>NaN</td>\n",
       "      <td>1</td>\n",
       "      <td>0</td>\n",
       "      <td>17453</td>\n",
       "      <td>89.1042</td>\n",
       "      <td>C92</td>\n",
       "      <td>C</td>\n",
       "    </tr>\n",
       "  </tbody>\n",
       "</table>\n",
       "</div>"
      ],
      "text/plain": [
       "             Survived  Pclass  \\\n",
       "PassengerId                     \n",
       "32                  1       1   \n",
       "47                  0       3   \n",
       "49                  0       3   \n",
       "110                 1       3   \n",
       "187                 1       3   \n",
       "215                 0       3   \n",
       "241                 0       3   \n",
       "242                 1       3   \n",
       "302                 1       3   \n",
       "331                 1       3   \n",
       "335                 1       1   \n",
       "348                 1       3   \n",
       "365                 0       3   \n",
       "376                 1       1   \n",
       "432                 1       3   \n",
       "452                 0       3   \n",
       "458                 1       1   \n",
       "491                 0       3   \n",
       "579                 0       3   \n",
       "613                 1       3   \n",
       "640                 0       3   \n",
       "670                 1       1   \n",
       "769                 0       3   \n",
       "850                 1       1   \n",
       "\n",
       "                                                          Name     Sex  Age  \\\n",
       "PassengerId                                                                   \n",
       "32              Spencer, Mrs. William Augustus (Marie Eugenie)  female  NaN   \n",
       "47                                           Lennon, Mr. Denis    male  NaN   \n",
       "49                                         Samaan, Mr. Youssef    male  NaN   \n",
       "110                                        Moran, Miss. Bertha  female  NaN   \n",
       "187            O'Brien, Mrs. Thomas (Johanna \"Hannah\" Godfrey)  female  NaN   \n",
       "215                                        Kiernan, Mr. Philip    male  NaN   \n",
       "241                                      Zabour, Miss. Thamine  female  NaN   \n",
       "242                             Murphy, Miss. Katherine \"Kate\"  female  NaN   \n",
       "302                                         McCoy, Mr. Bernard    male  NaN   \n",
       "331                                         McCoy, Miss. Agnes  female  NaN   \n",
       "335          Frauenthal, Mrs. Henry William (Clara Heinshei...  female  NaN   \n",
       "348                  Davison, Mrs. Thomas Henry (Mary E Finck)  female  NaN   \n",
       "365                                        O'Brien, Mr. Thomas    male  NaN   \n",
       "376                      Meyer, Mrs. Edgar Joseph (Leila Saks)  female  NaN   \n",
       "432          Thorneycroft, Mrs. Percival (Florence Kate White)  female  NaN   \n",
       "452                            Hagland, Mr. Ingvald Olai Olsen    male  NaN   \n",
       "458                          Kenyon, Mrs. Frederick R (Marion)  female  NaN   \n",
       "491                       Hagland, Mr. Konrad Mathias Reiersen    male  NaN   \n",
       "579                           Caram, Mrs. Joseph (Maria Elias)  female  NaN   \n",
       "613                                Murphy, Miss. Margaret Jane  female  NaN   \n",
       "640                                 Thorneycroft, Mr. Percival    male  NaN   \n",
       "670          Taylor, Mrs. Elmer Zebley (Juliet Cummins Wright)  female  NaN   \n",
       "769                                        Moran, Mr. Daniel J    male  NaN   \n",
       "850               Goldenberg, Mrs. Samuel L (Edwiga Grabowska)  female  NaN   \n",
       "\n",
       "             SibSp  Parch    Ticket      Fare Cabin Embarked  \n",
       "PassengerId                                                   \n",
       "32               1      0  PC 17569  146.5208   B78        C  \n",
       "47               1      0    370371   15.5000   NaN        Q  \n",
       "49               2      0      2662   21.6792   NaN        C  \n",
       "110              1      0    371110   24.1500   NaN        Q  \n",
       "187              1      0    370365   15.5000   NaN        Q  \n",
       "215              1      0    367229    7.7500   NaN        Q  \n",
       "241              1      0      2665   14.4542   NaN        C  \n",
       "242              1      0    367230   15.5000   NaN        Q  \n",
       "302              2      0    367226   23.2500   NaN        Q  \n",
       "331              2      0    367226   23.2500   NaN        Q  \n",
       "335              1      0  PC 17611  133.6500   NaN        S  \n",
       "348              1      0    386525   16.1000   NaN        S  \n",
       "365              1      0    370365   15.5000   NaN        Q  \n",
       "376              1      0  PC 17604   82.1708   NaN        C  \n",
       "432              1      0    376564   16.1000   NaN        S  \n",
       "452              1      0     65303   19.9667   NaN        S  \n",
       "458              1      0     17464   51.8625   D21        S  \n",
       "491              1      0     65304   19.9667   NaN        S  \n",
       "579              1      0      2689   14.4583   NaN        C  \n",
       "613              1      0    367230   15.5000   NaN        Q  \n",
       "640              1      0    376564   16.1000   NaN        S  \n",
       "670              1      0     19996   52.0000  C126        S  \n",
       "769              1      0    371110   24.1500   NaN        Q  \n",
       "850              1      0     17453   89.1042   C92        C  "
      ]
     },
     "execution_count": 64,
     "metadata": {},
     "output_type": "execute_result"
    }
   ],
   "source": [
    "train_data.loc[ids4]"
   ]
  },
  {
   "cell_type": "code",
   "execution_count": 65,
   "id": "2a6d30ce",
   "metadata": {
    "execution": {
     "iopub.execute_input": "2022-10-27T16:57:33.010190Z",
     "iopub.status.busy": "2022-10-27T16:57:33.009458Z",
     "iopub.status.idle": "2022-10-27T16:57:33.223345Z",
     "shell.execute_reply": "2022-10-27T16:57:33.222692Z"
    },
    "papermill": {
     "duration": 0.268035,
     "end_time": "2022-10-27T16:57:33.225241",
     "exception": false,
     "start_time": "2022-10-27T16:57:32.957206",
     "status": "completed"
    },
    "tags": []
   },
   "outputs": [
    {
     "data": {
      "text/plain": [
       "<AxesSubplot:xlabel='Age', ylabel='Count'>"
      ]
     },
     "execution_count": 65,
     "metadata": {},
     "output_type": "execute_result"
    },
    {
     "data": {
      "image/png": "[encoded data removed]",
      "text/plain": [
       "<Figure size 432x288 with 1 Axes>"
      ]
     },
     "metadata": {
      "needs_background": "light"
     },
     "output_type": "display_data"
    }
   ],
   "source": [
    "sns.histplot(data = zero_par_not_sib , x = zero_par_not_sib[\"Age\"],hue=\"Sex\")"
   ]
  },
  {
   "cell_type": "code",
   "execution_count": 66,
   "id": "0e810276",
   "metadata": {
    "execution": {
     "iopub.execute_input": "2022-10-27T16:57:33.375131Z",
     "iopub.status.busy": "2022-10-27T16:57:33.374738Z",
     "iopub.status.idle": "2022-10-27T16:57:33.384031Z",
     "shell.execute_reply": "2022-10-27T16:57:33.382940Z"
    },
    "papermill": {
     "duration": 0.112432,
     "end_time": "2022-10-27T16:57:33.386186",
     "exception": false,
     "start_time": "2022-10-27T16:57:33.273754",
     "status": "completed"
    },
    "tags": []
   },
   "outputs": [
    {
     "name": "stderr",
     "output_type": "stream",
     "text": [
      "/opt/conda/lib/python3.7/site-packages/ipykernel_launcher.py:1: FutureWarning: Dropping of nuisance columns in DataFrame reductions (with 'numeric_only=None') is deprecated; in a future version this will raise TypeError.  Select only valid columns before calling the reduction.\n",
      "  \"\"\"Entry point for launching an IPython kernel.\n"
     ]
    },
    {
     "data": {
      "text/plain": [
       "Survived     0.478632\n",
       "Pclass       1.923077\n",
       "Age         32.034188\n",
       "SibSp        1.145299\n",
       "Parch        0.000000\n",
       "Fare        43.301926\n",
       "dtype: float64"
      ]
     },
     "execution_count": 66,
     "metadata": {},
     "output_type": "execute_result"
    }
   ],
   "source": [
    "zero_par_not_sib.mean()"
   ]
  },
  {
   "cell_type": "code",
   "execution_count": 67,
   "id": "489a0c95",
   "metadata": {
    "execution": {
     "iopub.execute_input": "2022-10-27T16:57:33.482989Z",
     "iopub.status.busy": "2022-10-27T16:57:33.482617Z",
     "iopub.status.idle": "2022-10-27T16:57:33.491264Z",
     "shell.execute_reply": "2022-10-27T16:57:33.490018Z"
    },
    "papermill": {
     "duration": 0.059718,
     "end_time": "2022-10-27T16:57:33.493344",
     "exception": false,
     "start_time": "2022-10-27T16:57:33.433626",
     "status": "completed"
    },
    "tags": []
   },
   "outputs": [
    {
     "name": "stderr",
     "output_type": "stream",
     "text": [
      "/opt/conda/lib/python3.7/site-packages/pandas/core/indexing.py:1732: SettingWithCopyWarning: \n",
      "A value is trying to be set on a copy of a slice from a DataFrame\n",
      "\n",
      "See the caveats in the documentation: https://pandas.pydata.org/pandas-docs/stable/user_guide/indexing.html#returning-a-view-versus-a-copy\n",
      "  self._setitem_single_block(indexer, value, name)\n"
     ]
    }
   ],
   "source": [
    "train_data[\"Age\"].loc[ids4]=train_data.loc[ids4][\"Age\"].replace(np.nan,32)"
   ]
  },
  {
   "cell_type": "code",
   "execution_count": 68,
   "id": "6eb9e0e0",
   "metadata": {
    "execution": {
     "iopub.execute_input": "2022-10-27T16:57:33.591412Z",
     "iopub.status.busy": "2022-10-27T16:57:33.590953Z",
     "iopub.status.idle": "2022-10-27T16:57:33.595725Z",
     "shell.execute_reply": "2022-10-27T16:57:33.594893Z"
    },
    "papermill": {
     "duration": 0.057039,
     "end_time": "2022-10-27T16:57:33.598012",
     "exception": false,
     "start_time": "2022-10-27T16:57:33.540973",
     "status": "completed"
    },
    "tags": []
   },
   "outputs": [],
   "source": [
    "rest=train_data[train_data[\"Age\"].isna()]"
   ]
  },
  {
   "cell_type": "code",
   "execution_count": 69,
   "id": "7935545e",
   "metadata": {
    "execution": {
     "iopub.execute_input": "2022-10-27T16:57:33.694418Z",
     "iopub.status.busy": "2022-10-27T16:57:33.694007Z",
     "iopub.status.idle": "2022-10-27T16:57:33.712094Z",
     "shell.execute_reply": "2022-10-27T16:57:33.710791Z"
    },
    "papermill": {
     "duration": 0.07038,
     "end_time": "2022-10-27T16:57:33.715471",
     "exception": false,
     "start_time": "2022-10-27T16:57:33.645091",
     "status": "completed"
    },
    "tags": []
   },
   "outputs": [
    {
     "data": {
      "text/html": [
       "<div>\n",
       "<style scoped>\n",
       "    .dataframe tbody tr th:only-of-type {\n",
       "        vertical-align: middle;\n",
       "    }\n",
       "\n",
       "    .dataframe tbody tr th {\n",
       "        vertical-align: top;\n",
       "    }\n",
       "\n",
       "    .dataframe thead th {\n",
       "        text-align: right;\n",
       "    }\n",
       "</style>\n",
       "<table border=\"1\" class=\"dataframe\">\n",
       "  <thead>\n",
       "    <tr style=\"text-align: right;\">\n",
       "      <th></th>\n",
       "      <th>Survived</th>\n",
       "      <th>Pclass</th>\n",
       "      <th>Name</th>\n",
       "      <th>Sex</th>\n",
       "      <th>Age</th>\n",
       "      <th>SibSp</th>\n",
       "      <th>Parch</th>\n",
       "      <th>Ticket</th>\n",
       "      <th>Fare</th>\n",
       "      <th>Cabin</th>\n",
       "      <th>Embarked</th>\n",
       "    </tr>\n",
       "    <tr>\n",
       "      <th>PassengerId</th>\n",
       "      <th></th>\n",
       "      <th></th>\n",
       "      <th></th>\n",
       "      <th></th>\n",
       "      <th></th>\n",
       "      <th></th>\n",
       "      <th></th>\n",
       "      <th></th>\n",
       "      <th></th>\n",
       "      <th></th>\n",
       "      <th></th>\n",
       "    </tr>\n",
       "  </thead>\n",
       "  <tbody>\n",
       "    <tr>\n",
       "      <th>66</th>\n",
       "      <td>1</td>\n",
       "      <td>3</td>\n",
       "      <td>Moubarek, Master. Gerios</td>\n",
       "      <td>male</td>\n",
       "      <td>NaN</td>\n",
       "      <td>1</td>\n",
       "      <td>1</td>\n",
       "      <td>2661</td>\n",
       "      <td>15.2458</td>\n",
       "      <td>NaN</td>\n",
       "      <td>C</td>\n",
       "    </tr>\n",
       "    <tr>\n",
       "      <th>129</th>\n",
       "      <td>1</td>\n",
       "      <td>3</td>\n",
       "      <td>Peter, Miss. Anna</td>\n",
       "      <td>female</td>\n",
       "      <td>NaN</td>\n",
       "      <td>1</td>\n",
       "      <td>1</td>\n",
       "      <td>2668</td>\n",
       "      <td>22.3583</td>\n",
       "      <td>F E69</td>\n",
       "      <td>C</td>\n",
       "    </tr>\n",
       "    <tr>\n",
       "      <th>141</th>\n",
       "      <td>0</td>\n",
       "      <td>3</td>\n",
       "      <td>Boulos, Mrs. Joseph (Sultana)</td>\n",
       "      <td>female</td>\n",
       "      <td>NaN</td>\n",
       "      <td>0</td>\n",
       "      <td>2</td>\n",
       "      <td>2678</td>\n",
       "      <td>15.2458</td>\n",
       "      <td>NaN</td>\n",
       "      <td>C</td>\n",
       "    </tr>\n",
       "    <tr>\n",
       "      <th>160</th>\n",
       "      <td>0</td>\n",
       "      <td>3</td>\n",
       "      <td>Sage, Master. Thomas Henry</td>\n",
       "      <td>male</td>\n",
       "      <td>NaN</td>\n",
       "      <td>8</td>\n",
       "      <td>2</td>\n",
       "      <td>CA. 2343</td>\n",
       "      <td>69.5500</td>\n",
       "      <td>NaN</td>\n",
       "      <td>S</td>\n",
       "    </tr>\n",
       "    <tr>\n",
       "      <th>167</th>\n",
       "      <td>1</td>\n",
       "      <td>1</td>\n",
       "      <td>Chibnall, Mrs. (Edith Martha Bowerman)</td>\n",
       "      <td>female</td>\n",
       "      <td>NaN</td>\n",
       "      <td>0</td>\n",
       "      <td>1</td>\n",
       "      <td>113505</td>\n",
       "      <td>55.0000</td>\n",
       "      <td>E33</td>\n",
       "      <td>S</td>\n",
       "    </tr>\n",
       "    <tr>\n",
       "      <th>177</th>\n",
       "      <td>0</td>\n",
       "      <td>3</td>\n",
       "      <td>Lefebre, Master. Henry Forbes</td>\n",
       "      <td>male</td>\n",
       "      <td>NaN</td>\n",
       "      <td>3</td>\n",
       "      <td>1</td>\n",
       "      <td>4133</td>\n",
       "      <td>25.4667</td>\n",
       "      <td>NaN</td>\n",
       "      <td>S</td>\n",
       "    </tr>\n",
       "    <tr>\n",
       "      <th>181</th>\n",
       "      <td>0</td>\n",
       "      <td>3</td>\n",
       "      <td>Sage, Miss. Constance Gladys</td>\n",
       "      <td>female</td>\n",
       "      <td>NaN</td>\n",
       "      <td>8</td>\n",
       "      <td>2</td>\n",
       "      <td>CA. 2343</td>\n",
       "      <td>69.5500</td>\n",
       "      <td>NaN</td>\n",
       "      <td>S</td>\n",
       "    </tr>\n",
       "    <tr>\n",
       "      <th>202</th>\n",
       "      <td>0</td>\n",
       "      <td>3</td>\n",
       "      <td>Sage, Mr. Frederick</td>\n",
       "      <td>male</td>\n",
       "      <td>NaN</td>\n",
       "      <td>8</td>\n",
       "      <td>2</td>\n",
       "      <td>CA. 2343</td>\n",
       "      <td>69.5500</td>\n",
       "      <td>NaN</td>\n",
       "      <td>S</td>\n",
       "    </tr>\n",
       "    <tr>\n",
       "      <th>230</th>\n",
       "      <td>0</td>\n",
       "      <td>3</td>\n",
       "      <td>Lefebre, Miss. Mathilde</td>\n",
       "      <td>female</td>\n",
       "      <td>NaN</td>\n",
       "      <td>3</td>\n",
       "      <td>1</td>\n",
       "      <td>4133</td>\n",
       "      <td>25.4667</td>\n",
       "      <td>NaN</td>\n",
       "      <td>S</td>\n",
       "    </tr>\n",
       "    <tr>\n",
       "      <th>325</th>\n",
       "      <td>0</td>\n",
       "      <td>3</td>\n",
       "      <td>Sage, Mr. George John Jr</td>\n",
       "      <td>male</td>\n",
       "      <td>NaN</td>\n",
       "      <td>8</td>\n",
       "      <td>2</td>\n",
       "      <td>CA. 2343</td>\n",
       "      <td>69.5500</td>\n",
       "      <td>NaN</td>\n",
       "      <td>S</td>\n",
       "    </tr>\n",
       "    <tr>\n",
       "      <th>410</th>\n",
       "      <td>0</td>\n",
       "      <td>3</td>\n",
       "      <td>Lefebre, Miss. Ida</td>\n",
       "      <td>female</td>\n",
       "      <td>NaN</td>\n",
       "      <td>3</td>\n",
       "      <td>1</td>\n",
       "      <td>4133</td>\n",
       "      <td>25.4667</td>\n",
       "      <td>NaN</td>\n",
       "      <td>S</td>\n",
       "    </tr>\n",
       "    <tr>\n",
       "      <th>486</th>\n",
       "      <td>0</td>\n",
       "      <td>3</td>\n",
       "      <td>Lefebre, Miss. Jeannie</td>\n",
       "      <td>female</td>\n",
       "      <td>NaN</td>\n",
       "      <td>3</td>\n",
       "      <td>1</td>\n",
       "      <td>4133</td>\n",
       "      <td>25.4667</td>\n",
       "      <td>NaN</td>\n",
       "      <td>S</td>\n",
       "    </tr>\n",
       "    <tr>\n",
       "      <th>534</th>\n",
       "      <td>1</td>\n",
       "      <td>3</td>\n",
       "      <td>Peter, Mrs. Catherine (Catherine Rizk)</td>\n",
       "      <td>female</td>\n",
       "      <td>NaN</td>\n",
       "      <td>0</td>\n",
       "      <td>2</td>\n",
       "      <td>2668</td>\n",
       "      <td>22.3583</td>\n",
       "      <td>NaN</td>\n",
       "      <td>C</td>\n",
       "    </tr>\n",
       "    <tr>\n",
       "      <th>594</th>\n",
       "      <td>0</td>\n",
       "      <td>3</td>\n",
       "      <td>Bourke, Miss. Mary</td>\n",
       "      <td>female</td>\n",
       "      <td>NaN</td>\n",
       "      <td>0</td>\n",
       "      <td>2</td>\n",
       "      <td>364848</td>\n",
       "      <td>7.7500</td>\n",
       "      <td>NaN</td>\n",
       "      <td>Q</td>\n",
       "    </tr>\n",
       "    <tr>\n",
       "      <th>710</th>\n",
       "      <td>1</td>\n",
       "      <td>3</td>\n",
       "      <td>Moubarek, Master. Halim Gonios (\"William George\")</td>\n",
       "      <td>male</td>\n",
       "      <td>NaN</td>\n",
       "      <td>1</td>\n",
       "      <td>1</td>\n",
       "      <td>2661</td>\n",
       "      <td>15.2458</td>\n",
       "      <td>NaN</td>\n",
       "      <td>C</td>\n",
       "    </tr>\n",
       "    <tr>\n",
       "      <th>784</th>\n",
       "      <td>0</td>\n",
       "      <td>3</td>\n",
       "      <td>Johnston, Mr. Andrew G</td>\n",
       "      <td>male</td>\n",
       "      <td>NaN</td>\n",
       "      <td>1</td>\n",
       "      <td>2</td>\n",
       "      <td>W./C. 6607</td>\n",
       "      <td>23.4500</td>\n",
       "      <td>NaN</td>\n",
       "      <td>S</td>\n",
       "    </tr>\n",
       "    <tr>\n",
       "      <th>793</th>\n",
       "      <td>0</td>\n",
       "      <td>3</td>\n",
       "      <td>Sage, Miss. Stella Anna</td>\n",
       "      <td>female</td>\n",
       "      <td>NaN</td>\n",
       "      <td>8</td>\n",
       "      <td>2</td>\n",
       "      <td>CA. 2343</td>\n",
       "      <td>69.5500</td>\n",
       "      <td>NaN</td>\n",
       "      <td>S</td>\n",
       "    </tr>\n",
       "    <tr>\n",
       "      <th>847</th>\n",
       "      <td>0</td>\n",
       "      <td>3</td>\n",
       "      <td>Sage, Mr. Douglas Bullen</td>\n",
       "      <td>male</td>\n",
       "      <td>NaN</td>\n",
       "      <td>8</td>\n",
       "      <td>2</td>\n",
       "      <td>CA. 2343</td>\n",
       "      <td>69.5500</td>\n",
       "      <td>NaN</td>\n",
       "      <td>S</td>\n",
       "    </tr>\n",
       "    <tr>\n",
       "      <th>864</th>\n",
       "      <td>0</td>\n",
       "      <td>3</td>\n",
       "      <td>Sage, Miss. Dorothy Edith \"Dolly\"</td>\n",
       "      <td>female</td>\n",
       "      <td>NaN</td>\n",
       "      <td>8</td>\n",
       "      <td>2</td>\n",
       "      <td>CA. 2343</td>\n",
       "      <td>69.5500</td>\n",
       "      <td>NaN</td>\n",
       "      <td>S</td>\n",
       "    </tr>\n",
       "    <tr>\n",
       "      <th>889</th>\n",
       "      <td>0</td>\n",
       "      <td>3</td>\n",
       "      <td>Johnston, Miss. Catherine Helen \"Carrie\"</td>\n",
       "      <td>female</td>\n",
       "      <td>NaN</td>\n",
       "      <td>1</td>\n",
       "      <td>2</td>\n",
       "      <td>W./C. 6607</td>\n",
       "      <td>23.4500</td>\n",
       "      <td>NaN</td>\n",
       "      <td>S</td>\n",
       "    </tr>\n",
       "  </tbody>\n",
       "</table>\n",
       "</div>"
      ],
      "text/plain": [
       "             Survived  Pclass  \\\n",
       "PassengerId                     \n",
       "66                  1       3   \n",
       "129                 1       3   \n",
       "141                 0       3   \n",
       "160                 0       3   \n",
       "167                 1       1   \n",
       "177                 0       3   \n",
       "181                 0       3   \n",
       "202                 0       3   \n",
       "230                 0       3   \n",
       "325                 0       3   \n",
       "410                 0       3   \n",
       "486                 0       3   \n",
       "534                 1       3   \n",
       "594                 0       3   \n",
       "710                 1       3   \n",
       "784                 0       3   \n",
       "793                 0       3   \n",
       "847                 0       3   \n",
       "864                 0       3   \n",
       "889                 0       3   \n",
       "\n",
       "                                                          Name     Sex  Age  \\\n",
       "PassengerId                                                                   \n",
       "66                                    Moubarek, Master. Gerios    male  NaN   \n",
       "129                                          Peter, Miss. Anna  female  NaN   \n",
       "141                              Boulos, Mrs. Joseph (Sultana)  female  NaN   \n",
       "160                                 Sage, Master. Thomas Henry    male  NaN   \n",
       "167                     Chibnall, Mrs. (Edith Martha Bowerman)  female  NaN   \n",
       "177                              Lefebre, Master. Henry Forbes    male  NaN   \n",
       "181                               Sage, Miss. Constance Gladys  female  NaN   \n",
       "202                                        Sage, Mr. Frederick    male  NaN   \n",
       "230                                    Lefebre, Miss. Mathilde  female  NaN   \n",
       "325                                   Sage, Mr. George John Jr    male  NaN   \n",
       "410                                         Lefebre, Miss. Ida  female  NaN   \n",
       "486                                     Lefebre, Miss. Jeannie  female  NaN   \n",
       "534                     Peter, Mrs. Catherine (Catherine Rizk)  female  NaN   \n",
       "594                                         Bourke, Miss. Mary  female  NaN   \n",
       "710          Moubarek, Master. Halim Gonios (\"William George\")    male  NaN   \n",
       "784                                     Johnston, Mr. Andrew G    male  NaN   \n",
       "793                                    Sage, Miss. Stella Anna  female  NaN   \n",
       "847                                   Sage, Mr. Douglas Bullen    male  NaN   \n",
       "864                          Sage, Miss. Dorothy Edith \"Dolly\"  female  NaN   \n",
       "889                   Johnston, Miss. Catherine Helen \"Carrie\"  female  NaN   \n",
       "\n",
       "             SibSp  Parch      Ticket     Fare  Cabin Embarked  \n",
       "PassengerId                                                     \n",
       "66               1      1        2661  15.2458    NaN        C  \n",
       "129              1      1        2668  22.3583  F E69        C  \n",
       "141              0      2        2678  15.2458    NaN        C  \n",
       "160              8      2    CA. 2343  69.5500    NaN        S  \n",
       "167              0      1      113505  55.0000    E33        S  \n",
       "177              3      1        4133  25.4667    NaN        S  \n",
       "181              8      2    CA. 2343  69.5500    NaN        S  \n",
       "202              8      2    CA. 2343  69.5500    NaN        S  \n",
       "230              3      1        4133  25.4667    NaN        S  \n",
       "325              8      2    CA. 2343  69.5500    NaN        S  \n",
       "410              3      1        4133  25.4667    NaN        S  \n",
       "486              3      1        4133  25.4667    NaN        S  \n",
       "534              0      2        2668  22.3583    NaN        C  \n",
       "594              0      2      364848   7.7500    NaN        Q  \n",
       "710              1      1        2661  15.2458    NaN        C  \n",
       "784              1      2  W./C. 6607  23.4500    NaN        S  \n",
       "793              8      2    CA. 2343  69.5500    NaN        S  \n",
       "847              8      2    CA. 2343  69.5500    NaN        S  \n",
       "864              8      2    CA. 2343  69.5500    NaN        S  \n",
       "889              1      2  W./C. 6607  23.4500    NaN        S  "
      ]
     },
     "execution_count": 69,
     "metadata": {},
     "output_type": "execute_result"
    }
   ],
   "source": [
    "rest"
   ]
  },
  {
   "cell_type": "code",
   "execution_count": 70,
   "id": "11b7cb82",
   "metadata": {
    "execution": {
     "iopub.execute_input": "2022-10-27T16:57:33.813920Z",
     "iopub.status.busy": "2022-10-27T16:57:33.813521Z",
     "iopub.status.idle": "2022-10-27T16:57:33.824063Z",
     "shell.execute_reply": "2022-10-27T16:57:33.822829Z"
    },
    "papermill": {
     "duration": 0.063087,
     "end_time": "2022-10-27T16:57:33.826809",
     "exception": false,
     "start_time": "2022-10-27T16:57:33.763722",
     "status": "completed"
    },
    "tags": []
   },
   "outputs": [
    {
     "name": "stderr",
     "output_type": "stream",
     "text": [
      "/opt/conda/lib/python3.7/site-packages/ipykernel_launcher.py:1: FutureWarning: Dropping of nuisance columns in DataFrame reductions (with 'numeric_only=None') is deprecated; in a future version this will raise TypeError.  Select only valid columns before calling the reduction.\n",
      "  \"\"\"Entry point for launching an IPython kernel.\n"
     ]
    },
    {
     "data": {
      "text/plain": [
       "Survived     0.671642\n",
       "Pclass       1.955224\n",
       "Age         26.436567\n",
       "SibSp        0.000000\n",
       "Parch        1.582090\n",
       "Fare        61.389181\n",
       "dtype: float64"
      ]
     },
     "execution_count": 70,
     "metadata": {},
     "output_type": "execute_result"
    }
   ],
   "source": [
    "zero_sib_not_par.mean()"
   ]
  },
  {
   "cell_type": "code",
   "execution_count": 71,
   "id": "70939907",
   "metadata": {
    "execution": {
     "iopub.execute_input": "2022-10-27T16:57:33.925702Z",
     "iopub.status.busy": "2022-10-27T16:57:33.925326Z",
     "iopub.status.idle": "2022-10-27T16:57:33.931608Z",
     "shell.execute_reply": "2022-10-27T16:57:33.930721Z"
    },
    "papermill": {
     "duration": 0.058155,
     "end_time": "2022-10-27T16:57:33.933826",
     "exception": false,
     "start_time": "2022-10-27T16:57:33.875671",
     "status": "completed"
    },
    "tags": []
   },
   "outputs": [],
   "source": [
    "ids5 =train_data[(train_data[\"SibSp\"]==0) &(train_data[\"Parch\"]!=0)  & (train_data[\"Age\"].isna())].index"
   ]
  },
  {
   "cell_type": "code",
   "execution_count": 72,
   "id": "706070f9",
   "metadata": {
    "execution": {
     "iopub.execute_input": "2022-10-27T16:57:34.030668Z",
     "iopub.status.busy": "2022-10-27T16:57:34.030283Z",
     "iopub.status.idle": "2022-10-27T16:57:34.037998Z",
     "shell.execute_reply": "2022-10-27T16:57:34.036516Z"
    },
    "papermill": {
     "duration": 0.058554,
     "end_time": "2022-10-27T16:57:34.039836",
     "exception": false,
     "start_time": "2022-10-27T16:57:33.981282",
     "status": "completed"
    },
    "tags": []
   },
   "outputs": [
    {
     "name": "stderr",
     "output_type": "stream",
     "text": [
      "/opt/conda/lib/python3.7/site-packages/pandas/core/indexing.py:1732: SettingWithCopyWarning: \n",
      "A value is trying to be set on a copy of a slice from a DataFrame\n",
      "\n",
      "See the caveats in the documentation: https://pandas.pydata.org/pandas-docs/stable/user_guide/indexing.html#returning-a-view-versus-a-copy\n",
      "  self._setitem_single_block(indexer, value, name)\n"
     ]
    }
   ],
   "source": [
    "train_data[\"Age\"].loc[ids5]=train_data.loc[ids5][\"Age\"].replace(np.nan,26)"
   ]
  },
  {
   "cell_type": "code",
   "execution_count": 73,
   "id": "776bb3e6",
   "metadata": {
    "execution": {
     "iopub.execute_input": "2022-10-27T16:57:34.137556Z",
     "iopub.status.busy": "2022-10-27T16:57:34.136813Z",
     "iopub.status.idle": "2022-10-27T16:57:34.145722Z",
     "shell.execute_reply": "2022-10-27T16:57:34.143338Z"
    },
    "papermill": {
     "duration": 0.060501,
     "end_time": "2022-10-27T16:57:34.148741",
     "exception": false,
     "start_time": "2022-10-27T16:57:34.088240",
     "status": "completed"
    },
    "tags": []
   },
   "outputs": [],
   "source": [
    "rest=train_data[train_data[\"Age\"].isna()]"
   ]
  },
  {
   "cell_type": "code",
   "execution_count": 74,
   "id": "e54ce871",
   "metadata": {
    "execution": {
     "iopub.execute_input": "2022-10-27T16:57:34.261581Z",
     "iopub.status.busy": "2022-10-27T16:57:34.261149Z",
     "iopub.status.idle": "2022-10-27T16:57:34.278812Z",
     "shell.execute_reply": "2022-10-27T16:57:34.278014Z"
    },
    "papermill": {
     "duration": 0.074905,
     "end_time": "2022-10-27T16:57:34.280711",
     "exception": false,
     "start_time": "2022-10-27T16:57:34.205806",
     "status": "completed"
    },
    "tags": []
   },
   "outputs": [
    {
     "data": {
      "text/html": [
       "<div>\n",
       "<style scoped>\n",
       "    .dataframe tbody tr th:only-of-type {\n",
       "        vertical-align: middle;\n",
       "    }\n",
       "\n",
       "    .dataframe tbody tr th {\n",
       "        vertical-align: top;\n",
       "    }\n",
       "\n",
       "    .dataframe thead th {\n",
       "        text-align: right;\n",
       "    }\n",
       "</style>\n",
       "<table border=\"1\" class=\"dataframe\">\n",
       "  <thead>\n",
       "    <tr style=\"text-align: right;\">\n",
       "      <th></th>\n",
       "      <th>Survived</th>\n",
       "      <th>Pclass</th>\n",
       "      <th>Name</th>\n",
       "      <th>Sex</th>\n",
       "      <th>Age</th>\n",
       "      <th>SibSp</th>\n",
       "      <th>Parch</th>\n",
       "      <th>Ticket</th>\n",
       "      <th>Fare</th>\n",
       "      <th>Cabin</th>\n",
       "      <th>Embarked</th>\n",
       "    </tr>\n",
       "    <tr>\n",
       "      <th>PassengerId</th>\n",
       "      <th></th>\n",
       "      <th></th>\n",
       "      <th></th>\n",
       "      <th></th>\n",
       "      <th></th>\n",
       "      <th></th>\n",
       "      <th></th>\n",
       "      <th></th>\n",
       "      <th></th>\n",
       "      <th></th>\n",
       "      <th></th>\n",
       "    </tr>\n",
       "  </thead>\n",
       "  <tbody>\n",
       "    <tr>\n",
       "      <th>66</th>\n",
       "      <td>1</td>\n",
       "      <td>3</td>\n",
       "      <td>Moubarek, Master. Gerios</td>\n",
       "      <td>male</td>\n",
       "      <td>NaN</td>\n",
       "      <td>1</td>\n",
       "      <td>1</td>\n",
       "      <td>2661</td>\n",
       "      <td>15.2458</td>\n",
       "      <td>NaN</td>\n",
       "      <td>C</td>\n",
       "    </tr>\n",
       "    <tr>\n",
       "      <th>129</th>\n",
       "      <td>1</td>\n",
       "      <td>3</td>\n",
       "      <td>Peter, Miss. Anna</td>\n",
       "      <td>female</td>\n",
       "      <td>NaN</td>\n",
       "      <td>1</td>\n",
       "      <td>1</td>\n",
       "      <td>2668</td>\n",
       "      <td>22.3583</td>\n",
       "      <td>F E69</td>\n",
       "      <td>C</td>\n",
       "    </tr>\n",
       "    <tr>\n",
       "      <th>160</th>\n",
       "      <td>0</td>\n",
       "      <td>3</td>\n",
       "      <td>Sage, Master. Thomas Henry</td>\n",
       "      <td>male</td>\n",
       "      <td>NaN</td>\n",
       "      <td>8</td>\n",
       "      <td>2</td>\n",
       "      <td>CA. 2343</td>\n",
       "      <td>69.5500</td>\n",
       "      <td>NaN</td>\n",
       "      <td>S</td>\n",
       "    </tr>\n",
       "    <tr>\n",
       "      <th>177</th>\n",
       "      <td>0</td>\n",
       "      <td>3</td>\n",
       "      <td>Lefebre, Master. Henry Forbes</td>\n",
       "      <td>male</td>\n",
       "      <td>NaN</td>\n",
       "      <td>3</td>\n",
       "      <td>1</td>\n",
       "      <td>4133</td>\n",
       "      <td>25.4667</td>\n",
       "      <td>NaN</td>\n",
       "      <td>S</td>\n",
       "    </tr>\n",
       "    <tr>\n",
       "      <th>181</th>\n",
       "      <td>0</td>\n",
       "      <td>3</td>\n",
       "      <td>Sage, Miss. Constance Gladys</td>\n",
       "      <td>female</td>\n",
       "      <td>NaN</td>\n",
       "      <td>8</td>\n",
       "      <td>2</td>\n",
       "      <td>CA. 2343</td>\n",
       "      <td>69.5500</td>\n",
       "      <td>NaN</td>\n",
       "      <td>S</td>\n",
       "    </tr>\n",
       "    <tr>\n",
       "      <th>202</th>\n",
       "      <td>0</td>\n",
       "      <td>3</td>\n",
       "      <td>Sage, Mr. Frederick</td>\n",
       "      <td>male</td>\n",
       "      <td>NaN</td>\n",
       "      <td>8</td>\n",
       "      <td>2</td>\n",
       "      <td>CA. 2343</td>\n",
       "      <td>69.5500</td>\n",
       "      <td>NaN</td>\n",
       "      <td>S</td>\n",
       "    </tr>\n",
       "    <tr>\n",
       "      <th>230</th>\n",
       "      <td>0</td>\n",
       "      <td>3</td>\n",
       "      <td>Lefebre, Miss. Mathilde</td>\n",
       "      <td>female</td>\n",
       "      <td>NaN</td>\n",
       "      <td>3</td>\n",
       "      <td>1</td>\n",
       "      <td>4133</td>\n",
       "      <td>25.4667</td>\n",
       "      <td>NaN</td>\n",
       "      <td>S</td>\n",
       "    </tr>\n",
       "    <tr>\n",
       "      <th>325</th>\n",
       "      <td>0</td>\n",
       "      <td>3</td>\n",
       "      <td>Sage, Mr. George John Jr</td>\n",
       "      <td>male</td>\n",
       "      <td>NaN</td>\n",
       "      <td>8</td>\n",
       "      <td>2</td>\n",
       "      <td>CA. 2343</td>\n",
       "      <td>69.5500</td>\n",
       "      <td>NaN</td>\n",
       "      <td>S</td>\n",
       "    </tr>\n",
       "    <tr>\n",
       "      <th>410</th>\n",
       "      <td>0</td>\n",
       "      <td>3</td>\n",
       "      <td>Lefebre, Miss. Ida</td>\n",
       "      <td>female</td>\n",
       "      <td>NaN</td>\n",
       "      <td>3</td>\n",
       "      <td>1</td>\n",
       "      <td>4133</td>\n",
       "      <td>25.4667</td>\n",
       "      <td>NaN</td>\n",
       "      <td>S</td>\n",
       "    </tr>\n",
       "    <tr>\n",
       "      <th>486</th>\n",
       "      <td>0</td>\n",
       "      <td>3</td>\n",
       "      <td>Lefebre, Miss. Jeannie</td>\n",
       "      <td>female</td>\n",
       "      <td>NaN</td>\n",
       "      <td>3</td>\n",
       "      <td>1</td>\n",
       "      <td>4133</td>\n",
       "      <td>25.4667</td>\n",
       "      <td>NaN</td>\n",
       "      <td>S</td>\n",
       "    </tr>\n",
       "    <tr>\n",
       "      <th>710</th>\n",
       "      <td>1</td>\n",
       "      <td>3</td>\n",
       "      <td>Moubarek, Master. Halim Gonios (\"William George\")</td>\n",
       "      <td>male</td>\n",
       "      <td>NaN</td>\n",
       "      <td>1</td>\n",
       "      <td>1</td>\n",
       "      <td>2661</td>\n",
       "      <td>15.2458</td>\n",
       "      <td>NaN</td>\n",
       "      <td>C</td>\n",
       "    </tr>\n",
       "    <tr>\n",
       "      <th>784</th>\n",
       "      <td>0</td>\n",
       "      <td>3</td>\n",
       "      <td>Johnston, Mr. Andrew G</td>\n",
       "      <td>male</td>\n",
       "      <td>NaN</td>\n",
       "      <td>1</td>\n",
       "      <td>2</td>\n",
       "      <td>W./C. 6607</td>\n",
       "      <td>23.4500</td>\n",
       "      <td>NaN</td>\n",
       "      <td>S</td>\n",
       "    </tr>\n",
       "    <tr>\n",
       "      <th>793</th>\n",
       "      <td>0</td>\n",
       "      <td>3</td>\n",
       "      <td>Sage, Miss. Stella Anna</td>\n",
       "      <td>female</td>\n",
       "      <td>NaN</td>\n",
       "      <td>8</td>\n",
       "      <td>2</td>\n",
       "      <td>CA. 2343</td>\n",
       "      <td>69.5500</td>\n",
       "      <td>NaN</td>\n",
       "      <td>S</td>\n",
       "    </tr>\n",
       "    <tr>\n",
       "      <th>847</th>\n",
       "      <td>0</td>\n",
       "      <td>3</td>\n",
       "      <td>Sage, Mr. Douglas Bullen</td>\n",
       "      <td>male</td>\n",
       "      <td>NaN</td>\n",
       "      <td>8</td>\n",
       "      <td>2</td>\n",
       "      <td>CA. 2343</td>\n",
       "      <td>69.5500</td>\n",
       "      <td>NaN</td>\n",
       "      <td>S</td>\n",
       "    </tr>\n",
       "    <tr>\n",
       "      <th>864</th>\n",
       "      <td>0</td>\n",
       "      <td>3</td>\n",
       "      <td>Sage, Miss. Dorothy Edith \"Dolly\"</td>\n",
       "      <td>female</td>\n",
       "      <td>NaN</td>\n",
       "      <td>8</td>\n",
       "      <td>2</td>\n",
       "      <td>CA. 2343</td>\n",
       "      <td>69.5500</td>\n",
       "      <td>NaN</td>\n",
       "      <td>S</td>\n",
       "    </tr>\n",
       "    <tr>\n",
       "      <th>889</th>\n",
       "      <td>0</td>\n",
       "      <td>3</td>\n",
       "      <td>Johnston, Miss. Catherine Helen \"Carrie\"</td>\n",
       "      <td>female</td>\n",
       "      <td>NaN</td>\n",
       "      <td>1</td>\n",
       "      <td>2</td>\n",
       "      <td>W./C. 6607</td>\n",
       "      <td>23.4500</td>\n",
       "      <td>NaN</td>\n",
       "      <td>S</td>\n",
       "    </tr>\n",
       "  </tbody>\n",
       "</table>\n",
       "</div>"
      ],
      "text/plain": [
       "             Survived  Pclass  \\\n",
       "PassengerId                     \n",
       "66                  1       3   \n",
       "129                 1       3   \n",
       "160                 0       3   \n",
       "177                 0       3   \n",
       "181                 0       3   \n",
       "202                 0       3   \n",
       "230                 0       3   \n",
       "325                 0       3   \n",
       "410                 0       3   \n",
       "486                 0       3   \n",
       "710                 1       3   \n",
       "784                 0       3   \n",
       "793                 0       3   \n",
       "847                 0       3   \n",
       "864                 0       3   \n",
       "889                 0       3   \n",
       "\n",
       "                                                          Name     Sex  Age  \\\n",
       "PassengerId                                                                   \n",
       "66                                    Moubarek, Master. Gerios    male  NaN   \n",
       "129                                          Peter, Miss. Anna  female  NaN   \n",
       "160                                 Sage, Master. Thomas Henry    male  NaN   \n",
       "177                              Lefebre, Master. Henry Forbes    male  NaN   \n",
       "181                               Sage, Miss. Constance Gladys  female  NaN   \n",
       "202                                        Sage, Mr. Frederick    male  NaN   \n",
       "230                                    Lefebre, Miss. Mathilde  female  NaN   \n",
       "325                                   Sage, Mr. George John Jr    male  NaN   \n",
       "410                                         Lefebre, Miss. Ida  female  NaN   \n",
       "486                                     Lefebre, Miss. Jeannie  female  NaN   \n",
       "710          Moubarek, Master. Halim Gonios (\"William George\")    male  NaN   \n",
       "784                                     Johnston, Mr. Andrew G    male  NaN   \n",
       "793                                    Sage, Miss. Stella Anna  female  NaN   \n",
       "847                                   Sage, Mr. Douglas Bullen    male  NaN   \n",
       "864                          Sage, Miss. Dorothy Edith \"Dolly\"  female  NaN   \n",
       "889                   Johnston, Miss. Catherine Helen \"Carrie\"  female  NaN   \n",
       "\n",
       "             SibSp  Parch      Ticket     Fare  Cabin Embarked  \n",
       "PassengerId                                                     \n",
       "66               1      1        2661  15.2458    NaN        C  \n",
       "129              1      1        2668  22.3583  F E69        C  \n",
       "160              8      2    CA. 2343  69.5500    NaN        S  \n",
       "177              3      1        4133  25.4667    NaN        S  \n",
       "181              8      2    CA. 2343  69.5500    NaN        S  \n",
       "202              8      2    CA. 2343  69.5500    NaN        S  \n",
       "230              3      1        4133  25.4667    NaN        S  \n",
       "325              8      2    CA. 2343  69.5500    NaN        S  \n",
       "410              3      1        4133  25.4667    NaN        S  \n",
       "486              3      1        4133  25.4667    NaN        S  \n",
       "710              1      1        2661  15.2458    NaN        C  \n",
       "784              1      2  W./C. 6607  23.4500    NaN        S  \n",
       "793              8      2    CA. 2343  69.5500    NaN        S  \n",
       "847              8      2    CA. 2343  69.5500    NaN        S  \n",
       "864              8      2    CA. 2343  69.5500    NaN        S  \n",
       "889              1      2  W./C. 6607  23.4500    NaN        S  "
      ]
     },
     "execution_count": 74,
     "metadata": {},
     "output_type": "execute_result"
    }
   ],
   "source": [
    "rest"
   ]
  },
  {
   "cell_type": "code",
   "execution_count": 75,
   "id": "c647f430",
   "metadata": {
    "execution": {
     "iopub.execute_input": "2022-10-27T16:57:34.380023Z",
     "iopub.status.busy": "2022-10-27T16:57:34.378931Z",
     "iopub.status.idle": "2022-10-27T16:57:34.385934Z",
     "shell.execute_reply": "2022-10-27T16:57:34.384940Z"
    },
    "papermill": {
     "duration": 0.058783,
     "end_time": "2022-10-27T16:57:34.388260",
     "exception": false,
     "start_time": "2022-10-27T16:57:34.329477",
     "status": "completed"
    },
    "tags": []
   },
   "outputs": [],
   "source": [
    "have_fam =train_data[(train_data[\"SibSp\"]!=0) &(train_data[\"Parch\"]!=0)  & (train_data[\"Age\"].notna())]"
   ]
  },
  {
   "cell_type": "code",
   "execution_count": 76,
   "id": "540f2732",
   "metadata": {
    "execution": {
     "iopub.execute_input": "2022-10-27T16:57:34.486502Z",
     "iopub.status.busy": "2022-10-27T16:57:34.485369Z",
     "iopub.status.idle": "2022-10-27T16:57:34.506619Z",
     "shell.execute_reply": "2022-10-27T16:57:34.505218Z"
    },
    "papermill": {
     "duration": 0.072158,
     "end_time": "2022-10-27T16:57:34.509006",
     "exception": false,
     "start_time": "2022-10-27T16:57:34.436848",
     "status": "completed"
    },
    "tags": []
   },
   "outputs": [
    {
     "data": {
      "text/html": [
       "<div>\n",
       "<style scoped>\n",
       "    .dataframe tbody tr th:only-of-type {\n",
       "        vertical-align: middle;\n",
       "    }\n",
       "\n",
       "    .dataframe tbody tr th {\n",
       "        vertical-align: top;\n",
       "    }\n",
       "\n",
       "    .dataframe thead th {\n",
       "        text-align: right;\n",
       "    }\n",
       "</style>\n",
       "<table border=\"1\" class=\"dataframe\">\n",
       "  <thead>\n",
       "    <tr style=\"text-align: right;\">\n",
       "      <th></th>\n",
       "      <th>Survived</th>\n",
       "      <th>Pclass</th>\n",
       "      <th>Name</th>\n",
       "      <th>Sex</th>\n",
       "      <th>Age</th>\n",
       "      <th>SibSp</th>\n",
       "      <th>Parch</th>\n",
       "      <th>Ticket</th>\n",
       "      <th>Fare</th>\n",
       "      <th>Cabin</th>\n",
       "      <th>Embarked</th>\n",
       "    </tr>\n",
       "    <tr>\n",
       "      <th>PassengerId</th>\n",
       "      <th></th>\n",
       "      <th></th>\n",
       "      <th></th>\n",
       "      <th></th>\n",
       "      <th></th>\n",
       "      <th></th>\n",
       "      <th></th>\n",
       "      <th></th>\n",
       "      <th></th>\n",
       "      <th></th>\n",
       "      <th></th>\n",
       "    </tr>\n",
       "  </thead>\n",
       "  <tbody>\n",
       "    <tr>\n",
       "      <th>8</th>\n",
       "      <td>0</td>\n",
       "      <td>3</td>\n",
       "      <td>Palsson, Master. Gosta Leonard</td>\n",
       "      <td>male</td>\n",
       "      <td>2.0</td>\n",
       "      <td>3</td>\n",
       "      <td>1</td>\n",
       "      <td>349909</td>\n",
       "      <td>21.0750</td>\n",
       "      <td>NaN</td>\n",
       "      <td>S</td>\n",
       "    </tr>\n",
       "    <tr>\n",
       "      <th>11</th>\n",
       "      <td>1</td>\n",
       "      <td>3</td>\n",
       "      <td>Sandstrom, Miss. Marguerite Rut</td>\n",
       "      <td>female</td>\n",
       "      <td>4.0</td>\n",
       "      <td>1</td>\n",
       "      <td>1</td>\n",
       "      <td>PP 9549</td>\n",
       "      <td>16.7000</td>\n",
       "      <td>G6</td>\n",
       "      <td>S</td>\n",
       "    </tr>\n",
       "    <tr>\n",
       "      <th>14</th>\n",
       "      <td>0</td>\n",
       "      <td>3</td>\n",
       "      <td>Andersson, Mr. Anders Johan</td>\n",
       "      <td>male</td>\n",
       "      <td>39.0</td>\n",
       "      <td>1</td>\n",
       "      <td>5</td>\n",
       "      <td>347082</td>\n",
       "      <td>31.2750</td>\n",
       "      <td>NaN</td>\n",
       "      <td>S</td>\n",
       "    </tr>\n",
       "    <tr>\n",
       "      <th>17</th>\n",
       "      <td>0</td>\n",
       "      <td>3</td>\n",
       "      <td>Rice, Master. Eugene</td>\n",
       "      <td>male</td>\n",
       "      <td>2.0</td>\n",
       "      <td>4</td>\n",
       "      <td>1</td>\n",
       "      <td>382652</td>\n",
       "      <td>29.1250</td>\n",
       "      <td>NaN</td>\n",
       "      <td>Q</td>\n",
       "    </tr>\n",
       "    <tr>\n",
       "      <th>25</th>\n",
       "      <td>0</td>\n",
       "      <td>3</td>\n",
       "      <td>Palsson, Miss. Torborg Danira</td>\n",
       "      <td>female</td>\n",
       "      <td>8.0</td>\n",
       "      <td>3</td>\n",
       "      <td>1</td>\n",
       "      <td>349909</td>\n",
       "      <td>21.0750</td>\n",
       "      <td>NaN</td>\n",
       "      <td>S</td>\n",
       "    </tr>\n",
       "    <tr>\n",
       "      <th>...</th>\n",
       "      <td>...</td>\n",
       "      <td>...</td>\n",
       "      <td>...</td>\n",
       "      <td>...</td>\n",
       "      <td>...</td>\n",
       "      <td>...</td>\n",
       "      <td>...</td>\n",
       "      <td>...</td>\n",
       "      <td>...</td>\n",
       "      <td>...</td>\n",
       "      <td>...</td>\n",
       "    </tr>\n",
       "    <tr>\n",
       "      <th>851</th>\n",
       "      <td>0</td>\n",
       "      <td>3</td>\n",
       "      <td>Andersson, Master. Sigvard Harald Elias</td>\n",
       "      <td>male</td>\n",
       "      <td>4.0</td>\n",
       "      <td>4</td>\n",
       "      <td>2</td>\n",
       "      <td>347082</td>\n",
       "      <td>31.2750</td>\n",
       "      <td>NaN</td>\n",
       "      <td>S</td>\n",
       "    </tr>\n",
       "    <tr>\n",
       "      <th>853</th>\n",
       "      <td>0</td>\n",
       "      <td>3</td>\n",
       "      <td>Boulos, Miss. Nourelain</td>\n",
       "      <td>female</td>\n",
       "      <td>9.0</td>\n",
       "      <td>1</td>\n",
       "      <td>1</td>\n",
       "      <td>2678</td>\n",
       "      <td>15.2458</td>\n",
       "      <td>NaN</td>\n",
       "      <td>C</td>\n",
       "    </tr>\n",
       "    <tr>\n",
       "      <th>857</th>\n",
       "      <td>1</td>\n",
       "      <td>1</td>\n",
       "      <td>Wick, Mrs. George Dennick (Mary Hitchcock)</td>\n",
       "      <td>female</td>\n",
       "      <td>45.0</td>\n",
       "      <td>1</td>\n",
       "      <td>1</td>\n",
       "      <td>36928</td>\n",
       "      <td>164.8667</td>\n",
       "      <td>NaN</td>\n",
       "      <td>S</td>\n",
       "    </tr>\n",
       "    <tr>\n",
       "      <th>870</th>\n",
       "      <td>1</td>\n",
       "      <td>3</td>\n",
       "      <td>Johnson, Master. Harold Theodor</td>\n",
       "      <td>male</td>\n",
       "      <td>4.0</td>\n",
       "      <td>1</td>\n",
       "      <td>1</td>\n",
       "      <td>347742</td>\n",
       "      <td>11.1333</td>\n",
       "      <td>NaN</td>\n",
       "      <td>S</td>\n",
       "    </tr>\n",
       "    <tr>\n",
       "      <th>872</th>\n",
       "      <td>1</td>\n",
       "      <td>1</td>\n",
       "      <td>Beckwith, Mrs. Richard Leonard (Sallie Monypeny)</td>\n",
       "      <td>female</td>\n",
       "      <td>47.0</td>\n",
       "      <td>1</td>\n",
       "      <td>1</td>\n",
       "      <td>11751</td>\n",
       "      <td>52.5542</td>\n",
       "      <td>D35</td>\n",
       "      <td>S</td>\n",
       "    </tr>\n",
       "  </tbody>\n",
       "</table>\n",
       "<p>126 rows × 11 columns</p>\n",
       "</div>"
      ],
      "text/plain": [
       "             Survived  Pclass  \\\n",
       "PassengerId                     \n",
       "8                   0       3   \n",
       "11                  1       3   \n",
       "14                  0       3   \n",
       "17                  0       3   \n",
       "25                  0       3   \n",
       "...               ...     ...   \n",
       "851                 0       3   \n",
       "853                 0       3   \n",
       "857                 1       1   \n",
       "870                 1       3   \n",
       "872                 1       1   \n",
       "\n",
       "                                                         Name     Sex   Age  \\\n",
       "PassengerId                                                                   \n",
       "8                              Palsson, Master. Gosta Leonard    male   2.0   \n",
       "11                            Sandstrom, Miss. Marguerite Rut  female   4.0   \n",
       "14                                Andersson, Mr. Anders Johan    male  39.0   \n",
       "17                                       Rice, Master. Eugene    male   2.0   \n",
       "25                              Palsson, Miss. Torborg Danira  female   8.0   \n",
       "...                                                       ...     ...   ...   \n",
       "851                   Andersson, Master. Sigvard Harald Elias    male   4.0   \n",
       "853                                   Boulos, Miss. Nourelain  female   9.0   \n",
       "857                Wick, Mrs. George Dennick (Mary Hitchcock)  female  45.0   \n",
       "870                           Johnson, Master. Harold Theodor    male   4.0   \n",
       "872          Beckwith, Mrs. Richard Leonard (Sallie Monypeny)  female  47.0   \n",
       "\n",
       "             SibSp  Parch   Ticket      Fare Cabin Embarked  \n",
       "PassengerId                                                  \n",
       "8                3      1   349909   21.0750   NaN        S  \n",
       "11               1      1  PP 9549   16.7000    G6        S  \n",
       "14               1      5   347082   31.2750   NaN        S  \n",
       "17               4      1   382652   29.1250   NaN        Q  \n",
       "25               3      1   349909   21.0750   NaN        S  \n",
       "...            ...    ...      ...       ...   ...      ...  \n",
       "851              4      2   347082   31.2750   NaN        S  \n",
       "853              1      1     2678   15.2458   NaN        C  \n",
       "857              1      1    36928  164.8667   NaN        S  \n",
       "870              1      1   347742   11.1333   NaN        S  \n",
       "872              1      1    11751   52.5542   D35        S  \n",
       "\n",
       "[126 rows x 11 columns]"
      ]
     },
     "execution_count": 76,
     "metadata": {},
     "output_type": "execute_result"
    }
   ],
   "source": [
    "have_fam"
   ]
  },
  {
   "cell_type": "code",
   "execution_count": 77,
   "id": "ded2429b",
   "metadata": {
    "execution": {
     "iopub.execute_input": "2022-10-27T16:57:34.608735Z",
     "iopub.status.busy": "2022-10-27T16:57:34.608384Z",
     "iopub.status.idle": "2022-10-27T16:57:35.022503Z",
     "shell.execute_reply": "2022-10-27T16:57:35.021055Z"
    },
    "papermill": {
     "duration": 0.466823,
     "end_time": "2022-10-27T16:57:35.024802",
     "exception": false,
     "start_time": "2022-10-27T16:57:34.557979",
     "status": "completed"
    },
    "tags": []
   },
   "outputs": [
    {
     "data": {
      "text/plain": [
       "<AxesSubplot:xlabel='Age', ylabel='Count'>"
      ]
     },
     "execution_count": 77,
     "metadata": {},
     "output_type": "execute_result"
    },
    {
     "data": {
      "image/png": "[encoded data removed]",
      "text/plain": [
       "<Figure size 432x288 with 1 Axes>"
      ]
     },
     "metadata": {
      "needs_background": "light"
     },
     "output_type": "display_data"
    }
   ],
   "source": [
    "sns.histplot(data = have_fam , x = have_fam[\"Age\"],hue=\"Sex\",bins=30)"
   ]
  },
  {
   "cell_type": "code",
   "execution_count": 78,
   "id": "36bb246d",
   "metadata": {
    "execution": {
     "iopub.execute_input": "2022-10-27T16:57:35.124749Z",
     "iopub.status.busy": "2022-10-27T16:57:35.124398Z",
     "iopub.status.idle": "2022-10-27T16:57:35.134756Z",
     "shell.execute_reply": "2022-10-27T16:57:35.133389Z"
    },
    "papermill": {
     "duration": 0.062669,
     "end_time": "2022-10-27T16:57:35.137235",
     "exception": false,
     "start_time": "2022-10-27T16:57:35.074566",
     "status": "completed"
    },
    "tags": []
   },
   "outputs": [
    {
     "name": "stderr",
     "output_type": "stream",
     "text": [
      "/opt/conda/lib/python3.7/site-packages/ipykernel_launcher.py:1: FutureWarning: Dropping of nuisance columns in DataFrame reductions (with 'numeric_only=None') is deprecated; in a future version this will raise TypeError.  Select only valid columns before calling the reduction.\n",
      "  \"\"\"Entry point for launching an IPython kernel.\n"
     ]
    },
    {
     "data": {
      "text/plain": [
       "Survived     0.468254\n",
       "Pclass       2.333333\n",
       "Age         21.181905\n",
       "SibSp        1.841270\n",
       "Parch        1.603175\n",
       "Fare        51.144610\n",
       "dtype: float64"
      ]
     },
     "execution_count": 78,
     "metadata": {},
     "output_type": "execute_result"
    }
   ],
   "source": [
    "have_fam.mean()"
   ]
  },
  {
   "cell_type": "code",
   "execution_count": 79,
   "id": "59a13aa0",
   "metadata": {
    "execution": {
     "iopub.execute_input": "2022-10-27T16:57:35.236994Z",
     "iopub.status.busy": "2022-10-27T16:57:35.236010Z",
     "iopub.status.idle": "2022-10-27T16:57:35.242972Z",
     "shell.execute_reply": "2022-10-27T16:57:35.241897Z"
    },
    "papermill": {
     "duration": 0.058958,
     "end_time": "2022-10-27T16:57:35.245231",
     "exception": false,
     "start_time": "2022-10-27T16:57:35.186273",
     "status": "completed"
    },
    "tags": []
   },
   "outputs": [],
   "source": [
    "ids6 =train_data[(train_data[\"SibSp\"]!=0) &(train_data[\"Parch\"]!=0)  & (train_data[\"Age\"].isna())].index"
   ]
  },
  {
   "cell_type": "code",
   "execution_count": 80,
   "id": "0c8a7a25",
   "metadata": {
    "execution": {
     "iopub.execute_input": "2022-10-27T16:57:35.346108Z",
     "iopub.status.busy": "2022-10-27T16:57:35.344620Z",
     "iopub.status.idle": "2022-10-27T16:57:35.353439Z",
     "shell.execute_reply": "2022-10-27T16:57:35.351981Z"
    },
    "papermill": {
     "duration": 0.06127,
     "end_time": "2022-10-27T16:57:35.355521",
     "exception": false,
     "start_time": "2022-10-27T16:57:35.294251",
     "status": "completed"
    },
    "tags": []
   },
   "outputs": [
    {
     "name": "stderr",
     "output_type": "stream",
     "text": [
      "/opt/conda/lib/python3.7/site-packages/pandas/core/indexing.py:1732: SettingWithCopyWarning: \n",
      "A value is trying to be set on a copy of a slice from a DataFrame\n",
      "\n",
      "See the caveats in the documentation: https://pandas.pydata.org/pandas-docs/stable/user_guide/indexing.html#returning-a-view-versus-a-copy\n",
      "  self._setitem_single_block(indexer, value, name)\n"
     ]
    }
   ],
   "source": [
    "train_data[\"Age\"].loc[ids6]=train_data.loc[ids6][\"Age\"].replace(np.nan,5)"
   ]
  },
  {
   "cell_type": "code",
   "execution_count": 81,
   "id": "cca5d952",
   "metadata": {
    "execution": {
     "iopub.execute_input": "2022-10-27T16:57:35.454656Z",
     "iopub.status.busy": "2022-10-27T16:57:35.454269Z",
     "iopub.status.idle": "2022-10-27T16:57:35.469616Z",
     "shell.execute_reply": "2022-10-27T16:57:35.468078Z"
    },
    "papermill": {
     "duration": 0.067929,
     "end_time": "2022-10-27T16:57:35.472077",
     "exception": false,
     "start_time": "2022-10-27T16:57:35.404148",
     "status": "completed"
    },
    "tags": []
   },
   "outputs": [
    {
     "name": "stdout",
     "output_type": "stream",
     "text": [
      "<class 'pandas.core.frame.DataFrame'>\n",
      "Int64Index: 891 entries, 1 to 891\n",
      "Data columns (total 11 columns):\n",
      " #   Column    Non-Null Count  Dtype  \n",
      "---  ------    --------------  -----  \n",
      " 0   Survived  891 non-null    int64  \n",
      " 1   Pclass    891 non-null    int64  \n",
      " 2   Name      891 non-null    object \n",
      " 3   Sex       891 non-null    object \n",
      " 4   Age       891 non-null    float64\n",
      " 5   SibSp     891 non-null    int64  \n",
      " 6   Parch     891 non-null    int64  \n",
      " 7   Ticket    891 non-null    object \n",
      " 8   Fare      891 non-null    float64\n",
      " 9   Cabin     204 non-null    object \n",
      " 10  Embarked  889 non-null    object \n",
      "dtypes: float64(2), int64(4), object(5)\n",
      "memory usage: 115.8+ KB\n"
     ]
    }
   ],
   "source": [
    "train_data.info()"
   ]
  },
  {
   "cell_type": "code",
   "execution_count": 82,
   "id": "67da5082",
   "metadata": {
    "execution": {
     "iopub.execute_input": "2022-10-27T16:57:35.574274Z",
     "iopub.status.busy": "2022-10-27T16:57:35.573893Z",
     "iopub.status.idle": "2022-10-27T16:57:35.580189Z",
     "shell.execute_reply": "2022-10-27T16:57:35.578552Z"
    },
    "papermill": {
     "duration": 0.060282,
     "end_time": "2022-10-27T16:57:35.582847",
     "exception": false,
     "start_time": "2022-10-27T16:57:35.522565",
     "status": "completed"
    },
    "tags": []
   },
   "outputs": [],
   "source": [
    "train_data =train_data.drop(\"Cabin\",axis=1)"
   ]
  },
  {
   "cell_type": "code",
   "execution_count": 83,
   "id": "8a768ee3",
   "metadata": {
    "execution": {
     "iopub.execute_input": "2022-10-27T16:57:35.686960Z",
     "iopub.status.busy": "2022-10-27T16:57:35.686592Z",
     "iopub.status.idle": "2022-10-27T16:57:35.694289Z",
     "shell.execute_reply": "2022-10-27T16:57:35.693058Z"
    },
    "papermill": {
     "duration": 0.06249,
     "end_time": "2022-10-27T16:57:35.696203",
     "exception": false,
     "start_time": "2022-10-27T16:57:35.633713",
     "status": "completed"
    },
    "tags": []
   },
   "outputs": [
    {
     "data": {
      "text/plain": [
       "Int64Index([62, 830], dtype='int64', name='PassengerId')"
      ]
     },
     "execution_count": 83,
     "metadata": {},
     "output_type": "execute_result"
    }
   ],
   "source": [
    "train_data[train_data[\"Embarked\"].isna()].index"
   ]
  },
  {
   "cell_type": "code",
   "execution_count": 84,
   "id": "78291015",
   "metadata": {
    "execution": {
     "iopub.execute_input": "2022-10-27T16:57:35.798143Z",
     "iopub.status.busy": "2022-10-27T16:57:35.797751Z",
     "iopub.status.idle": "2022-10-27T16:57:35.803577Z",
     "shell.execute_reply": "2022-10-27T16:57:35.802633Z"
    },
    "papermill": {
     "duration": 0.059194,
     "end_time": "2022-10-27T16:57:35.805982",
     "exception": false,
     "start_time": "2022-10-27T16:57:35.746788",
     "status": "completed"
    },
    "tags": []
   },
   "outputs": [],
   "source": [
    "train_data=train_data.drop(index = [62,830],axis=0)"
   ]
  },
  {
   "cell_type": "code",
   "execution_count": null,
   "id": "66e759ea",
   "metadata": {
    "papermill": {
     "duration": 0.048597,
     "end_time": "2022-10-27T16:57:35.906727",
     "exception": false,
     "start_time": "2022-10-27T16:57:35.858130",
     "status": "completed"
    },
    "tags": []
   },
   "outputs": [],
   "source": []
  },
  {
   "cell_type": "code",
   "execution_count": 85,
   "id": "6abcb091",
   "metadata": {
    "execution": {
     "iopub.execute_input": "2022-10-27T16:57:36.007875Z",
     "iopub.status.busy": "2022-10-27T16:57:36.007487Z",
     "iopub.status.idle": "2022-10-27T16:57:36.013249Z",
     "shell.execute_reply": "2022-10-27T16:57:36.012400Z"
    },
    "papermill": {
     "duration": 0.058817,
     "end_time": "2022-10-27T16:57:36.014985",
     "exception": false,
     "start_time": "2022-10-27T16:57:35.956168",
     "status": "completed"
    },
    "tags": []
   },
   "outputs": [],
   "source": [
    "train_data =train_data.drop(\"Name\",axis=1)"
   ]
  },
  {
   "cell_type": "code",
   "execution_count": 86,
   "id": "15d52434",
   "metadata": {
    "execution": {
     "iopub.execute_input": "2022-10-27T16:57:36.116126Z",
     "iopub.status.busy": "2022-10-27T16:57:36.115779Z",
     "iopub.status.idle": "2022-10-27T16:57:36.122715Z",
     "shell.execute_reply": "2022-10-27T16:57:36.121415Z"
    },
    "papermill": {
     "duration": 0.060557,
     "end_time": "2022-10-27T16:57:36.125429",
     "exception": false,
     "start_time": "2022-10-27T16:57:36.064872",
     "status": "completed"
    },
    "tags": []
   },
   "outputs": [],
   "source": [
    "train_data =train_data.drop(\"Ticket\",axis=1)"
   ]
  },
  {
   "cell_type": "code",
   "execution_count": 87,
   "id": "d79995ba",
   "metadata": {
    "execution": {
     "iopub.execute_input": "2022-10-27T16:57:36.229156Z",
     "iopub.status.busy": "2022-10-27T16:57:36.228781Z",
     "iopub.status.idle": "2022-10-27T16:57:36.241181Z",
     "shell.execute_reply": "2022-10-27T16:57:36.240113Z"
    },
    "papermill": {
     "duration": 0.066417,
     "end_time": "2022-10-27T16:57:36.243648",
     "exception": false,
     "start_time": "2022-10-27T16:57:36.177231",
     "status": "completed"
    },
    "tags": []
   },
   "outputs": [
    {
     "name": "stdout",
     "output_type": "stream",
     "text": [
      "<class 'pandas.core.frame.DataFrame'>\n",
      "Int64Index: 889 entries, 1 to 891\n",
      "Data columns (total 8 columns):\n",
      " #   Column    Non-Null Count  Dtype  \n",
      "---  ------    --------------  -----  \n",
      " 0   Survived  889 non-null    int64  \n",
      " 1   Pclass    889 non-null    int64  \n",
      " 2   Sex       889 non-null    object \n",
      " 3   Age       889 non-null    float64\n",
      " 4   SibSp     889 non-null    int64  \n",
      " 5   Parch     889 non-null    int64  \n",
      " 6   Fare      889 non-null    float64\n",
      " 7   Embarked  889 non-null    object \n",
      "dtypes: float64(2), int64(4), object(2)\n",
      "memory usage: 62.5+ KB\n"
     ]
    }
   ],
   "source": [
    "train_data.info()"
   ]
  },
  {
   "cell_type": "code",
   "execution_count": 88,
   "id": "053c765c",
   "metadata": {
    "execution": {
     "iopub.execute_input": "2022-10-27T16:57:36.344405Z",
     "iopub.status.busy": "2022-10-27T16:57:36.344023Z",
     "iopub.status.idle": "2022-10-27T16:57:36.347835Z",
     "shell.execute_reply": "2022-10-27T16:57:36.346904Z"
    },
    "papermill": {
     "duration": 0.056383,
     "end_time": "2022-10-27T16:57:36.349555",
     "exception": false,
     "start_time": "2022-10-27T16:57:36.293172",
     "status": "completed"
    },
    "tags": []
   },
   "outputs": [],
   "source": [
    "#train_data[\"Embarked\"].unique()"
   ]
  },
  {
   "cell_type": "code",
   "execution_count": 89,
   "id": "2fbd6acd",
   "metadata": {
    "execution": {
     "iopub.execute_input": "2022-10-27T16:57:36.453146Z",
     "iopub.status.busy": "2022-10-27T16:57:36.452745Z",
     "iopub.status.idle": "2022-10-27T16:57:36.463322Z",
     "shell.execute_reply": "2022-10-27T16:57:36.462078Z"
    },
    "papermill": {
     "duration": 0.065839,
     "end_time": "2022-10-27T16:57:36.465828",
     "exception": false,
     "start_time": "2022-10-27T16:57:36.399989",
     "status": "completed"
    },
    "tags": []
   },
   "outputs": [],
   "source": [
    "train_data=pd.get_dummies(train_data,columns=[\"Embarked\",\"Sex\"],drop_first=True)"
   ]
  },
  {
   "cell_type": "markdown",
   "id": "b04e410b",
   "metadata": {
    "papermill": {
     "duration": 0.049327,
     "end_time": "2022-10-27T16:57:36.564537",
     "exception": false,
     "start_time": "2022-10-27T16:57:36.515210",
     "status": "completed"
    },
    "tags": []
   },
   "source": [
    "# models\n"
   ]
  },
  {
   "cell_type": "code",
   "execution_count": 90,
   "id": "14cfeed2",
   "metadata": {
    "execution": {
     "iopub.execute_input": "2022-10-27T16:57:36.664701Z",
     "iopub.status.busy": "2022-10-27T16:57:36.664334Z",
     "iopub.status.idle": "2022-10-27T16:57:36.670751Z",
     "shell.execute_reply": "2022-10-27T16:57:36.669511Z"
    },
    "papermill": {
     "duration": 0.059285,
     "end_time": "2022-10-27T16:57:36.672751",
     "exception": false,
     "start_time": "2022-10-27T16:57:36.613466",
     "status": "completed"
    },
    "tags": []
   },
   "outputs": [
    {
     "data": {
      "text/plain": [
       "Index(['Survived', 'Pclass', 'Age', 'SibSp', 'Parch', 'Fare', 'Embarked_Q',\n",
       "       'Embarked_S', 'Sex_male'],\n",
       "      dtype='object')"
      ]
     },
     "execution_count": 90,
     "metadata": {},
     "output_type": "execute_result"
    }
   ],
   "source": [
    "train_data.columns"
   ]
  },
  {
   "cell_type": "code",
   "execution_count": 91,
   "id": "6a4bccd6",
   "metadata": {
    "execution": {
     "iopub.execute_input": "2022-10-27T16:57:36.775063Z",
     "iopub.status.busy": "2022-10-27T16:57:36.774723Z",
     "iopub.status.idle": "2022-10-27T16:57:36.779606Z",
     "shell.execute_reply": "2022-10-27T16:57:36.778918Z"
    },
    "papermill": {
     "duration": 0.057832,
     "end_time": "2022-10-27T16:57:36.781121",
     "exception": false,
     "start_time": "2022-10-27T16:57:36.723289",
     "status": "completed"
    },
    "tags": []
   },
   "outputs": [],
   "source": [
    "X = train_data.drop(\"Survived\",axis=1)"
   ]
  },
  {
   "cell_type": "code",
   "execution_count": 92,
   "id": "ef1027f0",
   "metadata": {
    "execution": {
     "iopub.execute_input": "2022-10-27T16:57:36.881714Z",
     "iopub.status.busy": "2022-10-27T16:57:36.881054Z",
     "iopub.status.idle": "2022-10-27T16:57:36.886438Z",
     "shell.execute_reply": "2022-10-27T16:57:36.885257Z"
    },
    "papermill": {
     "duration": 0.058346,
     "end_time": "2022-10-27T16:57:36.888894",
     "exception": false,
     "start_time": "2022-10-27T16:57:36.830548",
     "status": "completed"
    },
    "tags": []
   },
   "outputs": [],
   "source": [
    "y= train_data[\"Survived\"]"
   ]
  },
  {
   "cell_type": "code",
   "execution_count": 93,
   "id": "92a92f15",
   "metadata": {
    "execution": {
     "iopub.execute_input": "2022-10-27T16:57:36.990989Z",
     "iopub.status.busy": "2022-10-27T16:57:36.990578Z",
     "iopub.status.idle": "2022-10-27T16:57:37.134568Z",
     "shell.execute_reply": "2022-10-27T16:57:37.133810Z"
    },
    "papermill": {
     "duration": 0.197422,
     "end_time": "2022-10-27T16:57:37.136503",
     "exception": false,
     "start_time": "2022-10-27T16:57:36.939081",
     "status": "completed"
    },
    "tags": []
   },
   "outputs": [
    {
     "data": {
      "text/plain": [
       "<AxesSubplot:xlabel='Survived', ylabel='count'>"
      ]
     },
     "execution_count": 93,
     "metadata": {},
     "output_type": "execute_result"
    },
    {
     "data": {
      "image/png": "[encoded data removed]",
      "text/plain": [
       "<Figure size 432x288 with 1 Axes>"
      ]
     },
     "metadata": {
      "needs_background": "light"
     },
     "output_type": "display_data"
    }
   ],
   "source": [
    "sns.countplot(data = train_data ,x=train_data[\"Survived\"],hue = train_data[\"Sex_male\"])"
   ]
  },
  {
   "cell_type": "code",
   "execution_count": 94,
   "id": "e5c49511",
   "metadata": {
    "execution": {
     "iopub.execute_input": "2022-10-27T16:57:37.240055Z",
     "iopub.status.busy": "2022-10-27T16:57:37.239657Z",
     "iopub.status.idle": "2022-10-27T16:57:37.409613Z",
     "shell.execute_reply": "2022-10-27T16:57:37.408127Z"
    },
    "papermill": {
     "duration": 0.222233,
     "end_time": "2022-10-27T16:57:37.412197",
     "exception": false,
     "start_time": "2022-10-27T16:57:37.189964",
     "status": "completed"
    },
    "tags": []
   },
   "outputs": [
    {
     "data": {
      "text/plain": [
       "<AxesSubplot:xlabel='Survived', ylabel='count'>"
      ]
     },
     "execution_count": 94,
     "metadata": {},
     "output_type": "execute_result"
    },
    {
     "data": {
      "image/png": "[encoded data removed]",
      "text/plain": [
       "<Figure size 432x288 with 1 Axes>"
      ]
     },
     "metadata": {
      "needs_background": "light"
     },
     "output_type": "display_data"
    }
   ],
   "source": [
    "sns.countplot(data = train_data ,x=train_data[\"Survived\"],hue = train_data[\"Pclass\"])"
   ]
  },
  {
   "cell_type": "code",
   "execution_count": 95,
   "id": "0653a54b",
   "metadata": {
    "execution": {
     "iopub.execute_input": "2022-10-27T16:57:37.514781Z",
     "iopub.status.busy": "2022-10-27T16:57:37.514385Z",
     "iopub.status.idle": "2022-10-27T16:57:37.698439Z",
     "shell.execute_reply": "2022-10-27T16:57:37.697128Z"
    },
    "papermill": {
     "duration": 0.238369,
     "end_time": "2022-10-27T16:57:37.700850",
     "exception": false,
     "start_time": "2022-10-27T16:57:37.462481",
     "status": "completed"
    },
    "tags": []
   },
   "outputs": [
    {
     "data": {
      "text/plain": [
       "<AxesSubplot:xlabel='Age', ylabel='Survived'>"
      ]
     },
     "execution_count": 95,
     "metadata": {},
     "output_type": "execute_result"
    },
    {
     "data": {
      "image/png": "[encoded data removed]",
      "text/plain": [
       "<Figure size 432x288 with 1 Axes>"
      ]
     },
     "metadata": {
      "needs_background": "light"
     },
     "output_type": "display_data"
    }
   ],
   "source": [
    "sns.scatterplot(data=train_data,y =train_data[\"Survived\"],x=\"Age\")"
   ]
  },
  {
   "cell_type": "code",
   "execution_count": 96,
   "id": "b962e87e",
   "metadata": {
    "execution": {
     "iopub.execute_input": "2022-10-27T16:57:37.805256Z",
     "iopub.status.busy": "2022-10-27T16:57:37.804857Z",
     "iopub.status.idle": "2022-10-27T16:57:37.809511Z",
     "shell.execute_reply": "2022-10-27T16:57:37.808539Z"
    },
    "papermill": {
     "duration": 0.058688,
     "end_time": "2022-10-27T16:57:37.811240",
     "exception": false,
     "start_time": "2022-10-27T16:57:37.752552",
     "status": "completed"
    },
    "tags": []
   },
   "outputs": [],
   "source": [
    "from sklearn.model_selection import train_test_split"
   ]
  },
  {
   "cell_type": "code",
   "execution_count": 97,
   "id": "d5b4f589",
   "metadata": {
    "execution": {
     "iopub.execute_input": "2022-10-27T16:57:37.914796Z",
     "iopub.status.busy": "2022-10-27T16:57:37.914179Z",
     "iopub.status.idle": "2022-10-27T16:57:37.920141Z",
     "shell.execute_reply": "2022-10-27T16:57:37.919531Z"
    },
    "papermill": {
     "duration": 0.060215,
     "end_time": "2022-10-27T16:57:37.921974",
     "exception": false,
     "start_time": "2022-10-27T16:57:37.861759",
     "status": "completed"
    },
    "tags": []
   },
   "outputs": [],
   "source": [
    "X_train, X_test, y_train, y_test = train_test_split( X, y, test_size=0.3, random_state=42)"
   ]
  },
  {
   "cell_type": "markdown",
   "id": "a5ece1bf",
   "metadata": {
    "papermill": {
     "duration": 0.052475,
     "end_time": "2022-10-27T16:57:38.025681",
     "exception": false,
     "start_time": "2022-10-27T16:57:37.973206",
     "status": "completed"
    },
    "tags": []
   },
   "source": [
    "# scale data"
   ]
  },
  {
   "cell_type": "code",
   "execution_count": 98,
   "id": "088ca863",
   "metadata": {
    "execution": {
     "iopub.execute_input": "2022-10-27T16:57:38.129433Z",
     "iopub.status.busy": "2022-10-27T16:57:38.128766Z",
     "iopub.status.idle": "2022-10-27T16:57:38.134055Z",
     "shell.execute_reply": "2022-10-27T16:57:38.133043Z"
    },
    "papermill": {
     "duration": 0.059971,
     "end_time": "2022-10-27T16:57:38.136253",
     "exception": false,
     "start_time": "2022-10-27T16:57:38.076282",
     "status": "completed"
    },
    "tags": []
   },
   "outputs": [],
   "source": [
    "from sklearn.preprocessing import StandardScaler"
   ]
  },
  {
   "cell_type": "code",
   "execution_count": 99,
   "id": "a7e856b9",
   "metadata": {
    "execution": {
     "iopub.execute_input": "2022-10-27T16:57:38.240461Z",
     "iopub.status.busy": "2022-10-27T16:57:38.239842Z",
     "iopub.status.idle": "2022-10-27T16:57:38.243853Z",
     "shell.execute_reply": "2022-10-27T16:57:38.243158Z"
    },
    "papermill": {
     "duration": 0.05816,
     "end_time": "2022-10-27T16:57:38.245757",
     "exception": false,
     "start_time": "2022-10-27T16:57:38.187597",
     "status": "completed"
    },
    "tags": []
   },
   "outputs": [],
   "source": [
    "scaler  = StandardScaler()"
   ]
  },
  {
   "cell_type": "code",
   "execution_count": 100,
   "id": "1042888a",
   "metadata": {
    "execution": {
     "iopub.execute_input": "2022-10-27T16:57:38.349470Z",
     "iopub.status.busy": "2022-10-27T16:57:38.348816Z",
     "iopub.status.idle": "2022-10-27T16:57:38.356806Z",
     "shell.execute_reply": "2022-10-27T16:57:38.355635Z"
    },
    "papermill": {
     "duration": 0.062648,
     "end_time": "2022-10-27T16:57:38.359095",
     "exception": false,
     "start_time": "2022-10-27T16:57:38.296447",
     "status": "completed"
    },
    "tags": []
   },
   "outputs": [],
   "source": [
    "X_train_scaled =scaler.fit_transform(X_train)"
   ]
  },
  {
   "cell_type": "code",
   "execution_count": 101,
   "id": "317f166e",
   "metadata": {
    "execution": {
     "iopub.execute_input": "2022-10-27T16:57:38.462917Z",
     "iopub.status.busy": "2022-10-27T16:57:38.462234Z",
     "iopub.status.idle": "2022-10-27T16:57:38.468871Z",
     "shell.execute_reply": "2022-10-27T16:57:38.467803Z"
    },
    "papermill": {
     "duration": 0.061033,
     "end_time": "2022-10-27T16:57:38.471220",
     "exception": false,
     "start_time": "2022-10-27T16:57:38.410187",
     "status": "completed"
    },
    "tags": []
   },
   "outputs": [],
   "source": [
    "X_test_scaled =scaler.transform(X_test) "
   ]
  },
  {
   "cell_type": "markdown",
   "id": "188eb6d1",
   "metadata": {
    "papermill": {
     "duration": 0.04996,
     "end_time": "2022-10-27T16:57:38.572098",
     "exception": false,
     "start_time": "2022-10-27T16:57:38.522138",
     "status": "completed"
    },
    "tags": []
   },
   "source": [
    "# method to quick check best model allgorithm"
   ]
  },
  {
   "cell_type": "code",
   "execution_count": 102,
   "id": "fb3e4805",
   "metadata": {
    "execution": {
     "iopub.execute_input": "2022-10-27T16:57:38.675267Z",
     "iopub.status.busy": "2022-10-27T16:57:38.674714Z",
     "iopub.status.idle": "2022-10-27T16:57:38.679387Z",
     "shell.execute_reply": "2022-10-27T16:57:38.678447Z"
    },
    "papermill": {
     "duration": 0.059294,
     "end_time": "2022-10-27T16:57:38.681607",
     "exception": false,
     "start_time": "2022-10-27T16:57:38.622313",
     "status": "completed"
    },
    "tags": []
   },
   "outputs": [],
   "source": [
    "from sklearn.metrics import mean_squared_error,mean_absolute_error"
   ]
  },
  {
   "cell_type": "code",
   "execution_count": 103,
   "id": "83d421ab",
   "metadata": {
    "execution": {
     "iopub.execute_input": "2022-10-27T16:57:38.786426Z",
     "iopub.status.busy": "2022-10-27T16:57:38.786048Z",
     "iopub.status.idle": "2022-10-27T16:57:38.791789Z",
     "shell.execute_reply": "2022-10-27T16:57:38.790493Z"
    },
    "papermill": {
     "duration": 0.059832,
     "end_time": "2022-10-27T16:57:38.793680",
     "exception": false,
     "start_time": "2022-10-27T16:57:38.733848",
     "status": "completed"
    },
    "tags": []
   },
   "outputs": [],
   "source": [
    "def run_model(model):\n",
    "    \n",
    "    # Fit Model\n",
    "    model.fit(X_train_scaled,y_train)\n",
    "    \n",
    "    # Get Metrics\n",
    "    \n",
    "    preds = model.predict(X_test_scaled)\n",
    "    mbr = mean_absolute_error(y_test,preds)\n",
    "    rmse = np.sqrt(mean_squared_error(y_test,preds))\n",
    "    print(f'ME : {mbr}')\n",
    "    print(f'RMSE : {rmse}')\n",
    "    \n",
    "  "
   ]
  },
  {
   "cell_type": "code",
   "execution_count": null,
   "id": "e0ae0c2a",
   "metadata": {
    "papermill": {
     "duration": 0.049837,
     "end_time": "2022-10-27T16:57:38.894403",
     "exception": false,
     "start_time": "2022-10-27T16:57:38.844566",
     "status": "completed"
    },
    "tags": []
   },
   "outputs": [],
   "source": []
  },
  {
   "cell_type": "markdown",
   "id": "3a6e222e",
   "metadata": {
    "papermill": {
     "duration": 0.050664,
     "end_time": "2022-10-27T16:57:38.995828",
     "exception": false,
     "start_time": "2022-10-27T16:57:38.945164",
     "status": "completed"
    },
    "tags": []
   },
   "source": [
    "# linear REG"
   ]
  },
  {
   "cell_type": "code",
   "execution_count": 104,
   "id": "d63a9ae0",
   "metadata": {
    "execution": {
     "iopub.execute_input": "2022-10-27T16:57:39.100129Z",
     "iopub.status.busy": "2022-10-27T16:57:39.099754Z",
     "iopub.status.idle": "2022-10-27T16:57:39.105699Z",
     "shell.execute_reply": "2022-10-27T16:57:39.104335Z"
    },
    "papermill": {
     "duration": 0.061336,
     "end_time": "2022-10-27T16:57:39.108202",
     "exception": false,
     "start_time": "2022-10-27T16:57:39.046866",
     "status": "completed"
    },
    "tags": []
   },
   "outputs": [],
   "source": [
    "from sklearn.linear_model import LinearRegression"
   ]
  },
  {
   "cell_type": "code",
   "execution_count": 105,
   "id": "a77a795c",
   "metadata": {
    "execution": {
     "iopub.execute_input": "2022-10-27T16:57:39.212235Z",
     "iopub.status.busy": "2022-10-27T16:57:39.211855Z",
     "iopub.status.idle": "2022-10-27T16:57:39.215494Z",
     "shell.execute_reply": "2022-10-27T16:57:39.214888Z"
    },
    "papermill": {
     "duration": 0.057234,
     "end_time": "2022-10-27T16:57:39.217106",
     "exception": false,
     "start_time": "2022-10-27T16:57:39.159872",
     "status": "completed"
    },
    "tags": []
   },
   "outputs": [],
   "source": [
    "LinearModel = LinearRegression()"
   ]
  },
  {
   "cell_type": "code",
   "execution_count": 106,
   "id": "eb1572af",
   "metadata": {
    "execution": {
     "iopub.execute_input": "2022-10-27T16:57:39.319115Z",
     "iopub.status.busy": "2022-10-27T16:57:39.318590Z",
     "iopub.status.idle": "2022-10-27T16:57:39.340949Z",
     "shell.execute_reply": "2022-10-27T16:57:39.339407Z"
    },
    "papermill": {
     "duration": 0.076646,
     "end_time": "2022-10-27T16:57:39.343838",
     "exception": false,
     "start_time": "2022-10-27T16:57:39.267192",
     "status": "completed"
    },
    "tags": []
   },
   "outputs": [
    {
     "name": "stdout",
     "output_type": "stream",
     "text": [
      "ME : 0.29333531815012476\n",
      "RMSE : 0.37829112487450434\n"
     ]
    }
   ],
   "source": [
    "run_model(LinearModel)"
   ]
  },
  {
   "cell_type": "markdown",
   "id": "34105b02",
   "metadata": {
    "papermill": {
     "duration": 0.051386,
     "end_time": "2022-10-27T16:57:39.446443",
     "exception": false,
     "start_time": "2022-10-27T16:57:39.395057",
     "status": "completed"
    },
    "tags": []
   },
   "source": [
    "# Poly Reg"
   ]
  },
  {
   "cell_type": "code",
   "execution_count": 107,
   "id": "eb1ce104",
   "metadata": {
    "execution": {
     "iopub.execute_input": "2022-10-27T16:57:39.552094Z",
     "iopub.status.busy": "2022-10-27T16:57:39.550901Z",
     "iopub.status.idle": "2022-10-27T16:57:39.555305Z",
     "shell.execute_reply": "2022-10-27T16:57:39.554695Z"
    },
    "papermill": {
     "duration": 0.060444,
     "end_time": "2022-10-27T16:57:39.557484",
     "exception": false,
     "start_time": "2022-10-27T16:57:39.497040",
     "status": "completed"
    },
    "tags": []
   },
   "outputs": [],
   "source": [
    "from sklearn.preprocessing import PolynomialFeatures"
   ]
  },
  {
   "cell_type": "code",
   "execution_count": 108,
   "id": "0e533385",
   "metadata": {
    "execution": {
     "iopub.execute_input": "2022-10-27T16:57:39.661892Z",
     "iopub.status.busy": "2022-10-27T16:57:39.661091Z",
     "iopub.status.idle": "2022-10-27T16:57:39.668238Z",
     "shell.execute_reply": "2022-10-27T16:57:39.666923Z"
    },
    "papermill": {
     "duration": 0.062313,
     "end_time": "2022-10-27T16:57:39.671095",
     "exception": false,
     "start_time": "2022-10-27T16:57:39.608782",
     "status": "completed"
    },
    "tags": []
   },
   "outputs": [],
   "source": [
    "from sklearn.pipeline import make_pipeline"
   ]
  },
  {
   "cell_type": "code",
   "execution_count": 109,
   "id": "b1a679dc",
   "metadata": {
    "execution": {
     "iopub.execute_input": "2022-10-27T16:57:39.776033Z",
     "iopub.status.busy": "2022-10-27T16:57:39.775674Z",
     "iopub.status.idle": "2022-10-27T16:57:39.780321Z",
     "shell.execute_reply": "2022-10-27T16:57:39.779290Z"
    },
    "papermill": {
     "duration": 0.059514,
     "end_time": "2022-10-27T16:57:39.782109",
     "exception": false,
     "start_time": "2022-10-27T16:57:39.722595",
     "status": "completed"
    },
    "tags": []
   },
   "outputs": [],
   "source": [
    "pipe = make_pipeline(PolynomialFeatures(2),LinearRegression())"
   ]
  },
  {
   "cell_type": "code",
   "execution_count": 110,
   "id": "b293d663",
   "metadata": {
    "execution": {
     "iopub.execute_input": "2022-10-27T16:57:39.885218Z",
     "iopub.status.busy": "2022-10-27T16:57:39.884882Z",
     "iopub.status.idle": "2022-10-27T16:57:39.903860Z",
     "shell.execute_reply": "2022-10-27T16:57:39.903106Z"
    },
    "papermill": {
     "duration": 0.080088,
     "end_time": "2022-10-27T16:57:39.912929",
     "exception": false,
     "start_time": "2022-10-27T16:57:39.832841",
     "status": "completed"
    },
    "tags": []
   },
   "outputs": [
    {
     "name": "stdout",
     "output_type": "stream",
     "text": [
      "ME : 0.29061112421728696\n",
      "RMSE : 0.39599620136684494\n"
     ]
    }
   ],
   "source": [
    "run_model(pipe)"
   ]
  },
  {
   "cell_type": "code",
   "execution_count": null,
   "id": "85e7fc6f",
   "metadata": {
    "papermill": {
     "duration": 0.050493,
     "end_time": "2022-10-27T16:57:40.138625",
     "exception": false,
     "start_time": "2022-10-27T16:57:40.088132",
     "status": "completed"
    },
    "tags": []
   },
   "outputs": [],
   "source": []
  },
  {
   "cell_type": "markdown",
   "id": "2eb365aa",
   "metadata": {
    "papermill": {
     "duration": 0.050547,
     "end_time": "2022-10-27T16:57:40.239318",
     "exception": false,
     "start_time": "2022-10-27T16:57:40.188771",
     "status": "completed"
    },
    "tags": []
   },
   "source": [
    "# KNN"
   ]
  },
  {
   "cell_type": "code",
   "execution_count": 111,
   "id": "59857295",
   "metadata": {
    "execution": {
     "iopub.execute_input": "2022-10-27T16:57:40.345676Z",
     "iopub.status.busy": "2022-10-27T16:57:40.345315Z",
     "iopub.status.idle": "2022-10-27T16:57:40.350447Z",
     "shell.execute_reply": "2022-10-27T16:57:40.348999Z"
    },
    "papermill": {
     "duration": 0.059024,
     "end_time": "2022-10-27T16:57:40.352427",
     "exception": false,
     "start_time": "2022-10-27T16:57:40.293403",
     "status": "completed"
    },
    "tags": []
   },
   "outputs": [],
   "source": [
    "from sklearn.neighbors import KNeighborsClassifier"
   ]
  },
  {
   "cell_type": "code",
   "execution_count": 112,
   "id": "6f8215fb",
   "metadata": {
    "execution": {
     "iopub.execute_input": "2022-10-27T16:57:40.453509Z",
     "iopub.status.busy": "2022-10-27T16:57:40.453134Z",
     "iopub.status.idle": "2022-10-27T16:57:40.457702Z",
     "shell.execute_reply": "2022-10-27T16:57:40.456830Z"
    },
    "papermill": {
     "duration": 0.057655,
     "end_time": "2022-10-27T16:57:40.459828",
     "exception": false,
     "start_time": "2022-10-27T16:57:40.402173",
     "status": "completed"
    },
    "tags": []
   },
   "outputs": [],
   "source": [
    "Knn_model = KNeighborsClassifier(n_neighbors=15)"
   ]
  },
  {
   "cell_type": "code",
   "execution_count": 113,
   "id": "e76b4c29",
   "metadata": {
    "execution": {
     "iopub.execute_input": "2022-10-27T16:57:40.563989Z",
     "iopub.status.busy": "2022-10-27T16:57:40.563336Z",
     "iopub.status.idle": "2022-10-27T16:57:40.579325Z",
     "shell.execute_reply": "2022-10-27T16:57:40.577768Z"
    },
    "papermill": {
     "duration": 0.071324,
     "end_time": "2022-10-27T16:57:40.582727",
     "exception": false,
     "start_time": "2022-10-27T16:57:40.511403",
     "status": "completed"
    },
    "tags": []
   },
   "outputs": [
    {
     "name": "stdout",
     "output_type": "stream",
     "text": [
      "ME : 0.21722846441947566\n",
      "RMSE : 0.4660777450377519\n"
     ]
    }
   ],
   "source": [
    "run_model(Knn_model)"
   ]
  },
  {
   "cell_type": "code",
   "execution_count": 114,
   "id": "9768e4c2",
   "metadata": {
    "execution": {
     "iopub.execute_input": "2022-10-27T16:57:40.684760Z",
     "iopub.status.busy": "2022-10-27T16:57:40.684326Z",
     "iopub.status.idle": "2022-10-27T16:57:40.699620Z",
     "shell.execute_reply": "2022-10-27T16:57:40.698737Z"
    },
    "papermill": {
     "duration": 0.067844,
     "end_time": "2022-10-27T16:57:40.701343",
     "exception": false,
     "start_time": "2022-10-27T16:57:40.633499",
     "status": "completed"
    },
    "tags": []
   },
   "outputs": [
    {
     "data": {
      "text/plain": [
       "array([0, 1, 1, 0, 1, 0, 0, 0, 1, 1, 0, 0, 0, 0, 0, 0, 1, 0, 0, 0, 0, 1,\n",
       "       0, 0, 0, 1, 0, 1, 0, 0, 0, 1, 0, 1, 0, 0, 1, 1, 0, 0, 0, 0, 0, 0,\n",
       "       0, 0, 1, 0, 0, 1, 1, 1, 0, 0, 1, 1, 1, 0, 0, 0, 0, 1, 1, 0, 1, 0,\n",
       "       0, 1, 1, 1, 0, 1, 1, 0, 0, 1, 0, 0, 1, 0, 0, 1, 1, 1, 0, 0, 0, 0,\n",
       "       0, 0, 0, 0, 0, 0, 1, 1, 0, 0, 1, 0, 0, 1, 0, 0, 0, 0, 0, 1, 0, 0,\n",
       "       0, 0, 0, 1, 0, 0, 0, 0, 0, 0, 1, 1, 0, 0, 1, 1, 0, 1, 1, 0, 1, 0,\n",
       "       0, 0, 0, 1, 0, 1, 0, 1, 1, 0, 1, 0, 1, 0, 0, 1, 0, 1, 0, 1, 0, 1,\n",
       "       1, 1, 0, 0, 0, 1, 0, 1, 0, 0, 0, 1, 1, 0, 0, 1, 1, 1, 1, 0, 0, 0,\n",
       "       0, 1, 1, 1, 0, 0, 0, 0, 0, 0, 0, 0, 0, 0, 0, 0, 1, 0, 0, 0, 0, 1,\n",
       "       0, 0, 0, 0, 0, 0, 0, 0, 0, 0, 1, 0, 0, 0, 0, 1, 0, 0, 1, 0, 0, 0,\n",
       "       0, 1, 1, 0, 1, 0, 0, 1, 0, 1, 1, 0, 0, 0, 0, 0, 0, 1, 0, 0, 1, 0,\n",
       "       1, 0, 0, 1, 1, 0, 0, 0, 0, 0, 0, 1, 0, 1, 0, 1, 0, 0, 0, 0, 0, 0,\n",
       "       0, 0, 0])"
      ]
     },
     "execution_count": 114,
     "metadata": {},
     "output_type": "execute_result"
    }
   ],
   "source": [
    "Knn_model.predict(X_test_scaled)"
   ]
  },
  {
   "cell_type": "markdown",
   "id": "311c2390",
   "metadata": {
    "papermill": {
     "duration": 0.050577,
     "end_time": "2022-10-27T16:57:40.803691",
     "exception": false,
     "start_time": "2022-10-27T16:57:40.753114",
     "status": "completed"
    },
    "tags": []
   },
   "source": [
    "# Decission Tree"
   ]
  },
  {
   "cell_type": "code",
   "execution_count": 115,
   "id": "425ec921",
   "metadata": {
    "execution": {
     "iopub.execute_input": "2022-10-27T16:57:40.905866Z",
     "iopub.status.busy": "2022-10-27T16:57:40.905463Z",
     "iopub.status.idle": "2022-10-27T16:57:40.910456Z",
     "shell.execute_reply": "2022-10-27T16:57:40.909425Z"
    },
    "papermill": {
     "duration": 0.058411,
     "end_time": "2022-10-27T16:57:40.912266",
     "exception": false,
     "start_time": "2022-10-27T16:57:40.853855",
     "status": "completed"
    },
    "tags": []
   },
   "outputs": [],
   "source": [
    "from sklearn.tree import DecisionTreeClassifier"
   ]
  },
  {
   "cell_type": "code",
   "execution_count": 116,
   "id": "f79f85e4",
   "metadata": {
    "execution": {
     "iopub.execute_input": "2022-10-27T16:57:41.016949Z",
     "iopub.status.busy": "2022-10-27T16:57:41.016271Z",
     "iopub.status.idle": "2022-10-27T16:57:41.021942Z",
     "shell.execute_reply": "2022-10-27T16:57:41.020457Z"
    },
    "papermill": {
     "duration": 0.060064,
     "end_time": "2022-10-27T16:57:41.024741",
     "exception": false,
     "start_time": "2022-10-27T16:57:40.964677",
     "status": "completed"
    },
    "tags": []
   },
   "outputs": [],
   "source": [
    "Dtree_model = DecisionTreeClassifier()"
   ]
  },
  {
   "cell_type": "code",
   "execution_count": 117,
   "id": "13731f8f",
   "metadata": {
    "execution": {
     "iopub.execute_input": "2022-10-27T16:57:41.127850Z",
     "iopub.status.busy": "2022-10-27T16:57:41.127495Z",
     "iopub.status.idle": "2022-10-27T16:57:41.137309Z",
     "shell.execute_reply": "2022-10-27T16:57:41.135906Z"
    },
    "papermill": {
     "duration": 0.063948,
     "end_time": "2022-10-27T16:57:41.139762",
     "exception": false,
     "start_time": "2022-10-27T16:57:41.075814",
     "status": "completed"
    },
    "tags": []
   },
   "outputs": [
    {
     "name": "stdout",
     "output_type": "stream",
     "text": [
      "ME : 0.250936329588015\n",
      "RMSE : 0.5009354545128694\n"
     ]
    }
   ],
   "source": [
    "run_model(Dtree_model)"
   ]
  },
  {
   "cell_type": "code",
   "execution_count": 118,
   "id": "6e2b6efe",
   "metadata": {
    "execution": {
     "iopub.execute_input": "2022-10-27T16:57:41.245336Z",
     "iopub.status.busy": "2022-10-27T16:57:41.244258Z",
     "iopub.status.idle": "2022-10-27T16:57:41.251865Z",
     "shell.execute_reply": "2022-10-27T16:57:41.250789Z"
    },
    "papermill": {
     "duration": 0.061136,
     "end_time": "2022-10-27T16:57:41.253808",
     "exception": false,
     "start_time": "2022-10-27T16:57:41.192672",
     "status": "completed"
    },
    "tags": []
   },
   "outputs": [
    {
     "data": {
      "text/plain": [
       "array([0, 1, 1, 0, 1, 0, 0, 0, 1, 1, 0, 0, 0, 0, 1, 0, 1, 0, 0, 0, 0, 1,\n",
       "       0, 0, 0, 0, 0, 1, 0, 0, 0, 1, 0, 1, 0, 1, 1, 1, 0, 0, 0, 0, 0, 0,\n",
       "       0, 0, 1, 0, 0, 1, 1, 0, 1, 0, 1, 1, 0, 1, 0, 0, 1, 1, 1, 0, 1, 0,\n",
       "       0, 1, 1, 1, 0, 1, 0, 0, 1, 1, 0, 0, 1, 1, 0, 1, 1, 1, 0, 0, 0, 0,\n",
       "       0, 0, 0, 0, 0, 0, 1, 1, 0, 0, 1, 0, 0, 1, 0, 1, 0, 0, 0, 1, 0, 0,\n",
       "       0, 0, 0, 1, 0, 0, 0, 0, 0, 1, 1, 1, 0, 0, 1, 1, 0, 1, 1, 0, 1, 0,\n",
       "       0, 0, 0, 1, 1, 1, 1, 1, 0, 0, 1, 1, 1, 1, 0, 1, 1, 1, 0, 1, 0, 1,\n",
       "       0, 1, 0, 0, 0, 1, 0, 1, 0, 0, 0, 1, 1, 0, 0, 1, 1, 1, 1, 0, 1, 0,\n",
       "       1, 1, 1, 0, 0, 0, 0, 1, 0, 0, 0, 0, 0, 0, 0, 0, 1, 1, 0, 0, 0, 1,\n",
       "       1, 0, 0, 1, 0, 0, 0, 0, 0, 0, 1, 0, 0, 1, 0, 1, 0, 1, 1, 0, 0, 0,\n",
       "       0, 1, 1, 1, 1, 0, 0, 1, 0, 1, 1, 0, 0, 0, 0, 0, 1, 1, 0, 0, 0, 0,\n",
       "       1, 1, 0, 1, 1, 0, 1, 0, 1, 0, 0, 1, 0, 0, 0, 1, 0, 0, 0, 0, 0, 1,\n",
       "       0, 0, 0])"
      ]
     },
     "execution_count": 118,
     "metadata": {},
     "output_type": "execute_result"
    }
   ],
   "source": [
    "Dtree_model.predict(X_test_scaled)"
   ]
  },
  {
   "cell_type": "markdown",
   "id": "6df8d88e",
   "metadata": {
    "papermill": {
     "duration": 0.050017,
     "end_time": "2022-10-27T16:57:41.355644",
     "exception": false,
     "start_time": "2022-10-27T16:57:41.305627",
     "status": "completed"
    },
    "tags": []
   },
   "source": [
    "# SVM"
   ]
  },
  {
   "cell_type": "code",
   "execution_count": 119,
   "id": "d4874681",
   "metadata": {
    "execution": {
     "iopub.execute_input": "2022-10-27T16:57:41.458278Z",
     "iopub.status.busy": "2022-10-27T16:57:41.457680Z",
     "iopub.status.idle": "2022-10-27T16:57:41.462211Z",
     "shell.execute_reply": "2022-10-27T16:57:41.461131Z"
    },
    "papermill": {
     "duration": 0.058691,
     "end_time": "2022-10-27T16:57:41.464643",
     "exception": false,
     "start_time": "2022-10-27T16:57:41.405952",
     "status": "completed"
    },
    "tags": []
   },
   "outputs": [],
   "source": [
    "from sklearn.svm import SVC"
   ]
  },
  {
   "cell_type": "code",
   "execution_count": 120,
   "id": "82df2e15",
   "metadata": {
    "execution": {
     "iopub.execute_input": "2022-10-27T16:57:41.568488Z",
     "iopub.status.busy": "2022-10-27T16:57:41.567804Z",
     "iopub.status.idle": "2022-10-27T16:57:41.573094Z",
     "shell.execute_reply": "2022-10-27T16:57:41.571880Z"
    },
    "papermill": {
     "duration": 0.059559,
     "end_time": "2022-10-27T16:57:41.575144",
     "exception": false,
     "start_time": "2022-10-27T16:57:41.515585",
     "status": "completed"
    },
    "tags": []
   },
   "outputs": [],
   "source": [
    "from sklearn.model_selection import GridSearchCV"
   ]
  },
  {
   "cell_type": "code",
   "execution_count": 121,
   "id": "325f5024",
   "metadata": {
    "execution": {
     "iopub.execute_input": "2022-10-27T16:57:41.680706Z",
     "iopub.status.busy": "2022-10-27T16:57:41.680287Z",
     "iopub.status.idle": "2022-10-27T16:57:41.685959Z",
     "shell.execute_reply": "2022-10-27T16:57:41.684612Z"
    },
    "papermill": {
     "duration": 0.061676,
     "end_time": "2022-10-27T16:57:41.688915",
     "exception": false,
     "start_time": "2022-10-27T16:57:41.627239",
     "status": "completed"
    },
    "tags": []
   },
   "outputs": [],
   "source": [
    " param_grid  ={'C':[.01,.1,.5,1,2,5,10,15,20],'gamma':['scale', 'auto']}"
   ]
  },
  {
   "cell_type": "code",
   "execution_count": 122,
   "id": "207c78d9",
   "metadata": {
    "execution": {
     "iopub.execute_input": "2022-10-27T16:57:41.793611Z",
     "iopub.status.busy": "2022-10-27T16:57:41.792927Z",
     "iopub.status.idle": "2022-10-27T16:57:41.797304Z",
     "shell.execute_reply": "2022-10-27T16:57:41.796686Z"
    },
    "papermill": {
     "duration": 0.059066,
     "end_time": "2022-10-27T16:57:41.799285",
     "exception": false,
     "start_time": "2022-10-27T16:57:41.740219",
     "status": "completed"
    },
    "tags": []
   },
   "outputs": [],
   "source": [
    "svr = SVC()"
   ]
  },
  {
   "cell_type": "code",
   "execution_count": 123,
   "id": "d7bc5d8f",
   "metadata": {
    "execution": {
     "iopub.execute_input": "2022-10-27T16:57:41.902546Z",
     "iopub.status.busy": "2022-10-27T16:57:41.901852Z",
     "iopub.status.idle": "2022-10-27T16:57:41.906345Z",
     "shell.execute_reply": "2022-10-27T16:57:41.905408Z"
    },
    "papermill": {
     "duration": 0.058072,
     "end_time": "2022-10-27T16:57:41.908218",
     "exception": false,
     "start_time": "2022-10-27T16:57:41.850146",
     "status": "completed"
    },
    "tags": []
   },
   "outputs": [],
   "source": [
    "grid = GridSearchCV(svr,param_grid)"
   ]
  },
  {
   "cell_type": "code",
   "execution_count": 124,
   "id": "e9fd2060",
   "metadata": {
    "execution": {
     "iopub.execute_input": "2022-10-27T16:57:42.011695Z",
     "iopub.status.busy": "2022-10-27T16:57:42.011287Z",
     "iopub.status.idle": "2022-10-27T16:57:42.897699Z",
     "shell.execute_reply": "2022-10-27T16:57:42.896114Z"
    },
    "papermill": {
     "duration": 0.941881,
     "end_time": "2022-10-27T16:57:42.900937",
     "exception": false,
     "start_time": "2022-10-27T16:57:41.959056",
     "status": "completed"
    },
    "tags": []
   },
   "outputs": [
    {
     "name": "stdout",
     "output_type": "stream",
     "text": [
      "ME : 0.20224719101123595\n",
      "RMSE : 0.44971901339751685\n"
     ]
    }
   ],
   "source": [
    "run_model(grid)"
   ]
  },
  {
   "cell_type": "code",
   "execution_count": 125,
   "id": "80613c7f",
   "metadata": {
    "execution": {
     "iopub.execute_input": "2022-10-27T16:57:43.005108Z",
     "iopub.status.busy": "2022-10-27T16:57:43.004131Z",
     "iopub.status.idle": "2022-10-27T16:57:43.015526Z",
     "shell.execute_reply": "2022-10-27T16:57:43.014675Z"
    },
    "papermill": {
     "duration": 0.065336,
     "end_time": "2022-10-27T16:57:43.017509",
     "exception": false,
     "start_time": "2022-10-27T16:57:42.952173",
     "status": "completed"
    },
    "tags": []
   },
   "outputs": [
    {
     "data": {
      "text/plain": [
       "array([0, 1, 1, 0, 1, 0, 0, 0, 1, 1, 0, 0, 0, 0, 0, 0, 1, 0, 0, 0, 0, 1,\n",
       "       0, 0, 0, 0, 0, 1, 0, 0, 0, 1, 0, 0, 0, 0, 1, 1, 0, 0, 0, 0, 0, 0,\n",
       "       0, 0, 1, 0, 0, 1, 1, 1, 0, 0, 1, 1, 1, 0, 0, 0, 0, 1, 1, 0, 1, 0,\n",
       "       0, 1, 1, 1, 0, 1, 1, 0, 0, 1, 0, 0, 1, 0, 0, 1, 1, 1, 0, 0, 0, 0,\n",
       "       0, 0, 0, 0, 0, 0, 1, 1, 0, 0, 1, 0, 0, 1, 0, 0, 0, 0, 0, 1, 0, 0,\n",
       "       0, 0, 0, 1, 0, 0, 0, 0, 0, 0, 1, 1, 0, 0, 1, 1, 0, 1, 1, 0, 1, 0,\n",
       "       0, 0, 0, 1, 0, 1, 0, 1, 1, 0, 1, 1, 1, 0, 0, 1, 0, 1, 0, 1, 0, 1,\n",
       "       0, 1, 0, 0, 0, 1, 0, 1, 0, 0, 0, 1, 1, 0, 0, 1, 1, 1, 1, 0, 0, 0,\n",
       "       0, 1, 1, 0, 0, 0, 0, 0, 0, 0, 0, 0, 0, 0, 0, 0, 1, 0, 0, 0, 0, 1,\n",
       "       0, 0, 0, 0, 0, 0, 0, 0, 0, 0, 1, 0, 0, 1, 0, 0, 0, 0, 1, 0, 0, 0,\n",
       "       0, 1, 1, 0, 1, 0, 0, 1, 0, 1, 1, 0, 0, 0, 0, 0, 0, 1, 0, 0, 1, 0,\n",
       "       1, 0, 0, 0, 1, 0, 0, 0, 0, 0, 0, 1, 0, 1, 0, 1, 0, 0, 0, 0, 0, 0,\n",
       "       0, 0, 0])"
      ]
     },
     "execution_count": 125,
     "metadata": {},
     "output_type": "execute_result"
    }
   ],
   "source": [
    "grid.predict(X_test_scaled)"
   ]
  },
  {
   "cell_type": "markdown",
   "id": "e48c3b8c",
   "metadata": {
    "papermill": {
     "duration": 0.051824,
     "end_time": "2022-10-27T16:57:43.123612",
     "exception": false,
     "start_time": "2022-10-27T16:57:43.071788",
     "status": "completed"
    },
    "tags": []
   },
   "source": [
    "# Random fores"
   ]
  },
  {
   "cell_type": "code",
   "execution_count": 126,
   "id": "96c28007",
   "metadata": {
    "execution": {
     "iopub.execute_input": "2022-10-27T16:57:43.230817Z",
     "iopub.status.busy": "2022-10-27T16:57:43.229560Z",
     "iopub.status.idle": "2022-10-27T16:57:43.235745Z",
     "shell.execute_reply": "2022-10-27T16:57:43.234427Z"
    },
    "papermill": {
     "duration": 0.061924,
     "end_time": "2022-10-27T16:57:43.238155",
     "exception": false,
     "start_time": "2022-10-27T16:57:43.176231",
     "status": "completed"
    },
    "tags": []
   },
   "outputs": [],
   "source": [
    "from sklearn.ensemble import RandomForestClassifier"
   ]
  },
  {
   "cell_type": "code",
   "execution_count": 127,
   "id": "6ba00bc8",
   "metadata": {
    "execution": {
     "iopub.execute_input": "2022-10-27T16:57:43.341555Z",
     "iopub.status.busy": "2022-10-27T16:57:43.341117Z",
     "iopub.status.idle": "2022-10-27T16:57:43.345150Z",
     "shell.execute_reply": "2022-10-27T16:57:43.344470Z"
    },
    "papermill": {
     "duration": 0.058398,
     "end_time": "2022-10-27T16:57:43.347204",
     "exception": false,
     "start_time": "2022-10-27T16:57:43.288806",
     "status": "completed"
    },
    "tags": []
   },
   "outputs": [],
   "source": [
    "random = RandomForestClassifier(n_estimators=25)"
   ]
  },
  {
   "cell_type": "code",
   "execution_count": 128,
   "id": "9b86809c",
   "metadata": {
    "execution": {
     "iopub.execute_input": "2022-10-27T16:57:43.464237Z",
     "iopub.status.busy": "2022-10-27T16:57:43.463566Z",
     "iopub.status.idle": "2022-10-27T16:57:43.511724Z",
     "shell.execute_reply": "2022-10-27T16:57:43.510728Z"
    },
    "papermill": {
     "duration": 0.106665,
     "end_time": "2022-10-27T16:57:43.513976",
     "exception": false,
     "start_time": "2022-10-27T16:57:43.407311",
     "status": "completed"
    },
    "tags": []
   },
   "outputs": [
    {
     "name": "stdout",
     "output_type": "stream",
     "text": [
      "ME : 0.2209737827715356\n",
      "RMSE : 0.47007848575693784\n"
     ]
    }
   ],
   "source": [
    "run_model(random)"
   ]
  },
  {
   "cell_type": "code",
   "execution_count": 129,
   "id": "61dbb518",
   "metadata": {
    "execution": {
     "iopub.execute_input": "2022-10-27T16:57:43.623865Z",
     "iopub.status.busy": "2022-10-27T16:57:43.623216Z",
     "iopub.status.idle": "2022-10-27T16:57:43.634553Z",
     "shell.execute_reply": "2022-10-27T16:57:43.633632Z"
    },
    "papermill": {
     "duration": 0.068551,
     "end_time": "2022-10-27T16:57:43.637003",
     "exception": false,
     "start_time": "2022-10-27T16:57:43.568452",
     "status": "completed"
    },
    "tags": []
   },
   "outputs": [
    {
     "data": {
      "text/plain": [
       "array([0, 1, 1, 0, 1, 0, 0, 0, 1, 1, 0, 0, 0, 0, 1, 0, 1, 0, 0, 0, 0, 1,\n",
       "       0, 0, 0, 0, 0, 1, 0, 0, 0, 1, 0, 0, 0, 1, 1, 0, 0, 0, 0, 0, 0, 0,\n",
       "       1, 0, 1, 0, 0, 1, 1, 1, 0, 0, 1, 1, 0, 1, 0, 0, 0, 1, 1, 0, 1, 0,\n",
       "       0, 1, 1, 1, 0, 1, 1, 0, 1, 1, 1, 0, 1, 1, 0, 1, 1, 1, 0, 0, 0, 0,\n",
       "       0, 0, 0, 0, 0, 0, 1, 0, 0, 0, 1, 0, 0, 1, 0, 1, 0, 0, 0, 1, 0, 0,\n",
       "       0, 0, 0, 1, 0, 0, 0, 0, 1, 0, 1, 1, 0, 0, 1, 1, 0, 1, 1, 0, 1, 0,\n",
       "       0, 0, 0, 1, 0, 1, 0, 1, 1, 0, 1, 0, 1, 0, 0, 1, 1, 1, 0, 1, 0, 1,\n",
       "       0, 1, 0, 0, 0, 1, 0, 1, 0, 0, 0, 1, 1, 0, 0, 1, 1, 1, 1, 0, 1, 0,\n",
       "       0, 1, 1, 0, 0, 0, 0, 0, 0, 0, 0, 0, 0, 0, 0, 0, 1, 0, 0, 0, 0, 1,\n",
       "       0, 0, 0, 0, 0, 0, 0, 0, 0, 0, 1, 0, 0, 1, 0, 0, 0, 0, 1, 0, 0, 0,\n",
       "       0, 1, 1, 1, 1, 0, 0, 0, 0, 1, 1, 0, 0, 0, 0, 0, 0, 1, 0, 0, 0, 0,\n",
       "       1, 0, 0, 0, 1, 0, 0, 0, 1, 0, 0, 1, 0, 1, 0, 1, 0, 0, 0, 0, 0, 0,\n",
       "       0, 1, 1])"
      ]
     },
     "execution_count": 129,
     "metadata": {},
     "output_type": "execute_result"
    }
   ],
   "source": [
    "random.predict(X_test_scaled)"
   ]
  },
  {
   "cell_type": "markdown",
   "id": "f97135ae",
   "metadata": {
    "papermill": {
     "duration": 0.054518,
     "end_time": "2022-10-27T16:57:43.745550",
     "exception": false,
     "start_time": "2022-10-27T16:57:43.691032",
     "status": "completed"
    },
    "tags": []
   },
   "source": [
    "# gradiant boost"
   ]
  },
  {
   "cell_type": "code",
   "execution_count": 130,
   "id": "e3c5ce9d",
   "metadata": {
    "execution": {
     "iopub.execute_input": "2022-10-27T16:57:43.854627Z",
     "iopub.status.busy": "2022-10-27T16:57:43.853800Z",
     "iopub.status.idle": "2022-10-27T16:57:43.858247Z",
     "shell.execute_reply": "2022-10-27T16:57:43.857474Z"
    },
    "papermill": {
     "duration": 0.061159,
     "end_time": "2022-10-27T16:57:43.860159",
     "exception": false,
     "start_time": "2022-10-27T16:57:43.799000",
     "status": "completed"
    },
    "tags": []
   },
   "outputs": [],
   "source": [
    "from sklearn.ensemble import GradientBoostingClassifier"
   ]
  },
  {
   "cell_type": "code",
   "execution_count": 131,
   "id": "85905d84",
   "metadata": {
    "execution": {
     "iopub.execute_input": "2022-10-27T16:57:43.966974Z",
     "iopub.status.busy": "2022-10-27T16:57:43.966312Z",
     "iopub.status.idle": "2022-10-27T16:57:43.970944Z",
     "shell.execute_reply": "2022-10-27T16:57:43.969547Z"
    },
    "papermill": {
     "duration": 0.061468,
     "end_time": "2022-10-27T16:57:43.972906",
     "exception": false,
     "start_time": "2022-10-27T16:57:43.911438",
     "status": "completed"
    },
    "tags": []
   },
   "outputs": [],
   "source": [
    "Gr_model = GradientBoostingClassifier()"
   ]
  },
  {
   "cell_type": "code",
   "execution_count": 132,
   "id": "a760b01d",
   "metadata": {
    "execution": {
     "iopub.execute_input": "2022-10-27T16:57:44.080538Z",
     "iopub.status.busy": "2022-10-27T16:57:44.080075Z",
     "iopub.status.idle": "2022-10-27T16:57:44.171735Z",
     "shell.execute_reply": "2022-10-27T16:57:44.170537Z"
    },
    "papermill": {
     "duration": 0.148814,
     "end_time": "2022-10-27T16:57:44.174620",
     "exception": false,
     "start_time": "2022-10-27T16:57:44.025806",
     "status": "completed"
    },
    "tags": []
   },
   "outputs": [
    {
     "name": "stdout",
     "output_type": "stream",
     "text": [
      "ME : 0.17228464419475656\n",
      "RMSE : 0.41507185425508747\n"
     ]
    }
   ],
   "source": [
    "run_model(Gr_model)"
   ]
  },
  {
   "cell_type": "markdown",
   "id": "c5df62cd",
   "metadata": {
    "papermill": {
     "duration": 0.051393,
     "end_time": "2022-10-27T16:57:44.278870",
     "exception": false,
     "start_time": "2022-10-27T16:57:44.227477",
     "status": "completed"
    },
    "tags": []
   },
   "source": [
    "# Adabosst"
   ]
  },
  {
   "cell_type": "code",
   "execution_count": 133,
   "id": "ecccb4e5",
   "metadata": {
    "execution": {
     "iopub.execute_input": "2022-10-27T16:57:44.383641Z",
     "iopub.status.busy": "2022-10-27T16:57:44.383001Z",
     "iopub.status.idle": "2022-10-27T16:57:44.388087Z",
     "shell.execute_reply": "2022-10-27T16:57:44.387082Z"
    },
    "papermill": {
     "duration": 0.059141,
     "end_time": "2022-10-27T16:57:44.389993",
     "exception": false,
     "start_time": "2022-10-27T16:57:44.330852",
     "status": "completed"
    },
    "tags": []
   },
   "outputs": [],
   "source": [
    "from sklearn.ensemble import AdaBoostClassifier"
   ]
  },
  {
   "cell_type": "code",
   "execution_count": 134,
   "id": "5525d85c",
   "metadata": {
    "execution": {
     "iopub.execute_input": "2022-10-27T16:57:44.498672Z",
     "iopub.status.busy": "2022-10-27T16:57:44.497696Z",
     "iopub.status.idle": "2022-10-27T16:57:44.502509Z",
     "shell.execute_reply": "2022-10-27T16:57:44.501136Z"
    },
    "papermill": {
     "duration": 0.061813,
     "end_time": "2022-10-27T16:57:44.504672",
     "exception": false,
     "start_time": "2022-10-27T16:57:44.442859",
     "status": "completed"
    },
    "tags": []
   },
   "outputs": [],
   "source": [
    "ada_model = AdaBoostClassifier()"
   ]
  },
  {
   "cell_type": "code",
   "execution_count": 135,
   "id": "6a0e27c8",
   "metadata": {
    "execution": {
     "iopub.execute_input": "2022-10-27T16:57:44.607867Z",
     "iopub.status.busy": "2022-10-27T16:57:44.606687Z",
     "iopub.status.idle": "2022-10-27T16:57:44.692568Z",
     "shell.execute_reply": "2022-10-27T16:57:44.691085Z"
    },
    "papermill": {
     "duration": 0.138903,
     "end_time": "2022-10-27T16:57:44.694658",
     "exception": false,
     "start_time": "2022-10-27T16:57:44.555755",
     "status": "completed"
    },
    "tags": []
   },
   "outputs": [
    {
     "name": "stdout",
     "output_type": "stream",
     "text": [
      "ME : 0.19101123595505617\n",
      "RMSE : 0.4370483222197017\n"
     ]
    }
   ],
   "source": [
    "run_model(ada_model)"
   ]
  },
  {
   "cell_type": "markdown",
   "id": "b2736f83",
   "metadata": {
    "papermill": {
     "duration": 0.053461,
     "end_time": "2022-10-27T16:57:44.799512",
     "exception": false,
     "start_time": "2022-10-27T16:57:44.746051",
     "status": "completed"
    },
    "tags": []
   },
   "source": [
    "# choose SVM"
   ]
  },
  {
   "cell_type": "code",
   "execution_count": 136,
   "id": "4b1b8c95",
   "metadata": {
    "execution": {
     "iopub.execute_input": "2022-10-27T16:57:44.908882Z",
     "iopub.status.busy": "2022-10-27T16:57:44.908460Z",
     "iopub.status.idle": "2022-10-27T16:57:44.918633Z",
     "shell.execute_reply": "2022-10-27T16:57:44.917290Z"
    },
    "papermill": {
     "duration": 0.069291,
     "end_time": "2022-10-27T16:57:44.921986",
     "exception": false,
     "start_time": "2022-10-27T16:57:44.852695",
     "status": "completed"
    },
    "tags": []
   },
   "outputs": [],
   "source": [
    "x_scaled = scaler.fit_transform(X)"
   ]
  },
  {
   "cell_type": "code",
   "execution_count": 137,
   "id": "c22b2f99",
   "metadata": {
    "execution": {
     "iopub.execute_input": "2022-10-27T16:57:45.031008Z",
     "iopub.status.busy": "2022-10-27T16:57:45.030608Z",
     "iopub.status.idle": "2022-10-27T16:57:46.606873Z",
     "shell.execute_reply": "2022-10-27T16:57:46.605922Z"
    },
    "papermill": {
     "duration": 1.634081,
     "end_time": "2022-10-27T16:57:46.609335",
     "exception": false,
     "start_time": "2022-10-27T16:57:44.975254",
     "status": "completed"
    },
    "tags": []
   },
   "outputs": [
    {
     "data": {
      "text/plain": [
       "GridSearchCV(estimator=SVC(),\n",
       "             param_grid={'C': [0.01, 0.1, 0.5, 1, 2, 5, 10, 15, 20],\n",
       "                         'gamma': ['scale', 'auto']})"
      ]
     },
     "execution_count": 137,
     "metadata": {},
     "output_type": "execute_result"
    }
   ],
   "source": [
    "grid.fit(x_scaled,y)"
   ]
  },
  {
   "cell_type": "code",
   "execution_count": 138,
   "id": "98f40c99",
   "metadata": {
    "execution": {
     "iopub.execute_input": "2022-10-27T16:57:46.715451Z",
     "iopub.status.busy": "2022-10-27T16:57:46.715031Z",
     "iopub.status.idle": "2022-10-27T16:57:46.720188Z",
     "shell.execute_reply": "2022-10-27T16:57:46.718696Z"
    },
    "papermill": {
     "duration": 0.060997,
     "end_time": "2022-10-27T16:57:46.722291",
     "exception": false,
     "start_time": "2022-10-27T16:57:46.661294",
     "status": "completed"
    },
    "tags": []
   },
   "outputs": [],
   "source": [
    "svc=SVC(C=0.5,gamma='auto',kernel='rbf')\n",
    "#,'kernel':['linear', 'poly', 'rbf', 'sigmoid', 'precomputed']"
   ]
  },
  {
   "cell_type": "code",
   "execution_count": 139,
   "id": "d7a844e4",
   "metadata": {
    "execution": {
     "iopub.execute_input": "2022-10-27T16:57:46.831062Z",
     "iopub.status.busy": "2022-10-27T16:57:46.830713Z",
     "iopub.status.idle": "2022-10-27T16:57:46.847613Z",
     "shell.execute_reply": "2022-10-27T16:57:46.846246Z"
    },
    "papermill": {
     "duration": 0.075224,
     "end_time": "2022-10-27T16:57:46.850291",
     "exception": false,
     "start_time": "2022-10-27T16:57:46.775067",
     "status": "completed"
    },
    "tags": []
   },
   "outputs": [
    {
     "data": {
      "text/plain": [
       "SVC(C=0.5, gamma='auto')"
      ]
     },
     "execution_count": 139,
     "metadata": {},
     "output_type": "execute_result"
    }
   ],
   "source": [
    "svc.fit(X_train_scaled,y_train)"
   ]
  },
  {
   "cell_type": "code",
   "execution_count": 140,
   "id": "8603e480",
   "metadata": {
    "execution": {
     "iopub.execute_input": "2022-10-27T16:57:46.960210Z",
     "iopub.status.busy": "2022-10-27T16:57:46.959851Z",
     "iopub.status.idle": "2022-10-27T16:57:46.971496Z",
     "shell.execute_reply": "2022-10-27T16:57:46.970418Z"
    },
    "papermill": {
     "duration": 0.069064,
     "end_time": "2022-10-27T16:57:46.973598",
     "exception": false,
     "start_time": "2022-10-27T16:57:46.904534",
     "status": "completed"
    },
    "tags": []
   },
   "outputs": [
    {
     "data": {
      "text/plain": [
       "array([0, 1, 1, 0, 1, 0, 0, 0, 1, 1, 0, 1, 0, 0, 0, 0, 0, 0, 0, 0, 0, 1,\n",
       "       0, 0, 0, 0, 0, 1, 0, 0, 0, 1, 0, 0, 0, 0, 1, 1, 0, 0, 0, 0, 0, 0,\n",
       "       0, 0, 1, 0, 0, 1, 1, 1, 0, 0, 1, 1, 1, 0, 0, 0, 0, 1, 1, 0, 1, 0,\n",
       "       0, 0, 1, 1, 0, 1, 1, 0, 1, 1, 0, 0, 1, 0, 1, 1, 1, 1, 0, 0, 0, 0,\n",
       "       0, 0, 0, 1, 0, 0, 0, 1, 0, 0, 1, 0, 0, 1, 0, 0, 0, 0, 1, 1, 0, 0,\n",
       "       0, 0, 0, 1, 0, 0, 0, 0, 1, 0, 1, 1, 0, 0, 1, 1, 0, 1, 1, 0, 1, 0,\n",
       "       0, 0, 1, 1, 0, 1, 1, 1, 1, 0, 1, 0, 1, 0, 0, 1, 0, 1, 0, 1, 0, 1,\n",
       "       0, 1, 0, 0, 0, 1, 0, 1, 0, 0, 0, 1, 1, 0, 0, 1, 1, 1, 1, 0, 1, 0,\n",
       "       0, 1, 1, 1, 0, 0, 0, 0, 0, 0, 0, 0, 0, 0, 0, 0, 1, 0, 0, 0, 0, 1,\n",
       "       0, 0, 0, 1, 0, 0, 0, 0, 0, 0, 1, 0, 0, 0, 0, 0, 0, 0, 1, 0, 0, 0,\n",
       "       0, 1, 1, 1, 1, 0, 0, 1, 1, 1, 1, 0, 0, 0, 0, 0, 0, 1, 0, 0, 1, 0,\n",
       "       1, 0, 0, 0, 1, 0, 0, 0, 0, 0, 0, 1, 0, 1, 0, 1, 0, 0, 0, 0, 0, 0,\n",
       "       0, 0, 0])"
      ]
     },
     "execution_count": 140,
     "metadata": {},
     "output_type": "execute_result"
    }
   ],
   "source": [
    "svc.predict(X_test_scaled)"
   ]
  },
  {
   "cell_type": "code",
   "execution_count": null,
   "id": "9539d0ff",
   "metadata": {
    "papermill": {
     "duration": 0.051191,
     "end_time": "2022-10-27T16:57:47.078148",
     "exception": false,
     "start_time": "2022-10-27T16:57:47.026957",
     "status": "completed"
    },
    "tags": []
   },
   "outputs": [],
   "source": []
  },
  {
   "cell_type": "code",
   "execution_count": 141,
   "id": "198db9ea",
   "metadata": {
    "execution": {
     "iopub.execute_input": "2022-10-27T16:57:47.187881Z",
     "iopub.status.busy": "2022-10-27T16:57:47.187500Z",
     "iopub.status.idle": "2022-10-27T16:57:47.211292Z",
     "shell.execute_reply": "2022-10-27T16:57:47.210440Z"
    },
    "papermill": {
     "duration": 0.080982,
     "end_time": "2022-10-27T16:57:47.213260",
     "exception": false,
     "start_time": "2022-10-27T16:57:47.132278",
     "status": "completed"
    },
    "tags": []
   },
   "outputs": [
    {
     "data": {
      "text/plain": [
       "SVC(C=0.5, gamma='auto')"
      ]
     },
     "execution_count": 141,
     "metadata": {},
     "output_type": "execute_result"
    }
   ],
   "source": [
    "svc.fit(x_scaled,y)"
   ]
  },
  {
   "cell_type": "code",
   "execution_count": 142,
   "id": "7f1fb63d",
   "metadata": {
    "execution": {
     "iopub.execute_input": "2022-10-27T16:57:47.318920Z",
     "iopub.status.busy": "2022-10-27T16:57:47.318581Z",
     "iopub.status.idle": "2022-10-27T16:57:47.322376Z",
     "shell.execute_reply": "2022-10-27T16:57:47.321652Z"
    },
    "papermill": {
     "duration": 0.058502,
     "end_time": "2022-10-27T16:57:47.324731",
     "exception": false,
     "start_time": "2022-10-27T16:57:47.266229",
     "status": "completed"
    },
    "tags": []
   },
   "outputs": [],
   "source": [
    "#svc.predict(scaler.transform(test_data))"
   ]
  },
  {
   "cell_type": "code",
   "execution_count": null,
   "id": "c15d875a",
   "metadata": {
    "papermill": {
     "duration": 0.052146,
     "end_time": "2022-10-27T16:57:47.431336",
     "exception": false,
     "start_time": "2022-10-27T16:57:47.379190",
     "status": "completed"
    },
    "tags": []
   },
   "outputs": [],
   "source": []
  },
  {
   "cell_type": "code",
   "execution_count": 143,
   "id": "8039a8ca",
   "metadata": {
    "execution": {
     "iopub.execute_input": "2022-10-27T16:57:47.541419Z",
     "iopub.status.busy": "2022-10-27T16:57:47.540340Z",
     "iopub.status.idle": "2022-10-27T16:57:47.544843Z",
     "shell.execute_reply": "2022-10-27T16:57:47.543679Z"
    },
    "papermill": {
     "duration": 0.061659,
     "end_time": "2022-10-27T16:57:47.546760",
     "exception": false,
     "start_time": "2022-10-27T16:57:47.485101",
     "status": "completed"
    },
    "tags": []
   },
   "outputs": [],
   "source": [
    "#svr.support_vectors_\n"
   ]
  },
  {
   "cell_type": "code",
   "execution_count": null,
   "id": "89c535f7",
   "metadata": {
    "papermill": {
     "duration": 0.052869,
     "end_time": "2022-10-27T16:57:47.654212",
     "exception": false,
     "start_time": "2022-10-27T16:57:47.601343",
     "status": "completed"
    },
    "tags": []
   },
   "outputs": [],
   "source": []
  },
  {
   "cell_type": "code",
   "execution_count": null,
   "id": "8b308599",
   "metadata": {
    "papermill": {
     "duration": 0.051164,
     "end_time": "2022-10-27T16:57:47.758141",
     "exception": false,
     "start_time": "2022-10-27T16:57:47.706977",
     "status": "completed"
    },
    "tags": []
   },
   "outputs": [],
   "source": []
  },
  {
   "cell_type": "code",
   "execution_count": null,
   "id": "67e5f538",
   "metadata": {
    "papermill": {
     "duration": 0.052906,
     "end_time": "2022-10-27T16:57:47.864576",
     "exception": false,
     "start_time": "2022-10-27T16:57:47.811670",
     "status": "completed"
    },
    "tags": []
   },
   "outputs": [],
   "source": []
  },
  {
   "cell_type": "code",
   "execution_count": 144,
   "id": "da7d998f",
   "metadata": {
    "execution": {
     "iopub.execute_input": "2022-10-27T16:57:47.972504Z",
     "iopub.status.busy": "2022-10-27T16:57:47.972074Z",
     "iopub.status.idle": "2022-10-27T16:57:47.976178Z",
     "shell.execute_reply": "2022-10-27T16:57:47.975318Z"
    },
    "papermill": {
     "duration": 0.06089,
     "end_time": "2022-10-27T16:57:47.978535",
     "exception": false,
     "start_time": "2022-10-27T16:57:47.917645",
     "status": "completed"
    },
    "tags": []
   },
   "outputs": [],
   "source": [
    "#co =pd.DataFrame(co,index=X.columns)"
   ]
  },
  {
   "cell_type": "code",
   "execution_count": 145,
   "id": "876290bf",
   "metadata": {
    "execution": {
     "iopub.execute_input": "2022-10-27T16:57:48.085376Z",
     "iopub.status.busy": "2022-10-27T16:57:48.084949Z",
     "iopub.status.idle": "2022-10-27T16:57:48.090272Z",
     "shell.execute_reply": "2022-10-27T16:57:48.088943Z"
    },
    "papermill": {
     "duration": 0.061842,
     "end_time": "2022-10-27T16:57:48.092572",
     "exception": false,
     "start_time": "2022-10-27T16:57:48.030730",
     "status": "completed"
    },
    "tags": []
   },
   "outputs": [],
   "source": [
    "#co"
   ]
  },
  {
   "cell_type": "markdown",
   "id": "6e2ab519",
   "metadata": {
    "papermill": {
     "duration": 0.052809,
     "end_time": "2022-10-27T16:57:48.198580",
     "exception": false,
     "start_time": "2022-10-27T16:57:48.145771",
     "status": "completed"
    },
    "tags": []
   },
   "source": [
    "# clean test data"
   ]
  },
  {
   "cell_type": "code",
   "execution_count": 146,
   "id": "87e40414",
   "metadata": {
    "execution": {
     "iopub.execute_input": "2022-10-27T16:57:48.306942Z",
     "iopub.status.busy": "2022-10-27T16:57:48.305020Z",
     "iopub.status.idle": "2022-10-27T16:57:48.319375Z",
     "shell.execute_reply": "2022-10-27T16:57:48.318060Z"
    },
    "papermill": {
     "duration": 0.071387,
     "end_time": "2022-10-27T16:57:48.321170",
     "exception": false,
     "start_time": "2022-10-27T16:57:48.249783",
     "status": "completed"
    },
    "tags": []
   },
   "outputs": [
    {
     "name": "stdout",
     "output_type": "stream",
     "text": [
      "<class 'pandas.core.frame.DataFrame'>\n",
      "RangeIndex: 418 entries, 0 to 417\n",
      "Data columns (total 11 columns):\n",
      " #   Column       Non-Null Count  Dtype  \n",
      "---  ------       --------------  -----  \n",
      " 0   PassengerId  418 non-null    int64  \n",
      " 1   Pclass       418 non-null    int64  \n",
      " 2   Name         418 non-null    object \n",
      " 3   Sex          418 non-null    object \n",
      " 4   Age          332 non-null    float64\n",
      " 5   SibSp        418 non-null    int64  \n",
      " 6   Parch        418 non-null    int64  \n",
      " 7   Ticket       418 non-null    object \n",
      " 8   Fare         417 non-null    float64\n",
      " 9   Cabin        91 non-null     object \n",
      " 10  Embarked     418 non-null    object \n",
      "dtypes: float64(2), int64(4), object(5)\n",
      "memory usage: 36.0+ KB\n"
     ]
    }
   ],
   "source": [
    "test_data.info()"
   ]
  },
  {
   "cell_type": "code",
   "execution_count": 147,
   "id": "f761d396",
   "metadata": {
    "execution": {
     "iopub.execute_input": "2022-10-27T16:57:48.485222Z",
     "iopub.status.busy": "2022-10-27T16:57:48.484295Z",
     "iopub.status.idle": "2022-10-27T16:57:48.489422Z",
     "shell.execute_reply": "2022-10-27T16:57:48.488436Z"
    },
    "papermill": {
     "duration": 0.061623,
     "end_time": "2022-10-27T16:57:48.491899",
     "exception": false,
     "start_time": "2022-10-27T16:57:48.430276",
     "status": "completed"
    },
    "tags": []
   },
   "outputs": [],
   "source": [
    "#test_data = test_data.drop(\"Name\",axis=1)"
   ]
  },
  {
   "cell_type": "code",
   "execution_count": 148,
   "id": "e4168002",
   "metadata": {
    "execution": {
     "iopub.execute_input": "2022-10-27T16:57:48.599466Z",
     "iopub.status.busy": "2022-10-27T16:57:48.598816Z",
     "iopub.status.idle": "2022-10-27T16:57:48.604029Z",
     "shell.execute_reply": "2022-10-27T16:57:48.603346Z"
    },
    "papermill": {
     "duration": 0.061665,
     "end_time": "2022-10-27T16:57:48.605884",
     "exception": false,
     "start_time": "2022-10-27T16:57:48.544219",
     "status": "completed"
    },
    "tags": []
   },
   "outputs": [],
   "source": [
    "test_data = test_data.drop(\"Ticket\",axis=1)"
   ]
  },
  {
   "cell_type": "code",
   "execution_count": 149,
   "id": "e3d19b58",
   "metadata": {
    "execution": {
     "iopub.execute_input": "2022-10-27T16:57:48.712436Z",
     "iopub.status.busy": "2022-10-27T16:57:48.711669Z",
     "iopub.status.idle": "2022-10-27T16:57:48.717878Z",
     "shell.execute_reply": "2022-10-27T16:57:48.716846Z"
    },
    "papermill": {
     "duration": 0.061595,
     "end_time": "2022-10-27T16:57:48.719808",
     "exception": false,
     "start_time": "2022-10-27T16:57:48.658213",
     "status": "completed"
    },
    "tags": []
   },
   "outputs": [],
   "source": [
    "test_data = test_data.drop(\"Cabin\",axis=1)"
   ]
  },
  {
   "cell_type": "code",
   "execution_count": 150,
   "id": "08694d8d",
   "metadata": {
    "execution": {
     "iopub.execute_input": "2022-10-27T16:57:48.829006Z",
     "iopub.status.busy": "2022-10-27T16:57:48.828649Z",
     "iopub.status.idle": "2022-10-27T16:57:48.835545Z",
     "shell.execute_reply": "2022-10-27T16:57:48.834297Z"
    },
    "papermill": {
     "duration": 0.064701,
     "end_time": "2022-10-27T16:57:48.837428",
     "exception": false,
     "start_time": "2022-10-27T16:57:48.772727",
     "status": "completed"
    },
    "tags": []
   },
   "outputs": [],
   "source": [
    "_3_lonly =test_data[(test_data[\"SibSp\"]==0) &(test_data[\"Parch\"]==0) & (test_data[\"Pclass\"]==3) & (test_data[\"Age\"].notna())]"
   ]
  },
  {
   "cell_type": "code",
   "execution_count": 151,
   "id": "ea6fa9b8",
   "metadata": {
    "execution": {
     "iopub.execute_input": "2022-10-27T16:57:48.945267Z",
     "iopub.status.busy": "2022-10-27T16:57:48.943777Z",
     "iopub.status.idle": "2022-10-27T16:57:48.956035Z",
     "shell.execute_reply": "2022-10-27T16:57:48.955169Z"
    },
    "papermill": {
     "duration": 0.06877,
     "end_time": "2022-10-27T16:57:48.958171",
     "exception": false,
     "start_time": "2022-10-27T16:57:48.889401",
     "status": "completed"
    },
    "tags": []
   },
   "outputs": [
    {
     "name": "stderr",
     "output_type": "stream",
     "text": [
      "/opt/conda/lib/python3.7/site-packages/ipykernel_launcher.py:1: FutureWarning: Dropping of nuisance columns in DataFrame reductions (with 'numeric_only=None') is deprecated; in a future version this will raise TypeError.  Select only valid columns before calling the reduction.\n",
      "  \"\"\"Entry point for launching an IPython kernel.\n"
     ]
    },
    {
     "data": {
      "text/plain": [
       "PassengerId    1084.336842\n",
       "Pclass            3.000000\n",
       "Age              26.121053\n",
       "SibSp             0.000000\n",
       "Parch             0.000000\n",
       "Fare              8.603591\n",
       "dtype: float64"
      ]
     },
     "execution_count": 151,
     "metadata": {},
     "output_type": "execute_result"
    }
   ],
   "source": [
    "_3_lonly.mean()"
   ]
  },
  {
   "cell_type": "code",
   "execution_count": 152,
   "id": "27f3b614",
   "metadata": {
    "execution": {
     "iopub.execute_input": "2022-10-27T16:57:49.064725Z",
     "iopub.status.busy": "2022-10-27T16:57:49.064020Z",
     "iopub.status.idle": "2022-10-27T16:57:49.070599Z",
     "shell.execute_reply": "2022-10-27T16:57:49.069839Z"
    },
    "papermill": {
     "duration": 0.062068,
     "end_time": "2022-10-27T16:57:49.072828",
     "exception": false,
     "start_time": "2022-10-27T16:57:49.010760",
     "status": "completed"
    },
    "tags": []
   },
   "outputs": [],
   "source": [
    "idt1 =test_data[(test_data[\"SibSp\"]==0) &(test_data[\"Parch\"]==0) & (test_data[\"Pclass\"]==3) & (test_data[\"Age\"].isna())].index"
   ]
  },
  {
   "cell_type": "code",
   "execution_count": 153,
   "id": "ab16d407",
   "metadata": {
    "execution": {
     "iopub.execute_input": "2022-10-27T16:57:49.180033Z",
     "iopub.status.busy": "2022-10-27T16:57:49.179142Z",
     "iopub.status.idle": "2022-10-27T16:57:49.188125Z",
     "shell.execute_reply": "2022-10-27T16:57:49.186539Z"
    },
    "papermill": {
     "duration": 0.065354,
     "end_time": "2022-10-27T16:57:49.190455",
     "exception": false,
     "start_time": "2022-10-27T16:57:49.125101",
     "status": "completed"
    },
    "tags": []
   },
   "outputs": [
    {
     "name": "stderr",
     "output_type": "stream",
     "text": [
      "/opt/conda/lib/python3.7/site-packages/pandas/core/indexing.py:1732: SettingWithCopyWarning: \n",
      "A value is trying to be set on a copy of a slice from a DataFrame\n",
      "\n",
      "See the caveats in the documentation: https://pandas.pydata.org/pandas-docs/stable/user_guide/indexing.html#returning-a-view-versus-a-copy\n",
      "  self._setitem_single_block(indexer, value, name)\n"
     ]
    }
   ],
   "source": [
    "test_data[\"Age\"].loc[idt1]=test_data.loc[idt1][\"Age\"].replace(np.nan,26)"
   ]
  },
  {
   "cell_type": "code",
   "execution_count": 154,
   "id": "1899bb3a",
   "metadata": {
    "execution": {
     "iopub.execute_input": "2022-10-27T16:57:49.297495Z",
     "iopub.status.busy": "2022-10-27T16:57:49.297084Z",
     "iopub.status.idle": "2022-10-27T16:57:49.304545Z",
     "shell.execute_reply": "2022-10-27T16:57:49.303497Z"
    },
    "papermill": {
     "duration": 0.063559,
     "end_time": "2022-10-27T16:57:49.306494",
     "exception": false,
     "start_time": "2022-10-27T16:57:49.242935",
     "status": "completed"
    },
    "tags": []
   },
   "outputs": [],
   "source": [
    "_2_lonly =test_data[(test_data[\"SibSp\"]==0) &(test_data[\"Parch\"]==0) & (test_data[\"Pclass\"]==2) & (test_data[\"Age\"].notna())]"
   ]
  },
  {
   "cell_type": "code",
   "execution_count": 155,
   "id": "8676c2c7",
   "metadata": {
    "execution": {
     "iopub.execute_input": "2022-10-27T16:57:49.414232Z",
     "iopub.status.busy": "2022-10-27T16:57:49.413226Z",
     "iopub.status.idle": "2022-10-27T16:57:49.423578Z",
     "shell.execute_reply": "2022-10-27T16:57:49.422198Z"
    },
    "papermill": {
     "duration": 0.065876,
     "end_time": "2022-10-27T16:57:49.425661",
     "exception": false,
     "start_time": "2022-10-27T16:57:49.359785",
     "status": "completed"
    },
    "tags": []
   },
   "outputs": [
    {
     "name": "stderr",
     "output_type": "stream",
     "text": [
      "/opt/conda/lib/python3.7/site-packages/ipykernel_launcher.py:1: FutureWarning: Dropping of nuisance columns in DataFrame reductions (with 'numeric_only=None') is deprecated; in a future version this will raise TypeError.  Select only valid columns before calling the reduction.\n",
      "  \"\"\"Entry point for launching an IPython kernel.\n"
     ]
    },
    {
     "data": {
      "text/plain": [
       "PassengerId    1126.000000\n",
       "Pclass            2.000000\n",
       "Age              29.336735\n",
       "SibSp             0.000000\n",
       "Parch             0.000000\n",
       "Fare             17.773978\n",
       "dtype: float64"
      ]
     },
     "execution_count": 155,
     "metadata": {},
     "output_type": "execute_result"
    }
   ],
   "source": [
    "_2_lonly.mean()"
   ]
  },
  {
   "cell_type": "code",
   "execution_count": 156,
   "id": "5dd6eeae",
   "metadata": {
    "execution": {
     "iopub.execute_input": "2022-10-27T16:57:49.535846Z",
     "iopub.status.busy": "2022-10-27T16:57:49.535466Z",
     "iopub.status.idle": "2022-10-27T16:57:49.541863Z",
     "shell.execute_reply": "2022-10-27T16:57:49.540949Z"
    },
    "papermill": {
     "duration": 0.064335,
     "end_time": "2022-10-27T16:57:49.544256",
     "exception": false,
     "start_time": "2022-10-27T16:57:49.479921",
     "status": "completed"
    },
    "tags": []
   },
   "outputs": [],
   "source": [
    "idt2 =test_data[(test_data[\"SibSp\"]==0) &(test_data[\"Parch\"]==0) & (test_data[\"Pclass\"]==2) & (test_data[\"Age\"].isna())].index"
   ]
  },
  {
   "cell_type": "code",
   "execution_count": 157,
   "id": "8873c5e7",
   "metadata": {
    "execution": {
     "iopub.execute_input": "2022-10-27T16:57:49.653086Z",
     "iopub.status.busy": "2022-10-27T16:57:49.652736Z",
     "iopub.status.idle": "2022-10-27T16:57:49.660867Z",
     "shell.execute_reply": "2022-10-27T16:57:49.659601Z"
    },
    "papermill": {
     "duration": 0.064653,
     "end_time": "2022-10-27T16:57:49.662680",
     "exception": false,
     "start_time": "2022-10-27T16:57:49.598027",
     "status": "completed"
    },
    "tags": []
   },
   "outputs": [],
   "source": [
    "test_data[\"Age\"].loc[idt2]=test_data.loc[idt2][\"Age\"].replace(np.nan,29.3)"
   ]
  },
  {
   "cell_type": "code",
   "execution_count": 158,
   "id": "f414b8f5",
   "metadata": {
    "execution": {
     "iopub.execute_input": "2022-10-27T16:57:49.772485Z",
     "iopub.status.busy": "2022-10-27T16:57:49.772066Z",
     "iopub.status.idle": "2022-10-27T16:57:49.779850Z",
     "shell.execute_reply": "2022-10-27T16:57:49.778675Z"
    },
    "papermill": {
     "duration": 0.065574,
     "end_time": "2022-10-27T16:57:49.781741",
     "exception": false,
     "start_time": "2022-10-27T16:57:49.716167",
     "status": "completed"
    },
    "tags": []
   },
   "outputs": [],
   "source": [
    "_1_lonly =test_data[(test_data[\"SibSp\"]==0) &(test_data[\"Parch\"]==0) & (test_data[\"Pclass\"]==1) & (test_data[\"Age\"].notna())]"
   ]
  },
  {
   "cell_type": "code",
   "execution_count": 159,
   "id": "208d9c58",
   "metadata": {
    "execution": {
     "iopub.execute_input": "2022-10-27T16:57:49.893190Z",
     "iopub.status.busy": "2022-10-27T16:57:49.892794Z",
     "iopub.status.idle": "2022-10-27T16:57:49.904403Z",
     "shell.execute_reply": "2022-10-27T16:57:49.903312Z"
    },
    "papermill": {
     "duration": 0.069623,
     "end_time": "2022-10-27T16:57:49.906247",
     "exception": false,
     "start_time": "2022-10-27T16:57:49.836624",
     "status": "completed"
    },
    "tags": []
   },
   "outputs": [
    {
     "name": "stderr",
     "output_type": "stream",
     "text": [
      "/opt/conda/lib/python3.7/site-packages/ipykernel_launcher.py:1: FutureWarning: Dropping of nuisance columns in DataFrame reductions (with 'numeric_only=None') is deprecated; in a future version this will raise TypeError.  Select only valid columns before calling the reduction.\n",
      "  \"\"\"Entry point for launching an IPython kernel.\n"
     ]
    },
    {
     "data": {
      "text/plain": [
       "PassengerId    1105.071429\n",
       "Pclass            1.000000\n",
       "Age              39.428571\n",
       "SibSp             0.000000\n",
       "Parch             0.000000\n",
       "Fare             78.076488\n",
       "dtype: float64"
      ]
     },
     "execution_count": 159,
     "metadata": {},
     "output_type": "execute_result"
    }
   ],
   "source": [
    "_1_lonly.mean()"
   ]
  },
  {
   "cell_type": "code",
   "execution_count": 160,
   "id": "e8862175",
   "metadata": {
    "execution": {
     "iopub.execute_input": "2022-10-27T16:57:50.015080Z",
     "iopub.status.busy": "2022-10-27T16:57:50.014610Z",
     "iopub.status.idle": "2022-10-27T16:57:50.022870Z",
     "shell.execute_reply": "2022-10-27T16:57:50.021113Z"
    },
    "papermill": {
     "duration": 0.06536,
     "end_time": "2022-10-27T16:57:50.025039",
     "exception": false,
     "start_time": "2022-10-27T16:57:49.959679",
     "status": "completed"
    },
    "tags": []
   },
   "outputs": [],
   "source": [
    "idt3 =test_data[(test_data[\"SibSp\"]==0) &(test_data[\"Parch\"]==0) & (test_data[\"Pclass\"]==1) & (test_data[\"Age\"].isna())].index"
   ]
  },
  {
   "cell_type": "code",
   "execution_count": 161,
   "id": "938c953f",
   "metadata": {
    "execution": {
     "iopub.execute_input": "2022-10-27T16:57:50.136317Z",
     "iopub.status.busy": "2022-10-27T16:57:50.135953Z",
     "iopub.status.idle": "2022-10-27T16:57:50.143860Z",
     "shell.execute_reply": "2022-10-27T16:57:50.142603Z"
    },
    "papermill": {
     "duration": 0.064861,
     "end_time": "2022-10-27T16:57:50.147022",
     "exception": false,
     "start_time": "2022-10-27T16:57:50.082161",
     "status": "completed"
    },
    "tags": []
   },
   "outputs": [],
   "source": [
    "test_data[\"Age\"].loc[idt3]=test_data.loc[idt3][\"Age\"].replace(np.nan,39.4)"
   ]
  },
  {
   "cell_type": "code",
   "execution_count": null,
   "id": "a551ecd5",
   "metadata": {
    "papermill": {
     "duration": 0.054219,
     "end_time": "2022-10-27T16:57:50.256092",
     "exception": false,
     "start_time": "2022-10-27T16:57:50.201873",
     "status": "completed"
    },
    "tags": []
   },
   "outputs": [],
   "source": []
  },
  {
   "cell_type": "code",
   "execution_count": 162,
   "id": "3bc6eae6",
   "metadata": {
    "execution": {
     "iopub.execute_input": "2022-10-27T16:57:50.364423Z",
     "iopub.status.busy": "2022-10-27T16:57:50.364001Z",
     "iopub.status.idle": "2022-10-27T16:57:50.371606Z",
     "shell.execute_reply": "2022-10-27T16:57:50.369708Z"
    },
    "papermill": {
     "duration": 0.06383,
     "end_time": "2022-10-27T16:57:50.374011",
     "exception": false,
     "start_time": "2022-10-27T16:57:50.310181",
     "status": "completed"
    },
    "tags": []
   },
   "outputs": [],
   "source": [
    "zer_parch =test_data[(test_data[\"SibSp\"]!=0) &(test_data[\"Parch\"]==0)  & (test_data[\"Age\"].notna())]"
   ]
  },
  {
   "cell_type": "code",
   "execution_count": 163,
   "id": "b7f48eb3",
   "metadata": {
    "execution": {
     "iopub.execute_input": "2022-10-27T16:57:50.482042Z",
     "iopub.status.busy": "2022-10-27T16:57:50.481698Z",
     "iopub.status.idle": "2022-10-27T16:57:50.491489Z",
     "shell.execute_reply": "2022-10-27T16:57:50.490416Z"
    },
    "papermill": {
     "duration": 0.065751,
     "end_time": "2022-10-27T16:57:50.493336",
     "exception": false,
     "start_time": "2022-10-27T16:57:50.427585",
     "status": "completed"
    },
    "tags": []
   },
   "outputs": [
    {
     "name": "stderr",
     "output_type": "stream",
     "text": [
      "/opt/conda/lib/python3.7/site-packages/ipykernel_launcher.py:1: FutureWarning: Dropping of nuisance columns in DataFrame reductions (with 'numeric_only=None') is deprecated; in a future version this will raise TypeError.  Select only valid columns before calling the reduction.\n",
      "  \"\"\"Entry point for launching an IPython kernel.\n"
     ]
    },
    {
     "data": {
      "text/plain": [
       "PassengerId    1086.278689\n",
       "Pclass            1.786885\n",
       "Age              36.270492\n",
       "SibSp             1.147541\n",
       "Parch             0.000000\n",
       "Fare             50.673705\n",
       "dtype: float64"
      ]
     },
     "execution_count": 163,
     "metadata": {},
     "output_type": "execute_result"
    }
   ],
   "source": [
    "zer_parch.mean()"
   ]
  },
  {
   "cell_type": "code",
   "execution_count": 164,
   "id": "f5a6e522",
   "metadata": {
    "execution": {
     "iopub.execute_input": "2022-10-27T16:57:50.602846Z",
     "iopub.status.busy": "2022-10-27T16:57:50.602113Z",
     "iopub.status.idle": "2022-10-27T16:57:50.609412Z",
     "shell.execute_reply": "2022-10-27T16:57:50.608181Z"
    },
    "papermill": {
     "duration": 0.064616,
     "end_time": "2022-10-27T16:57:50.611327",
     "exception": false,
     "start_time": "2022-10-27T16:57:50.546711",
     "status": "completed"
    },
    "tags": []
   },
   "outputs": [],
   "source": [
    "idt4 =test_data[(test_data[\"SibSp\"]!=0) &(test_data[\"Parch\"]==0)  & (test_data[\"Age\"].isna())].index"
   ]
  },
  {
   "cell_type": "code",
   "execution_count": 165,
   "id": "2a53d3cf",
   "metadata": {
    "execution": {
     "iopub.execute_input": "2022-10-27T16:57:50.719279Z",
     "iopub.status.busy": "2022-10-27T16:57:50.718780Z",
     "iopub.status.idle": "2022-10-27T16:57:50.727102Z",
     "shell.execute_reply": "2022-10-27T16:57:50.725911Z"
    },
    "papermill": {
     "duration": 0.065185,
     "end_time": "2022-10-27T16:57:50.729006",
     "exception": false,
     "start_time": "2022-10-27T16:57:50.663821",
     "status": "completed"
    },
    "tags": []
   },
   "outputs": [],
   "source": [
    "test_data[\"Age\"].loc[idt4]=test_data.loc[idt4][\"Age\"].replace(np.nan,36.2)"
   ]
  },
  {
   "cell_type": "code",
   "execution_count": 166,
   "id": "9704a80a",
   "metadata": {
    "execution": {
     "iopub.execute_input": "2022-10-27T16:57:50.835340Z",
     "iopub.status.busy": "2022-10-27T16:57:50.835023Z",
     "iopub.status.idle": "2022-10-27T16:57:50.842294Z",
     "shell.execute_reply": "2022-10-27T16:57:50.840838Z"
    },
    "papermill": {
     "duration": 0.062302,
     "end_time": "2022-10-27T16:57:50.844302",
     "exception": false,
     "start_time": "2022-10-27T16:57:50.782000",
     "status": "completed"
    },
    "tags": []
   },
   "outputs": [],
   "source": [
    "zer_sib =test_data[(test_data[\"SibSp\"]==0) &(test_data[\"Parch\"]!=0)  & (test_data[\"Age\"].notna())]"
   ]
  },
  {
   "cell_type": "code",
   "execution_count": 167,
   "id": "66314e87",
   "metadata": {
    "execution": {
     "iopub.execute_input": "2022-10-27T16:57:50.949937Z",
     "iopub.status.busy": "2022-10-27T16:57:50.949592Z",
     "iopub.status.idle": "2022-10-27T16:57:50.961457Z",
     "shell.execute_reply": "2022-10-27T16:57:50.960466Z"
    },
    "papermill": {
     "duration": 0.06697,
     "end_time": "2022-10-27T16:57:50.963297",
     "exception": false,
     "start_time": "2022-10-27T16:57:50.896327",
     "status": "completed"
    },
    "tags": []
   },
   "outputs": [
    {
     "name": "stderr",
     "output_type": "stream",
     "text": [
      "/opt/conda/lib/python3.7/site-packages/ipykernel_launcher.py:1: FutureWarning: Dropping of nuisance columns in DataFrame reductions (with 'numeric_only=None') is deprecated; in a future version this will raise TypeError.  Select only valid columns before calling the reduction.\n",
      "  \"\"\"Entry point for launching an IPython kernel.\n"
     ]
    },
    {
     "data": {
      "text/plain": [
       "PassengerId    1109.142857\n",
       "Pclass            2.000000\n",
       "Age              29.220000\n",
       "SibSp             0.000000\n",
       "Parch             1.535714\n",
       "Fare             54.503125\n",
       "dtype: float64"
      ]
     },
     "execution_count": 167,
     "metadata": {},
     "output_type": "execute_result"
    }
   ],
   "source": [
    "zer_sib.mean()"
   ]
  },
  {
   "cell_type": "code",
   "execution_count": 168,
   "id": "25767fde",
   "metadata": {
    "execution": {
     "iopub.execute_input": "2022-10-27T16:57:51.071393Z",
     "iopub.status.busy": "2022-10-27T16:57:51.071019Z",
     "iopub.status.idle": "2022-10-27T16:57:51.077055Z",
     "shell.execute_reply": "2022-10-27T16:57:51.076379Z"
    },
    "papermill": {
     "duration": 0.062885,
     "end_time": "2022-10-27T16:57:51.078931",
     "exception": false,
     "start_time": "2022-10-27T16:57:51.016046",
     "status": "completed"
    },
    "tags": []
   },
   "outputs": [],
   "source": [
    "idt5 =test_data[(test_data[\"SibSp\"]==0) &(test_data[\"Parch\"]!=0)  & (test_data[\"Age\"].isna())].index"
   ]
  },
  {
   "cell_type": "code",
   "execution_count": 169,
   "id": "26b811f7",
   "metadata": {
    "execution": {
     "iopub.execute_input": "2022-10-27T16:57:51.190269Z",
     "iopub.status.busy": "2022-10-27T16:57:51.189916Z",
     "iopub.status.idle": "2022-10-27T16:57:51.197146Z",
     "shell.execute_reply": "2022-10-27T16:57:51.196202Z"
    },
    "papermill": {
     "duration": 0.066444,
     "end_time": "2022-10-27T16:57:51.199015",
     "exception": false,
     "start_time": "2022-10-27T16:57:51.132571",
     "status": "completed"
    },
    "tags": []
   },
   "outputs": [],
   "source": [
    "test_data[\"Age\"].loc[idt5]=test_data.loc[idt5][\"Age\"].replace(np.nan,29.2)"
   ]
  },
  {
   "cell_type": "code",
   "execution_count": 170,
   "id": "df574806",
   "metadata": {
    "execution": {
     "iopub.execute_input": "2022-10-27T16:57:51.304338Z",
     "iopub.status.busy": "2022-10-27T16:57:51.303976Z",
     "iopub.status.idle": "2022-10-27T16:57:51.310915Z",
     "shell.execute_reply": "2022-10-27T16:57:51.309441Z"
    },
    "papermill": {
     "duration": 0.062375,
     "end_time": "2022-10-27T16:57:51.313218",
     "exception": false,
     "start_time": "2022-10-27T16:57:51.250843",
     "status": "completed"
    },
    "tags": []
   },
   "outputs": [],
   "source": [
    "family =test_data[(test_data[\"SibSp\"]!=0) &(test_data[\"Parch\"]!=0)  & (test_data[\"Age\"].notna())]"
   ]
  },
  {
   "cell_type": "code",
   "execution_count": 171,
   "id": "19d9cfc1",
   "metadata": {
    "execution": {
     "iopub.execute_input": "2022-10-27T16:57:51.419428Z",
     "iopub.status.busy": "2022-10-27T16:57:51.419037Z",
     "iopub.status.idle": "2022-10-27T16:57:51.427408Z",
     "shell.execute_reply": "2022-10-27T16:57:51.426741Z"
    },
    "papermill": {
     "duration": 0.064097,
     "end_time": "2022-10-27T16:57:51.429423",
     "exception": false,
     "start_time": "2022-10-27T16:57:51.365326",
     "status": "completed"
    },
    "tags": []
   },
   "outputs": [
    {
     "name": "stderr",
     "output_type": "stream",
     "text": [
      "/opt/conda/lib/python3.7/site-packages/ipykernel_launcher.py:1: FutureWarning: Dropping of nuisance columns in DataFrame reductions (with 'numeric_only=None') is deprecated; in a future version this will raise TypeError.  Select only valid columns before calling the reduction.\n",
      "  \"\"\"Entry point for launching an IPython kernel.\n"
     ]
    },
    {
     "data": {
      "text/plain": [
       "PassengerId    1110.578947\n",
       "Pclass            2.140351\n",
       "Age              25.348070\n",
       "SibSp             1.578947\n",
       "Parch             1.561404\n",
       "Fare             69.982674\n",
       "dtype: float64"
      ]
     },
     "execution_count": 171,
     "metadata": {},
     "output_type": "execute_result"
    }
   ],
   "source": [
    "family.mean()"
   ]
  },
  {
   "cell_type": "code",
   "execution_count": 172,
   "id": "01c70b55",
   "metadata": {
    "execution": {
     "iopub.execute_input": "2022-10-27T16:57:51.540314Z",
     "iopub.status.busy": "2022-10-27T16:57:51.539721Z",
     "iopub.status.idle": "2022-10-27T16:57:51.545796Z",
     "shell.execute_reply": "2022-10-27T16:57:51.544917Z"
    },
    "papermill": {
     "duration": 0.065571,
     "end_time": "2022-10-27T16:57:51.548306",
     "exception": false,
     "start_time": "2022-10-27T16:57:51.482735",
     "status": "completed"
    },
    "tags": []
   },
   "outputs": [],
   "source": [
    "idt6 =test_data[(test_data[\"SibSp\"]!=0) &(test_data[\"Parch\"]!=0)  & (test_data[\"Age\"].isna())].index"
   ]
  },
  {
   "cell_type": "code",
   "execution_count": 173,
   "id": "8cd797d0",
   "metadata": {
    "execution": {
     "iopub.execute_input": "2022-10-27T16:57:51.658602Z",
     "iopub.status.busy": "2022-10-27T16:57:51.658241Z",
     "iopub.status.idle": "2022-10-27T16:57:51.665857Z",
     "shell.execute_reply": "2022-10-27T16:57:51.665034Z"
    },
    "papermill": {
     "duration": 0.06513,
     "end_time": "2022-10-27T16:57:51.668219",
     "exception": false,
     "start_time": "2022-10-27T16:57:51.603089",
     "status": "completed"
    },
    "tags": []
   },
   "outputs": [],
   "source": [
    "test_data[\"Age\"].loc[idt6]=test_data.loc[idt6][\"Age\"].replace(np.nan,25.3)"
   ]
  },
  {
   "cell_type": "code",
   "execution_count": 174,
   "id": "b5cf0d3d",
   "metadata": {
    "execution": {
     "iopub.execute_input": "2022-10-27T16:57:51.777753Z",
     "iopub.status.busy": "2022-10-27T16:57:51.776325Z",
     "iopub.status.idle": "2022-10-27T16:57:51.787593Z",
     "shell.execute_reply": "2022-10-27T16:57:51.786911Z"
    },
    "papermill": {
     "duration": 0.068514,
     "end_time": "2022-10-27T16:57:51.789757",
     "exception": false,
     "start_time": "2022-10-27T16:57:51.721243",
     "status": "completed"
    },
    "tags": []
   },
   "outputs": [
    {
     "name": "stdout",
     "output_type": "stream",
     "text": [
      "<class 'pandas.core.frame.DataFrame'>\n",
      "RangeIndex: 418 entries, 0 to 417\n",
      "Data columns (total 9 columns):\n",
      " #   Column       Non-Null Count  Dtype  \n",
      "---  ------       --------------  -----  \n",
      " 0   PassengerId  418 non-null    int64  \n",
      " 1   Pclass       418 non-null    int64  \n",
      " 2   Name         418 non-null    object \n",
      " 3   Sex          418 non-null    object \n",
      " 4   Age          418 non-null    float64\n",
      " 5   SibSp        418 non-null    int64  \n",
      " 6   Parch        418 non-null    int64  \n",
      " 7   Fare         417 non-null    float64\n",
      " 8   Embarked     418 non-null    object \n",
      "dtypes: float64(2), int64(4), object(3)\n",
      "memory usage: 29.5+ KB\n"
     ]
    }
   ],
   "source": [
    "test_data.info()"
   ]
  },
  {
   "cell_type": "code",
   "execution_count": 175,
   "id": "b83bc362",
   "metadata": {
    "execution": {
     "iopub.execute_input": "2022-10-27T16:57:51.899471Z",
     "iopub.status.busy": "2022-10-27T16:57:51.898307Z",
     "iopub.status.idle": "2022-10-27T16:57:51.910744Z",
     "shell.execute_reply": "2022-10-27T16:57:51.909517Z"
    },
    "papermill": {
     "duration": 0.068986,
     "end_time": "2022-10-27T16:57:51.912628",
     "exception": false,
     "start_time": "2022-10-27T16:57:51.843642",
     "status": "completed"
    },
    "tags": []
   },
   "outputs": [
    {
     "data": {
      "text/html": [
       "<div>\n",
       "<style scoped>\n",
       "    .dataframe tbody tr th:only-of-type {\n",
       "        vertical-align: middle;\n",
       "    }\n",
       "\n",
       "    .dataframe tbody tr th {\n",
       "        vertical-align: top;\n",
       "    }\n",
       "\n",
       "    .dataframe thead th {\n",
       "        text-align: right;\n",
       "    }\n",
       "</style>\n",
       "<table border=\"1\" class=\"dataframe\">\n",
       "  <thead>\n",
       "    <tr style=\"text-align: right;\">\n",
       "      <th></th>\n",
       "      <th>PassengerId</th>\n",
       "      <th>Pclass</th>\n",
       "      <th>Name</th>\n",
       "      <th>Sex</th>\n",
       "      <th>Age</th>\n",
       "      <th>SibSp</th>\n",
       "      <th>Parch</th>\n",
       "      <th>Fare</th>\n",
       "      <th>Embarked</th>\n",
       "    </tr>\n",
       "  </thead>\n",
       "  <tbody>\n",
       "    <tr>\n",
       "      <th>152</th>\n",
       "      <td>1044</td>\n",
       "      <td>3</td>\n",
       "      <td>Storey, Mr. Thomas</td>\n",
       "      <td>male</td>\n",
       "      <td>60.5</td>\n",
       "      <td>0</td>\n",
       "      <td>0</td>\n",
       "      <td>NaN</td>\n",
       "      <td>S</td>\n",
       "    </tr>\n",
       "  </tbody>\n",
       "</table>\n",
       "</div>"
      ],
      "text/plain": [
       "     PassengerId  Pclass                Name   Sex   Age  SibSp  Parch  Fare  \\\n",
       "152         1044       3  Storey, Mr. Thomas  male  60.5      0      0   NaN   \n",
       "\n",
       "    Embarked  \n",
       "152        S  "
      ]
     },
     "execution_count": 175,
     "metadata": {},
     "output_type": "execute_result"
    }
   ],
   "source": [
    "test_data[test_data[\"Fare\"].isna()]"
   ]
  },
  {
   "cell_type": "code",
   "execution_count": 176,
   "id": "6891c634",
   "metadata": {
    "execution": {
     "iopub.execute_input": "2022-10-27T16:57:52.021824Z",
     "iopub.status.busy": "2022-10-27T16:57:52.020859Z",
     "iopub.status.idle": "2022-10-27T16:57:52.030604Z",
     "shell.execute_reply": "2022-10-27T16:57:52.029745Z"
    },
    "papermill": {
     "duration": 0.067204,
     "end_time": "2022-10-27T16:57:52.032765",
     "exception": false,
     "start_time": "2022-10-27T16:57:51.965561",
     "status": "completed"
    },
    "tags": []
   },
   "outputs": [
    {
     "name": "stderr",
     "output_type": "stream",
     "text": [
      "/opt/conda/lib/python3.7/site-packages/ipykernel_launcher.py:1: FutureWarning: Dropping of nuisance columns in DataFrame reductions (with 'numeric_only=None') is deprecated; in a future version this will raise TypeError.  Select only valid columns before calling the reduction.\n",
      "  \"\"\"Entry point for launching an IPython kernel.\n"
     ]
    },
    {
     "data": {
      "text/plain": [
       "PassengerId    1100.500000\n",
       "Pclass            2.265550\n",
       "Age              29.969139\n",
       "SibSp             0.447368\n",
       "Parch             0.392344\n",
       "Fare             35.627188\n",
       "dtype: float64"
      ]
     },
     "execution_count": 176,
     "metadata": {},
     "output_type": "execute_result"
    }
   ],
   "source": [
    "test_data.mean()"
   ]
  },
  {
   "cell_type": "code",
   "execution_count": 177,
   "id": "04d1c63a",
   "metadata": {
    "execution": {
     "iopub.execute_input": "2022-10-27T16:57:52.142173Z",
     "iopub.status.busy": "2022-10-27T16:57:52.141621Z",
     "iopub.status.idle": "2022-10-27T16:57:52.148531Z",
     "shell.execute_reply": "2022-10-27T16:57:52.146722Z"
    },
    "papermill": {
     "duration": 0.065216,
     "end_time": "2022-10-27T16:57:52.150611",
     "exception": false,
     "start_time": "2022-10-27T16:57:52.085395",
     "status": "completed"
    },
    "tags": []
   },
   "outputs": [
    {
     "name": "stderr",
     "output_type": "stream",
     "text": [
      "/opt/conda/lib/python3.7/site-packages/pandas/core/indexing.py:1732: SettingWithCopyWarning: \n",
      "A value is trying to be set on a copy of a slice from a DataFrame\n",
      "\n",
      "See the caveats in the documentation: https://pandas.pydata.org/pandas-docs/stable/user_guide/indexing.html#returning-a-view-versus-a-copy\n",
      "  self._setitem_single_block(indexer, value, name)\n"
     ]
    }
   ],
   "source": [
    "test_data[\"Fare\"].loc[152] = 35.6"
   ]
  },
  {
   "cell_type": "code",
   "execution_count": 178,
   "id": "41c94d32",
   "metadata": {
    "execution": {
     "iopub.execute_input": "2022-10-27T16:57:52.258338Z",
     "iopub.status.busy": "2022-10-27T16:57:52.257914Z",
     "iopub.status.idle": "2022-10-27T16:57:52.263823Z",
     "shell.execute_reply": "2022-10-27T16:57:52.263197Z"
    },
    "papermill": {
     "duration": 0.061998,
     "end_time": "2022-10-27T16:57:52.265580",
     "exception": false,
     "start_time": "2022-10-27T16:57:52.203582",
     "status": "completed"
    },
    "tags": []
   },
   "outputs": [
    {
     "data": {
      "text/plain": [
       "35.6"
      ]
     },
     "execution_count": 178,
     "metadata": {},
     "output_type": "execute_result"
    }
   ],
   "source": [
    "test_data.loc[152][\"Fare\"]"
   ]
  },
  {
   "cell_type": "code",
   "execution_count": 179,
   "id": "50ab28d2",
   "metadata": {
    "execution": {
     "iopub.execute_input": "2022-10-27T16:57:52.374304Z",
     "iopub.status.busy": "2022-10-27T16:57:52.373449Z",
     "iopub.status.idle": "2022-10-27T16:57:52.379024Z",
     "shell.execute_reply": "2022-10-27T16:57:52.377583Z"
    },
    "papermill": {
     "duration": 0.062451,
     "end_time": "2022-10-27T16:57:52.381512",
     "exception": false,
     "start_time": "2022-10-27T16:57:52.319061",
     "status": "completed"
    },
    "tags": []
   },
   "outputs": [],
   "source": [
    "test_data=test_data.set_index(test_data[\"PassengerId\"])"
   ]
  },
  {
   "cell_type": "code",
   "execution_count": 180,
   "id": "72e001e2",
   "metadata": {
    "execution": {
     "iopub.execute_input": "2022-10-27T16:57:52.493270Z",
     "iopub.status.busy": "2022-10-27T16:57:52.491825Z",
     "iopub.status.idle": "2022-10-27T16:57:52.498553Z",
     "shell.execute_reply": "2022-10-27T16:57:52.497500Z"
    },
    "papermill": {
     "duration": 0.065028,
     "end_time": "2022-10-27T16:57:52.500886",
     "exception": false,
     "start_time": "2022-10-27T16:57:52.435858",
     "status": "completed"
    },
    "tags": []
   },
   "outputs": [],
   "source": [
    "test_data=test_data.drop(\"PassengerId\",axis=1)"
   ]
  },
  {
   "cell_type": "code",
   "execution_count": 181,
   "id": "70b922e5",
   "metadata": {
    "execution": {
     "iopub.execute_input": "2022-10-27T16:57:52.613347Z",
     "iopub.status.busy": "2022-10-27T16:57:52.612802Z",
     "iopub.status.idle": "2022-10-27T16:57:52.621099Z",
     "shell.execute_reply": "2022-10-27T16:57:52.620146Z"
    },
    "papermill": {
     "duration": 0.06835,
     "end_time": "2022-10-27T16:57:52.623510",
     "exception": false,
     "start_time": "2022-10-27T16:57:52.555160",
     "status": "completed"
    },
    "tags": []
   },
   "outputs": [],
   "source": [
    "test_data=test_data.drop(\"Name\",axis=1)"
   ]
  },
  {
   "cell_type": "code",
   "execution_count": null,
   "id": "a04453c2",
   "metadata": {
    "papermill": {
     "duration": 0.052931,
     "end_time": "2022-10-27T16:57:52.730003",
     "exception": false,
     "start_time": "2022-10-27T16:57:52.677072",
     "status": "completed"
    },
    "tags": []
   },
   "outputs": [],
   "source": []
  },
  {
   "cell_type": "code",
   "execution_count": 182,
   "id": "da1782a7",
   "metadata": {
    "execution": {
     "iopub.execute_input": "2022-10-27T16:57:52.838735Z",
     "iopub.status.busy": "2022-10-27T16:57:52.838296Z",
     "iopub.status.idle": "2022-10-27T16:57:52.848656Z",
     "shell.execute_reply": "2022-10-27T16:57:52.847851Z"
    },
    "papermill": {
     "duration": 0.067068,
     "end_time": "2022-10-27T16:57:52.850699",
     "exception": false,
     "start_time": "2022-10-27T16:57:52.783631",
     "status": "completed"
    },
    "tags": []
   },
   "outputs": [],
   "source": [
    "test_data=pd.get_dummies(test_data , columns=[\"Embarked\",\"Sex\"],drop_first=True)"
   ]
  },
  {
   "cell_type": "code",
   "execution_count": 183,
   "id": "d69b447a",
   "metadata": {
    "execution": {
     "iopub.execute_input": "2022-10-27T16:57:52.959439Z",
     "iopub.status.busy": "2022-10-27T16:57:52.959025Z",
     "iopub.status.idle": "2022-10-27T16:57:52.964265Z",
     "shell.execute_reply": "2022-10-27T16:57:52.963671Z"
    },
    "papermill": {
     "duration": 0.062007,
     "end_time": "2022-10-27T16:57:52.966046",
     "exception": false,
     "start_time": "2022-10-27T16:57:52.904039",
     "status": "completed"
    },
    "tags": []
   },
   "outputs": [
    {
     "data": {
      "text/plain": [
       "array([ True,  True,  True,  True,  True,  True,  True,  True])"
      ]
     },
     "execution_count": 183,
     "metadata": {},
     "output_type": "execute_result"
    }
   ],
   "source": [
    "X.columns == test_data.columns"
   ]
  },
  {
   "cell_type": "code",
   "execution_count": null,
   "id": "7237f352",
   "metadata": {
    "papermill": {
     "duration": 0.054843,
     "end_time": "2022-10-27T16:57:53.075389",
     "exception": false,
     "start_time": "2022-10-27T16:57:53.020546",
     "status": "completed"
    },
    "tags": []
   },
   "outputs": [],
   "source": []
  },
  {
   "cell_type": "code",
   "execution_count": 184,
   "id": "73ecc48e",
   "metadata": {
    "execution": {
     "iopub.execute_input": "2022-10-27T16:57:53.185723Z",
     "iopub.status.busy": "2022-10-27T16:57:53.185375Z",
     "iopub.status.idle": "2022-10-27T16:57:53.201286Z",
     "shell.execute_reply": "2022-10-27T16:57:53.200225Z"
    },
    "papermill": {
     "duration": 0.071906,
     "end_time": "2022-10-27T16:57:53.203590",
     "exception": false,
     "start_time": "2022-10-27T16:57:53.131684",
     "status": "completed"
    },
    "tags": []
   },
   "outputs": [],
   "source": [
    "pred = svc.predict(scaler.transform(test_data))"
   ]
  },
  {
   "cell_type": "code",
   "execution_count": 185,
   "id": "459704b5",
   "metadata": {
    "execution": {
     "iopub.execute_input": "2022-10-27T16:57:53.313425Z",
     "iopub.status.busy": "2022-10-27T16:57:53.313057Z",
     "iopub.status.idle": "2022-10-27T16:57:53.319389Z",
     "shell.execute_reply": "2022-10-27T16:57:53.318532Z"
    },
    "papermill": {
     "duration": 0.064103,
     "end_time": "2022-10-27T16:57:53.321394",
     "exception": false,
     "start_time": "2022-10-27T16:57:53.257291",
     "status": "completed"
    },
    "tags": []
   },
   "outputs": [
    {
     "data": {
      "text/plain": [
       "array([0, 1, 0, 0, 1, 0, 1, 0, 1, 0, 0, 0, 1, 0, 1, 1, 0, 0, 1, 1, 0, 0,\n",
       "       1, 0, 1, 0, 1, 0, 0, 0, 0, 0, 0, 0, 0, 0, 1, 1, 0, 0, 0, 0, 0, 1,\n",
       "       1, 0, 0, 0, 1, 1, 0, 0, 1, 1, 0, 0, 0, 0, 0, 1, 0, 0, 0, 1, 0, 1,\n",
       "       1, 0, 0, 0, 1, 0, 1, 0, 1, 0, 0, 1, 0, 1, 1, 0, 0, 0, 0, 0, 1, 1,\n",
       "       1, 1, 1, 0, 1, 0, 0, 0, 1, 0, 1, 0, 1, 0, 0, 0, 1, 0, 0, 0, 0, 0,\n",
       "       0, 1, 1, 1, 1, 0, 0, 1, 0, 1, 1, 0, 1, 0, 0, 1, 0, 1, 0, 0, 0, 0,\n",
       "       0, 0, 0, 0, 0, 0, 1, 0, 0, 1, 0, 0, 0, 0, 0, 0, 0, 0, 1, 0, 0, 1,\n",
       "       0, 0, 1, 1, 0, 1, 1, 1, 1, 0, 0, 1, 0, 0, 1, 1, 0, 0, 0, 0, 0, 1,\n",
       "       1, 0, 1, 1, 0, 0, 1, 0, 1, 0, 1, 0, 0, 0, 0, 0, 0, 0, 1, 0, 1, 1,\n",
       "       0, 1, 1, 1, 0, 1, 0, 0, 1, 0, 1, 0, 0, 0, 0, 1, 0, 0, 1, 0, 1, 0,\n",
       "       1, 0, 1, 0, 1, 1, 0, 1, 0, 0, 0, 1, 0, 0, 0, 0, 0, 0, 1, 1, 1, 1,\n",
       "       0, 0, 0, 0, 1, 0, 1, 1, 1, 0, 0, 0, 0, 0, 0, 0, 1, 0, 0, 0, 1, 1,\n",
       "       0, 0, 0, 0, 1, 0, 0, 0, 1, 1, 0, 1, 0, 0, 0, 0, 1, 1, 1, 1, 1, 0,\n",
       "       0, 0, 0, 0, 0, 1, 0, 0, 0, 0, 1, 0, 0, 0, 0, 0, 0, 0, 1, 1, 0, 1,\n",
       "       0, 1, 0, 0, 0, 1, 1, 1, 0, 0, 0, 0, 0, 0, 0, 0, 1, 0, 1, 0, 0, 0,\n",
       "       1, 0, 0, 1, 0, 0, 0, 0, 0, 0, 0, 0, 0, 1, 0, 1, 0, 1, 0, 1, 1, 0,\n",
       "       0, 0, 1, 0, 1, 0, 0, 1, 0, 1, 1, 0, 1, 0, 0, 1, 1, 0, 0, 1, 0, 0,\n",
       "       1, 1, 0, 0, 0, 0, 0, 0, 1, 1, 0, 1, 0, 0, 0, 0, 0, 1, 1, 0, 0, 1,\n",
       "       0, 1, 0, 0, 1, 0, 1, 0, 0, 0, 0, 0, 1, 1, 1, 1, 1, 0, 1, 0, 0, 0])"
      ]
     },
     "execution_count": 185,
     "metadata": {},
     "output_type": "execute_result"
    }
   ],
   "source": [
    "pred"
   ]
  },
  {
   "cell_type": "code",
   "execution_count": null,
   "id": "1d728edc",
   "metadata": {
    "papermill": {
     "duration": 0.053446,
     "end_time": "2022-10-27T16:57:53.428894",
     "exception": false,
     "start_time": "2022-10-27T16:57:53.375448",
     "status": "completed"
    },
    "tags": []
   },
   "outputs": [],
   "source": []
  },
  {
   "cell_type": "code",
   "execution_count": 186,
   "id": "43b7fbb0",
   "metadata": {
    "execution": {
     "iopub.execute_input": "2022-10-27T16:57:53.540175Z",
     "iopub.status.busy": "2022-10-27T16:57:53.539513Z",
     "iopub.status.idle": "2022-10-27T16:57:53.545027Z",
     "shell.execute_reply": "2022-10-27T16:57:53.543943Z"
    },
    "papermill": {
     "duration": 0.065408,
     "end_time": "2022-10-27T16:57:53.547585",
     "exception": false,
     "start_time": "2022-10-27T16:57:53.482177",
     "status": "completed"
    },
    "tags": []
   },
   "outputs": [],
   "source": [
    "output = pd.DataFrame({'PassengerId': test_data.index, 'Survived': pred})\n"
   ]
  },
  {
   "cell_type": "code",
   "execution_count": 187,
   "id": "f2d20fe6",
   "metadata": {
    "execution": {
     "iopub.execute_input": "2022-10-27T16:57:53.657198Z",
     "iopub.status.busy": "2022-10-27T16:57:53.656596Z",
     "iopub.status.idle": "2022-10-27T16:57:53.665911Z",
     "shell.execute_reply": "2022-10-27T16:57:53.665223Z"
    },
    "papermill": {
     "duration": 0.065341,
     "end_time": "2022-10-27T16:57:53.667613",
     "exception": false,
     "start_time": "2022-10-27T16:57:53.602272",
     "status": "completed"
    },
    "tags": []
   },
   "outputs": [
    {
     "data": {
      "text/html": [
       "<div>\n",
       "<style scoped>\n",
       "    .dataframe tbody tr th:only-of-type {\n",
       "        vertical-align: middle;\n",
       "    }\n",
       "\n",
       "    .dataframe tbody tr th {\n",
       "        vertical-align: top;\n",
       "    }\n",
       "\n",
       "    .dataframe thead th {\n",
       "        text-align: right;\n",
       "    }\n",
       "</style>\n",
       "<table border=\"1\" class=\"dataframe\">\n",
       "  <thead>\n",
       "    <tr style=\"text-align: right;\">\n",
       "      <th></th>\n",
       "      <th>PassengerId</th>\n",
       "      <th>Survived</th>\n",
       "    </tr>\n",
       "  </thead>\n",
       "  <tbody>\n",
       "    <tr>\n",
       "      <th>0</th>\n",
       "      <td>892</td>\n",
       "      <td>0</td>\n",
       "    </tr>\n",
       "    <tr>\n",
       "      <th>1</th>\n",
       "      <td>893</td>\n",
       "      <td>1</td>\n",
       "    </tr>\n",
       "    <tr>\n",
       "      <th>2</th>\n",
       "      <td>894</td>\n",
       "      <td>0</td>\n",
       "    </tr>\n",
       "    <tr>\n",
       "      <th>3</th>\n",
       "      <td>895</td>\n",
       "      <td>0</td>\n",
       "    </tr>\n",
       "    <tr>\n",
       "      <th>4</th>\n",
       "      <td>896</td>\n",
       "      <td>1</td>\n",
       "    </tr>\n",
       "    <tr>\n",
       "      <th>...</th>\n",
       "      <td>...</td>\n",
       "      <td>...</td>\n",
       "    </tr>\n",
       "    <tr>\n",
       "      <th>413</th>\n",
       "      <td>1305</td>\n",
       "      <td>0</td>\n",
       "    </tr>\n",
       "    <tr>\n",
       "      <th>414</th>\n",
       "      <td>1306</td>\n",
       "      <td>1</td>\n",
       "    </tr>\n",
       "    <tr>\n",
       "      <th>415</th>\n",
       "      <td>1307</td>\n",
       "      <td>0</td>\n",
       "    </tr>\n",
       "    <tr>\n",
       "      <th>416</th>\n",
       "      <td>1308</td>\n",
       "      <td>0</td>\n",
       "    </tr>\n",
       "    <tr>\n",
       "      <th>417</th>\n",
       "      <td>1309</td>\n",
       "      <td>0</td>\n",
       "    </tr>\n",
       "  </tbody>\n",
       "</table>\n",
       "<p>418 rows × 2 columns</p>\n",
       "</div>"
      ],
      "text/plain": [
       "     PassengerId  Survived\n",
       "0            892         0\n",
       "1            893         1\n",
       "2            894         0\n",
       "3            895         0\n",
       "4            896         1\n",
       "..           ...       ...\n",
       "413         1305         0\n",
       "414         1306         1\n",
       "415         1307         0\n",
       "416         1308         0\n",
       "417         1309         0\n",
       "\n",
       "[418 rows x 2 columns]"
      ]
     },
     "execution_count": 187,
     "metadata": {},
     "output_type": "execute_result"
    }
   ],
   "source": [
    "output"
   ]
  },
  {
   "cell_type": "code",
   "execution_count": 188,
   "id": "349bd425",
   "metadata": {
    "execution": {
     "iopub.execute_input": "2022-10-27T16:57:53.777125Z",
     "iopub.status.busy": "2022-10-27T16:57:53.776509Z",
     "iopub.status.idle": "2022-10-27T16:57:53.783672Z",
     "shell.execute_reply": "2022-10-27T16:57:53.782300Z"
    },
    "papermill": {
     "duration": 0.065753,
     "end_time": "2022-10-27T16:57:53.786885",
     "exception": false,
     "start_time": "2022-10-27T16:57:53.721132",
     "status": "completed"
    },
    "tags": []
   },
   "outputs": [
    {
     "name": "stdout",
     "output_type": "stream",
     "text": [
      "Your submission was successfully saved!\n"
     ]
    }
   ],
   "source": [
    "output.to_csv('submission.csv', index=False)\n",
    "print(\"Your submission was successfully saved!\")"
   ]
  },
  {
   "cell_type": "code",
   "execution_count": null,
   "id": "8f1c8690",
   "metadata": {
    "papermill": {
     "duration": 0.053595,
     "end_time": "2022-10-27T16:57:53.895318",
     "exception": false,
     "start_time": "2022-10-27T16:57:53.841723",
     "status": "completed"
    },
    "tags": []
   },
   "outputs": [],
   "source": []
  }
 ],
 "metadata": {
  "kernelspec": {
   "display_name": "Python 3",
   "language": "python",
   "name": "python3"
  },
  "language_info": {
   "codemirror_mode": {
    "name": "ipython",
    "version": 3
   },
   "file_extension": ".py",
   "mimetype": "text/x-python",
   "name": "python",
   "nbconvert_exporter": "python",
   "pygments_lexer": "ipython3",
   "version": "3.7.12"
  },
  "papermill": {
   "default_parameters": {},
   "duration": 41.318147,
   "end_time": "2022-10-27T16:57:54.772080",
   "environment_variables": {},
   "exception": null,
   "input_path": "__notebook__.ipynb",
   "output_path": "__notebook__.ipynb",
   "parameters": {},
   "start_time": "2022-10-27T16:57:13.453933",
   "version": "2.3.4"
  }
 },
 "nbformat": 4,
 "nbformat_minor": 5
}
